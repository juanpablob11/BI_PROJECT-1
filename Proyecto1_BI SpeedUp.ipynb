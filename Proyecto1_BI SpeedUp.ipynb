{
  "cells": [
    {
      "cell_type": "markdown",
      "metadata": {
        "id": "ncwsXz1pOXLB"
      },
      "source": [
        "# **PROYECTO 1 BI - DETECCIÓN DE FAKE NEWS**\n",
        "---\n",
        "\n",
        "Integrantes equipo #11:\n",
        "*   Estudiante #1: Juan Pablo Barón - 202210502\n",
        "*   Estudiante #2: María José Amorocho - 202220179\n",
        "*   Estudiante #3: Julian Mondragón - 202221122\n",
        "\n",
        "---"
      ]
    },
    {
      "cell_type": "markdown",
      "metadata": {},
      "source": [
        "# 0. Carga de datos"
      ]
    },
    {
      "cell_type": "code",
      "execution_count": 7,
      "metadata": {},
      "outputs": [
        {
          "name": "stdout",
          "output_type": "stream",
          "text": [
            "Requirement already satisfied: num2words in /home/juanp_baron11/Environments/ml/lib/python3.11/site-packages (0.5.14)\n",
            "Requirement already satisfied: docopt>=0.6.2 in /home/juanp_baron11/Environments/ml/lib/python3.11/site-packages (from num2words) (0.6.2)\n",
            "Requirement already satisfied: spacy in /home/juanp_baron11/Environments/ml/lib/python3.11/site-packages (3.8.4)\n",
            "Requirement already satisfied: spacy-legacy<3.1.0,>=3.0.11 in /home/juanp_baron11/Environments/ml/lib/python3.11/site-packages (from spacy) (3.0.12)\n",
            "Requirement already satisfied: spacy-loggers<2.0.0,>=1.0.0 in /home/juanp_baron11/Environments/ml/lib/python3.11/site-packages (from spacy) (1.0.5)\n",
            "Requirement already satisfied: murmurhash<1.1.0,>=0.28.0 in /home/juanp_baron11/Environments/ml/lib/python3.11/site-packages (from spacy) (1.0.12)\n",
            "Requirement already satisfied: cymem<2.1.0,>=2.0.2 in /home/juanp_baron11/Environments/ml/lib/python3.11/site-packages (from spacy) (2.0.11)\n",
            "Requirement already satisfied: preshed<3.1.0,>=3.0.2 in /home/juanp_baron11/Environments/ml/lib/python3.11/site-packages (from spacy) (3.0.9)\n",
            "Requirement already satisfied: thinc<8.4.0,>=8.3.4 in /home/juanp_baron11/Environments/ml/lib/python3.11/site-packages (from spacy) (8.3.4)\n",
            "Requirement already satisfied: wasabi<1.2.0,>=0.9.1 in /home/juanp_baron11/Environments/ml/lib/python3.11/site-packages (from spacy) (1.1.3)\n",
            "Requirement already satisfied: srsly<3.0.0,>=2.4.3 in /home/juanp_baron11/Environments/ml/lib/python3.11/site-packages (from spacy) (2.5.1)\n",
            "Requirement already satisfied: catalogue<2.1.0,>=2.0.6 in /home/juanp_baron11/Environments/ml/lib/python3.11/site-packages (from spacy) (2.0.10)\n",
            "Requirement already satisfied: weasel<0.5.0,>=0.1.0 in /home/juanp_baron11/Environments/ml/lib/python3.11/site-packages (from spacy) (0.4.1)\n",
            "Requirement already satisfied: typer<1.0.0,>=0.3.0 in /home/juanp_baron11/Environments/ml/lib/python3.11/site-packages (from spacy) (0.15.1)\n",
            "Requirement already satisfied: tqdm<5.0.0,>=4.38.0 in /home/juanp_baron11/Environments/ml/lib/python3.11/site-packages (from spacy) (4.67.1)\n",
            "Requirement already satisfied: numpy>=1.19.0 in /home/juanp_baron11/Environments/ml/lib/python3.11/site-packages (from spacy) (2.0.2)\n",
            "Requirement already satisfied: requests<3.0.0,>=2.13.0 in /home/juanp_baron11/Environments/ml/lib/python3.11/site-packages (from spacy) (2.32.3)\n",
            "Requirement already satisfied: pydantic!=1.8,!=1.8.1,<3.0.0,>=1.7.4 in /home/juanp_baron11/Environments/ml/lib/python3.11/site-packages (from spacy) (2.10.6)\n",
            "Requirement already satisfied: jinja2 in /home/juanp_baron11/Environments/ml/lib/python3.11/site-packages (from spacy) (3.1.5)\n",
            "Requirement already satisfied: setuptools in /home/juanp_baron11/Environments/ml/lib/python3.11/site-packages (from spacy) (69.0.2)\n",
            "Requirement already satisfied: packaging>=20.0 in /home/juanp_baron11/Environments/ml/lib/python3.11/site-packages (from spacy) (24.2)\n",
            "Requirement already satisfied: langcodes<4.0.0,>=3.2.0 in /home/juanp_baron11/Environments/ml/lib/python3.11/site-packages (from spacy) (3.5.0)\n",
            "Requirement already satisfied: language-data>=1.2 in /home/juanp_baron11/Environments/ml/lib/python3.11/site-packages (from langcodes<4.0.0,>=3.2.0->spacy) (1.3.0)\n",
            "Requirement already satisfied: annotated-types>=0.6.0 in /home/juanp_baron11/Environments/ml/lib/python3.11/site-packages (from pydantic!=1.8,!=1.8.1,<3.0.0,>=1.7.4->spacy) (0.7.0)\n",
            "Requirement already satisfied: pydantic-core==2.27.2 in /home/juanp_baron11/Environments/ml/lib/python3.11/site-packages (from pydantic!=1.8,!=1.8.1,<3.0.0,>=1.7.4->spacy) (2.27.2)\n",
            "Requirement already satisfied: typing-extensions>=4.12.2 in /home/juanp_baron11/Environments/ml/lib/python3.11/site-packages (from pydantic!=1.8,!=1.8.1,<3.0.0,>=1.7.4->spacy) (4.12.2)\n",
            "Requirement already satisfied: charset-normalizer<4,>=2 in /home/juanp_baron11/Environments/ml/lib/python3.11/site-packages (from requests<3.0.0,>=2.13.0->spacy) (3.4.1)\n",
            "Requirement already satisfied: idna<4,>=2.5 in /home/juanp_baron11/Environments/ml/lib/python3.11/site-packages (from requests<3.0.0,>=2.13.0->spacy) (3.10)\n",
            "Requirement already satisfied: urllib3<3,>=1.21.1 in /home/juanp_baron11/Environments/ml/lib/python3.11/site-packages (from requests<3.0.0,>=2.13.0->spacy) (2.3.0)\n",
            "Requirement already satisfied: certifi>=2017.4.17 in /home/juanp_baron11/Environments/ml/lib/python3.11/site-packages (from requests<3.0.0,>=2.13.0->spacy) (2024.12.14)\n",
            "Requirement already satisfied: blis<1.3.0,>=1.2.0 in /home/juanp_baron11/Environments/ml/lib/python3.11/site-packages (from thinc<8.4.0,>=8.3.4->spacy) (1.2.0)\n",
            "Requirement already satisfied: confection<1.0.0,>=0.0.1 in /home/juanp_baron11/Environments/ml/lib/python3.11/site-packages (from thinc<8.4.0,>=8.3.4->spacy) (0.1.5)\n",
            "Requirement already satisfied: click>=8.0.0 in /home/juanp_baron11/Environments/ml/lib/python3.11/site-packages (from typer<1.0.0,>=0.3.0->spacy) (8.1.8)\n",
            "Requirement already satisfied: shellingham>=1.3.0 in /home/juanp_baron11/Environments/ml/lib/python3.11/site-packages (from typer<1.0.0,>=0.3.0->spacy) (1.5.4)\n",
            "Requirement already satisfied: rich>=10.11.0 in /home/juanp_baron11/Environments/ml/lib/python3.11/site-packages (from typer<1.0.0,>=0.3.0->spacy) (13.9.4)\n",
            "Requirement already satisfied: cloudpathlib<1.0.0,>=0.7.0 in /home/juanp_baron11/Environments/ml/lib/python3.11/site-packages (from weasel<0.5.0,>=0.1.0->spacy) (0.20.0)\n",
            "Requirement already satisfied: smart-open<8.0.0,>=5.2.1 in /home/juanp_baron11/Environments/ml/lib/python3.11/site-packages (from weasel<0.5.0,>=0.1.0->spacy) (7.1.0)\n",
            "Requirement already satisfied: MarkupSafe>=2.0 in /home/juanp_baron11/Environments/ml/lib/python3.11/site-packages (from jinja2->spacy) (3.0.2)\n",
            "Requirement already satisfied: marisa-trie>=1.1.0 in /home/juanp_baron11/Environments/ml/lib/python3.11/site-packages (from language-data>=1.2->langcodes<4.0.0,>=3.2.0->spacy) (1.2.1)\n",
            "Requirement already satisfied: markdown-it-py>=2.2.0 in /home/juanp_baron11/Environments/ml/lib/python3.11/site-packages (from rich>=10.11.0->typer<1.0.0,>=0.3.0->spacy) (3.0.0)\n",
            "Requirement already satisfied: pygments<3.0.0,>=2.13.0 in /home/juanp_baron11/Environments/ml/lib/python3.11/site-packages (from rich>=10.11.0->typer<1.0.0,>=0.3.0->spacy) (2.19.1)\n",
            "Requirement already satisfied: wrapt in /home/juanp_baron11/Environments/ml/lib/python3.11/site-packages (from smart-open<8.0.0,>=5.2.1->weasel<0.5.0,>=0.1.0->spacy) (1.17.2)\n",
            "Requirement already satisfied: mdurl~=0.1 in /home/juanp_baron11/Environments/ml/lib/python3.11/site-packages (from markdown-it-py>=2.2.0->rich>=10.11.0->typer<1.0.0,>=0.3.0->spacy) (0.1.2)\n",
            "Collecting es-core-news-sm==3.8.0\n",
            "  Downloading https://github.com/explosion/spacy-models/releases/download/es_core_news_sm-3.8.0/es_core_news_sm-3.8.0-py3-none-any.whl (12.9 MB)\n",
            "\u001b[2K     \u001b[90m━━━━━━━━━━━━━━━━━━━━━━━━━━━━━━━━━━━━━━━━\u001b[0m \u001b[32m12.9/12.9 MB\u001b[0m \u001b[31m11.4 MB/s\u001b[0m eta \u001b[36m0:00:00\u001b[0m00:01\u001b[0m00:01\u001b[0m\n",
            "\u001b[?25h\u001b[38;5;2m✔ Download and installation successful\u001b[0m\n",
            "You can now load the package via spacy.load('es_core_news_sm')\n",
            "Requirement already satisfied: swifter in /home/juanp_baron11/Environments/ml/lib/python3.11/site-packages (1.4.0)\n",
            "Requirement already satisfied: pandas>=1.0.0 in /home/juanp_baron11/Environments/ml/lib/python3.11/site-packages (from swifter) (2.2.3)\n",
            "Requirement already satisfied: psutil>=5.6.6 in /home/juanp_baron11/Environments/ml/lib/python3.11/site-packages (from swifter) (6.1.1)\n",
            "Requirement already satisfied: dask>=2.10.0 in /home/juanp_baron11/Environments/ml/lib/python3.11/site-packages (from dask[dataframe]>=2.10.0->swifter) (2025.2.0)\n",
            "Requirement already satisfied: tqdm>=4.33.0 in /home/juanp_baron11/Environments/ml/lib/python3.11/site-packages (from swifter) (4.67.1)\n",
            "Requirement already satisfied: click>=8.1 in /home/juanp_baron11/Environments/ml/lib/python3.11/site-packages (from dask>=2.10.0->dask[dataframe]>=2.10.0->swifter) (8.1.8)\n",
            "Requirement already satisfied: cloudpickle>=3.0.0 in /home/juanp_baron11/Environments/ml/lib/python3.11/site-packages (from dask>=2.10.0->dask[dataframe]>=2.10.0->swifter) (3.1.1)\n",
            "Requirement already satisfied: fsspec>=2021.09.0 in /home/juanp_baron11/Environments/ml/lib/python3.11/site-packages (from dask>=2.10.0->dask[dataframe]>=2.10.0->swifter) (2025.2.0)\n",
            "Requirement already satisfied: packaging>=20.0 in /home/juanp_baron11/Environments/ml/lib/python3.11/site-packages (from dask>=2.10.0->dask[dataframe]>=2.10.0->swifter) (24.2)\n",
            "Requirement already satisfied: partd>=1.4.0 in /home/juanp_baron11/Environments/ml/lib/python3.11/site-packages (from dask>=2.10.0->dask[dataframe]>=2.10.0->swifter) (1.4.2)\n",
            "Requirement already satisfied: pyyaml>=5.3.1 in /home/juanp_baron11/Environments/ml/lib/python3.11/site-packages (from dask>=2.10.0->dask[dataframe]>=2.10.0->swifter) (6.0.2)\n",
            "Requirement already satisfied: toolz>=0.10.0 in /home/juanp_baron11/Environments/ml/lib/python3.11/site-packages (from dask>=2.10.0->dask[dataframe]>=2.10.0->swifter) (1.0.0)\n",
            "Requirement already satisfied: importlib_metadata>=4.13.0 in /home/juanp_baron11/Environments/ml/lib/python3.11/site-packages (from dask>=2.10.0->dask[dataframe]>=2.10.0->swifter) (8.6.1)\n",
            "Requirement already satisfied: pyarrow>=14.0.1 in /home/juanp_baron11/Environments/ml/lib/python3.11/site-packages (from dask[dataframe]>=2.10.0->swifter) (19.0.1)\n",
            "Requirement already satisfied: numpy>=1.23.2 in /home/juanp_baron11/Environments/ml/lib/python3.11/site-packages (from pandas>=1.0.0->swifter) (2.0.2)\n",
            "Requirement already satisfied: python-dateutil>=2.8.2 in /home/juanp_baron11/Environments/ml/lib/python3.11/site-packages (from pandas>=1.0.0->swifter) (2.9.0.post0)\n",
            "Requirement already satisfied: pytz>=2020.1 in /home/juanp_baron11/Environments/ml/lib/python3.11/site-packages (from pandas>=1.0.0->swifter) (2024.2)\n",
            "Requirement already satisfied: tzdata>=2022.7 in /home/juanp_baron11/Environments/ml/lib/python3.11/site-packages (from pandas>=1.0.0->swifter) (2025.1)\n",
            "Requirement already satisfied: zipp>=3.20 in /home/juanp_baron11/Environments/ml/lib/python3.11/site-packages (from importlib_metadata>=4.13.0->dask>=2.10.0->dask[dataframe]>=2.10.0->swifter) (3.21.0)\n",
            "Requirement already satisfied: locket in /home/juanp_baron11/Environments/ml/lib/python3.11/site-packages (from partd>=1.4.0->dask>=2.10.0->dask[dataframe]>=2.10.0->swifter) (1.0.0)\n",
            "Requirement already satisfied: six>=1.5 in /home/juanp_baron11/Environments/ml/lib/python3.11/site-packages (from python-dateutil>=2.8.2->pandas>=1.0.0->swifter) (1.17.0)\n",
            "Requirement already satisfied: seaborn in /home/juanp_baron11/Environments/ml/lib/python3.11/site-packages (0.13.2)\n",
            "Requirement already satisfied: numpy!=1.24.0,>=1.20 in /home/juanp_baron11/Environments/ml/lib/python3.11/site-packages (from seaborn) (2.0.2)\n",
            "Requirement already satisfied: pandas>=1.2 in /home/juanp_baron11/Environments/ml/lib/python3.11/site-packages (from seaborn) (2.2.3)\n",
            "Requirement already satisfied: matplotlib!=3.6.1,>=3.4 in /home/juanp_baron11/Environments/ml/lib/python3.11/site-packages (from seaborn) (3.10.0)\n",
            "Requirement already satisfied: contourpy>=1.0.1 in /home/juanp_baron11/Environments/ml/lib/python3.11/site-packages (from matplotlib!=3.6.1,>=3.4->seaborn) (1.3.1)\n",
            "Requirement already satisfied: cycler>=0.10 in /home/juanp_baron11/Environments/ml/lib/python3.11/site-packages (from matplotlib!=3.6.1,>=3.4->seaborn) (0.12.1)\n",
            "Requirement already satisfied: fonttools>=4.22.0 in /home/juanp_baron11/Environments/ml/lib/python3.11/site-packages (from matplotlib!=3.6.1,>=3.4->seaborn) (4.55.7)\n",
            "Requirement already satisfied: kiwisolver>=1.3.1 in /home/juanp_baron11/Environments/ml/lib/python3.11/site-packages (from matplotlib!=3.6.1,>=3.4->seaborn) (1.4.8)\n",
            "Requirement already satisfied: packaging>=20.0 in /home/juanp_baron11/Environments/ml/lib/python3.11/site-packages (from matplotlib!=3.6.1,>=3.4->seaborn) (24.2)\n",
            "Requirement already satisfied: pillow>=8 in /home/juanp_baron11/Environments/ml/lib/python3.11/site-packages (from matplotlib!=3.6.1,>=3.4->seaborn) (11.1.0)\n",
            "Requirement already satisfied: pyparsing>=2.3.1 in /home/juanp_baron11/Environments/ml/lib/python3.11/site-packages (from matplotlib!=3.6.1,>=3.4->seaborn) (3.2.1)\n",
            "Requirement already satisfied: python-dateutil>=2.7 in /home/juanp_baron11/Environments/ml/lib/python3.11/site-packages (from matplotlib!=3.6.1,>=3.4->seaborn) (2.9.0.post0)\n",
            "Requirement already satisfied: pytz>=2020.1 in /home/juanp_baron11/Environments/ml/lib/python3.11/site-packages (from pandas>=1.2->seaborn) (2024.2)\n",
            "Requirement already satisfied: tzdata>=2022.7 in /home/juanp_baron11/Environments/ml/lib/python3.11/site-packages (from pandas>=1.2->seaborn) (2025.1)\n",
            "Requirement already satisfied: six>=1.5 in /home/juanp_baron11/Environments/ml/lib/python3.11/site-packages (from python-dateutil>=2.7->matplotlib!=3.6.1,>=3.4->seaborn) (1.17.0)\n",
            "Requirement already satisfied: nltk in /home/juanp_baron11/Environments/ml/lib/python3.11/site-packages (3.9.1)\n",
            "Requirement already satisfied: click in /home/juanp_baron11/Environments/ml/lib/python3.11/site-packages (from nltk) (8.1.8)\n",
            "Requirement already satisfied: joblib in /home/juanp_baron11/Environments/ml/lib/python3.11/site-packages (from nltk) (1.4.2)\n",
            "Requirement already satisfied: regex>=2021.8.3 in /home/juanp_baron11/Environments/ml/lib/python3.11/site-packages (from nltk) (2024.11.6)\n",
            "Requirement already satisfied: tqdm in /home/juanp_baron11/Environments/ml/lib/python3.11/site-packages (from nltk) (4.67.1)\n"
          ]
        }
      ],
      "source": [
        "!pip install num2words\n",
        "!pip install spacy\n",
        "!python -m spacy download es_core_news_sm\n",
        "!pip install swifter\n",
        "!pip install seaborn\n",
        "!pip install nltk"
      ]
    },
    {
      "cell_type": "code",
      "execution_count": 2,
      "metadata": {},
      "outputs": [
        {
          "name": "stderr",
          "output_type": "stream",
          "text": [
            "[nltk_data] Downloading package punkt to\n",
            "[nltk_data]     /home/juanp_baron11/nltk_data...\n",
            "[nltk_data]   Package punkt is already up-to-date!\n",
            "[nltk_data] Downloading package stopwords to\n",
            "[nltk_data]     /home/juanp_baron11/nltk_data...\n",
            "[nltk_data]   Package stopwords is already up-to-date!\n"
          ]
        },
        {
          "data": {
            "text/html": [
              "<div>\n",
              "<style scoped>\n",
              "    .dataframe tbody tr th:only-of-type {\n",
              "        vertical-align: middle;\n",
              "    }\n",
              "\n",
              "    .dataframe tbody tr th {\n",
              "        vertical-align: top;\n",
              "    }\n",
              "\n",
              "    .dataframe thead th {\n",
              "        text-align: right;\n",
              "    }\n",
              "</style>\n",
              "<table border=\"1\" class=\"dataframe\">\n",
              "  <thead>\n",
              "    <tr style=\"text-align: right;\">\n",
              "      <th></th>\n",
              "      <th>ID</th>\n",
              "      <th>Label</th>\n",
              "      <th>Titulo</th>\n",
              "      <th>Descripcion</th>\n",
              "      <th>Fecha</th>\n",
              "    </tr>\n",
              "  </thead>\n",
              "  <tbody>\n",
              "    <tr>\n",
              "      <th>0</th>\n",
              "      <td>ID</td>\n",
              "      <td>1</td>\n",
              "      <td>'The Guardian' va con Sánchez: 'Europa necesit...</td>\n",
              "      <td>El diario británico publicó este pasado jueves...</td>\n",
              "      <td>02/06/2023</td>\n",
              "    </tr>\n",
              "    <tr>\n",
              "      <th>1</th>\n",
              "      <td>ID</td>\n",
              "      <td>0</td>\n",
              "      <td>REVELAN QUE EL GOBIERNO NEGOCIO LA LIBERACIÓN ...</td>\n",
              "      <td>REVELAN QUE EL GOBIERNO NEGOCIO LA LIBERACIÓN ...</td>\n",
              "      <td>01/10/2023</td>\n",
              "    </tr>\n",
              "    <tr>\n",
              "      <th>2</th>\n",
              "      <td>ID</td>\n",
              "      <td>1</td>\n",
              "      <td>El 'Ahora o nunca' de Joan Fuster sobre el est...</td>\n",
              "      <td>El valencianismo convoca en Castelló su fiesta...</td>\n",
              "      <td>25/04/2022</td>\n",
              "    </tr>\n",
              "    <tr>\n",
              "      <th>3</th>\n",
              "      <td>ID</td>\n",
              "      <td>1</td>\n",
              "      <td>Iglesias alienta a Yolanda Díaz, ERC y EH Bild...</td>\n",
              "      <td>En política, igual que hay que negociar con lo...</td>\n",
              "      <td>03/01/2022</td>\n",
              "    </tr>\n",
              "    <tr>\n",
              "      <th>4</th>\n",
              "      <td>ID</td>\n",
              "      <td>0</td>\n",
              "      <td>Puigdemont: 'No sería ninguna tragedia una rep...</td>\n",
              "      <td>En una entrevista en El Punt Avui, el líder de...</td>\n",
              "      <td>09/03/2018</td>\n",
              "    </tr>\n",
              "  </tbody>\n",
              "</table>\n",
              "</div>"
            ],
            "text/plain": [
              "   ID  Label                                             Titulo  \\\n",
              "0  ID      1  'The Guardian' va con Sánchez: 'Europa necesit...   \n",
              "1  ID      0  REVELAN QUE EL GOBIERNO NEGOCIO LA LIBERACIÓN ...   \n",
              "2  ID      1  El 'Ahora o nunca' de Joan Fuster sobre el est...   \n",
              "3  ID      1  Iglesias alienta a Yolanda Díaz, ERC y EH Bild...   \n",
              "4  ID      0  Puigdemont: 'No sería ninguna tragedia una rep...   \n",
              "\n",
              "                                         Descripcion       Fecha  \n",
              "0  El diario británico publicó este pasado jueves...  02/06/2023  \n",
              "1  REVELAN QUE EL GOBIERNO NEGOCIO LA LIBERACIÓN ...  01/10/2023  \n",
              "2  El valencianismo convoca en Castelló su fiesta...  25/04/2022  \n",
              "3  En política, igual que hay que negociar con lo...  03/01/2022  \n",
              "4  En una entrevista en El Punt Avui, el líder de...  09/03/2018  "
            ]
          },
          "execution_count": 2,
          "metadata": {},
          "output_type": "execute_result"
        }
      ],
      "source": [
        "from pandas import pandas as pd\n",
        "import numpy as np\n",
        "import matplotlib.pyplot as plt\n",
        "import seaborn as sns\n",
        "import nltk\n",
        "import re, string, unicodedata\n",
        "from num2words import num2words\n",
        "from nltk.corpus import stopwords\n",
        "import spacy\n",
        "\n",
        "\n",
        "# Punkt permite separar un texto en frases.\n",
        "nltk.download('punkt')\n",
        "#Descargar palabras vacías (stopwords)\n",
        "nltk.download(\"stopwords\")\n",
        "stop_words = set(stopwords.words(\"spanish\"))\n",
        "\n",
        "\n",
        "data_set = pd.read_csv('./Data/fake_news_spanish.csv', delimiter=\";\")\n",
        "data_set.head()"
      ]
    },
    {
      "cell_type": "markdown",
      "metadata": {
        "id": "0vnEF0APPGvF"
      },
      "source": [
        "# **1. Entendimiento del negocio y enfoque analítico**"
      ]
    },
    {
      "cell_type": "markdown",
      "metadata": {
        "id": "tR_wD96zPbrD"
      },
      "source": [
        "## 1.1. Generalidades"
      ]
    },
    {
      "cell_type": "markdown",
      "metadata": {},
      "source": [
        "### Oportunidad/Problema de Negocio\n",
        "\n",
        "La creacion de noticias falsas en el ámbito político representa un desafío significativo tanto a nivel nacional como internacional, impactando la gobernabilidad, la opinión pública y la seguridad global. La detección automática de noticias falsas se presenta como una oportunidad para mitigar estos efectos negativos, apoyando a medios de comunicación, instituciones gubernamentales y usuarios individuales a identificar contenido confiable.\n",
        "\n",
        "### Objetivos\n",
        "\n",
        "- Aplicar metodologías de analítica de textos para detectar noticias falsas.\n",
        "\n",
        "- Construir un modelo analítico que clasifique las noticias en verídicas o falsas.\n",
        "\n",
        "- Automatizar el proceso de detección para que funcione con nuevos conjuntos de datos de manera continua.\n",
        "\n",
        "- Proporcionar a los usuarios finales herramientas para evaluar la veracidad de las noticias y reducir la desinformación.\n",
        "\n",
        "### Criterios de Éxito\n",
        "\n",
        "- Alta precisión, recall y F1 score en la detección de noticias falsas.\n",
        "\n",
        "- Baja latencia en las predicciones.\n",
        "\n",
        "- Ausencia de sesgos en el procesamiento de noticias.\n",
        "\n",
        "- Capacidad de actualización periódica con nuevos datos.\n",
        "\n",
        "- Impacto positivo en la reducción de desinformación y polarización.\n",
        "\n",
        "### Organización y Roles Beneficiados\n",
        "\n",
        "- Usuarios finales: Consumidores de contenido informativo, quienes podrán acceder a información verificada y confiable.\n",
        "\n",
        "- Medios de comunicación: Organizaciones periodísticas que buscan mantener su credibilidad y combatir la desinformación.\n",
        "\n",
        "- Instituciones gubernamentales: Apoyo en la toma de decisiones y gestión de la opinión pública.\n",
        "\n",
        "- Empresas: Aquellas que trabajan en conjunto con el gobierno o dependen de información verídica para su operación."
      ]
    },
    {
      "cell_type": "markdown",
      "metadata": {
        "id": "jXLMzYS7PiYA"
      },
      "source": [
        "## 1.2. Impacto y enfoque analítico"
      ]
    },
    {
      "cell_type": "markdown",
      "metadata": {},
      "source": [
        "### Impacto en Colombia\n",
        "\n",
        "La solución propuesta tiene el potencial de generar un impacto significativo en Colombia, contribuyendo a la disminución de la desinformación en el contexto político y social. Al proporcionar herramientas precisas para detectar noticias falsas, se espera fortalecer la confianza en las instituciones democráticas, reducir la polarización y apoyar a los medios de comunicación en la difusión de información verificada. Además, esta solución beneficiará a usuarios individuales, medios de comunicación y entidades gubernamentales, promoviendo un ecosistema informativo más confiable y transparente.\n",
        "\n",
        "### Enfoque Analítico\n",
        "\n",
        "El enfoque analítico adoptado para este proyecto incluye:\n",
        "\n",
        "- Categoría del análisis: Se centra en un análisis predictivo, orientado a anticipar si una noticia es verdadera o falsa con base en los datos de entrenamiento proporcionados.\n",
        "\n",
        "- Tipo de aprendizaje: Aprendizaje supervisado, utilizando un conjunto de datos etiquetado que permite al modelo aprender de ejemplos previos y realizar predicciones sobre nuevos datos.\n",
        "\n",
        "- Tarea de aprendizaje: Clasificación, donde cada noticia se asigna a una de dos categorías: verídica o falsa.\n",
        "\n",
        "- Técnicas y Algoritmos a Considerar: Para alcanzar los objetivos del negocio, se evaluarán diversas técnicas y algoritmos de aprendizaje automático y procesamiento de lenguaje natural (NLP), como Naive Bayes, Support Vector Machines (SVM), Random Forest, y métodos de vectorización como TF-IDF, Bag of Words y embeddings de palabras (Word2Vec, GloVe). Aún no se ha definido la técnica exacta de vectorización a utilizar, pero estas opciones serán analizadas y evaluadas según su rendimiento y adecuación al contexto del proyecto.\n",
        "\n"
      ]
    },
    {
      "cell_type": "markdown",
      "metadata": {
        "id": "hs-0HUA1P8NJ"
      },
      "source": [
        "---"
      ]
    },
    {
      "cell_type": "markdown",
      "metadata": {},
      "source": [
        " # **2. Entendimiento y preparación de los datos**"
      ]
    },
    {
      "cell_type": "markdown",
      "metadata": {},
      "source": [
        "### 2.1 Selección de variables"
      ]
    },
    {
      "cell_type": "markdown",
      "metadata": {},
      "source": [
        "Para saber si una noticia es falsa o no, el modelo unicamente usará los datos de 'Titulo' y 'Descripcion' de la noticia. Pro una parte, la columna 'ID' dentro del dataset, no aporta ninguna información y por otro lado, la fecha de una noticia no es relevante para el caso dado que la verdacidad de la noticia no depende del día que haya sido escrita. Se dejará la columna de Label ya que a partir de esta es que el modelo puede aprender"
      ]
    },
    {
      "cell_type": "code",
      "execution_count": 18,
      "metadata": {},
      "outputs": [
        {
          "data": {
            "text/html": [
              "<div>\n",
              "<style scoped>\n",
              "    .dataframe tbody tr th:only-of-type {\n",
              "        vertical-align: middle;\n",
              "    }\n",
              "\n",
              "    .dataframe tbody tr th {\n",
              "        vertical-align: top;\n",
              "    }\n",
              "\n",
              "    .dataframe thead th {\n",
              "        text-align: right;\n",
              "    }\n",
              "</style>\n",
              "<table border=\"1\" class=\"dataframe\">\n",
              "  <thead>\n",
              "    <tr style=\"text-align: right;\">\n",
              "      <th></th>\n",
              "      <th>Titulo</th>\n",
              "      <th>Descripcion</th>\n",
              "      <th>Label</th>\n",
              "    </tr>\n",
              "  </thead>\n",
              "  <tbody>\n",
              "    <tr>\n",
              "      <th>0</th>\n",
              "      <td>'The Guardian' va con Sánchez: 'Europa necesit...</td>\n",
              "      <td>El diario británico publicó este pasado jueves...</td>\n",
              "      <td>1</td>\n",
              "    </tr>\n",
              "    <tr>\n",
              "      <th>1</th>\n",
              "      <td>REVELAN QUE EL GOBIERNO NEGOCIO LA LIBERACIÓN ...</td>\n",
              "      <td>REVELAN QUE EL GOBIERNO NEGOCIO LA LIBERACIÓN ...</td>\n",
              "      <td>0</td>\n",
              "    </tr>\n",
              "    <tr>\n",
              "      <th>2</th>\n",
              "      <td>El 'Ahora o nunca' de Joan Fuster sobre el est...</td>\n",
              "      <td>El valencianismo convoca en Castelló su fiesta...</td>\n",
              "      <td>1</td>\n",
              "    </tr>\n",
              "    <tr>\n",
              "      <th>3</th>\n",
              "      <td>Iglesias alienta a Yolanda Díaz, ERC y EH Bild...</td>\n",
              "      <td>En política, igual que hay que negociar con lo...</td>\n",
              "      <td>1</td>\n",
              "    </tr>\n",
              "    <tr>\n",
              "      <th>4</th>\n",
              "      <td>Puigdemont: 'No sería ninguna tragedia una rep...</td>\n",
              "      <td>En una entrevista en El Punt Avui, el líder de...</td>\n",
              "      <td>0</td>\n",
              "    </tr>\n",
              "  </tbody>\n",
              "</table>\n",
              "</div>"
            ],
            "text/plain": [
              "                                              Titulo  \\\n",
              "0  'The Guardian' va con Sánchez: 'Europa necesit...   \n",
              "1  REVELAN QUE EL GOBIERNO NEGOCIO LA LIBERACIÓN ...   \n",
              "2  El 'Ahora o nunca' de Joan Fuster sobre el est...   \n",
              "3  Iglesias alienta a Yolanda Díaz, ERC y EH Bild...   \n",
              "4  Puigdemont: 'No sería ninguna tragedia una rep...   \n",
              "\n",
              "                                         Descripcion  Label  \n",
              "0  El diario británico publicó este pasado jueves...      1  \n",
              "1  REVELAN QUE EL GOBIERNO NEGOCIO LA LIBERACIÓN ...      0  \n",
              "2  El valencianismo convoca en Castelló su fiesta...      1  \n",
              "3  En política, igual que hay que negociar con lo...      1  \n",
              "4  En una entrevista en El Punt Avui, el líder de...      0  "
            ]
          },
          "execution_count": 18,
          "metadata": {},
          "output_type": "execute_result"
        }
      ],
      "source": [
        "def definir_variables(data_set_inicial):\n",
        "    features = ['Titulo', 'Descripcion', 'Label']\n",
        "    return data_set_inicial[features]\n",
        "    \n",
        "df = definir_variables(data_set)\n",
        "df.head()"
      ]
    },
    {
      "cell_type": "markdown",
      "metadata": {
        "id": "4reuwBZdQgBb"
      },
      "source": [
        "### 2.2 Perfilamiento de datos"
      ]
    },
    {
      "cell_type": "markdown",
      "metadata": {},
      "source": [
        "Número de datos"
      ]
    },
    {
      "cell_type": "code",
      "execution_count": 19,
      "metadata": {
        "id": "uM7g2qJ3QCsj"
      },
      "outputs": [
        {
          "data": {
            "text/plain": [
              "(57063, 7)"
            ]
          },
          "execution_count": 19,
          "metadata": {},
          "output_type": "execute_result"
        }
      ],
      "source": [
        "data_set.shape"
      ]
    },
    {
      "cell_type": "markdown",
      "metadata": {},
      "source": [
        "Tipos de dato presentes, cantidad de datos nulos y columnas que componen el data set"
      ]
    },
    {
      "cell_type": "code",
      "execution_count": 20,
      "metadata": {},
      "outputs": [
        {
          "name": "stdout",
          "output_type": "stream",
          "text": [
            "<class 'pandas.core.frame.DataFrame'>\n",
            "RangeIndex: 57063 entries, 0 to 57062\n",
            "Data columns (total 7 columns):\n",
            " #   Column                Non-Null Count  Dtype \n",
            "---  ------                --------------  ----- \n",
            " 0   ID                    57063 non-null  object\n",
            " 1   Label                 57063 non-null  int64 \n",
            " 2   Titulo                57047 non-null  object\n",
            " 3   Descripcion           57063 non-null  object\n",
            " 4   Fecha                 57063 non-null  object\n",
            " 5   longitud_titulo       57063 non-null  int64 \n",
            " 6   longitud_descripcion  57063 non-null  int64 \n",
            "dtypes: int64(3), object(4)\n",
            "memory usage: 3.0+ MB\n"
          ]
        }
      ],
      "source": [
        "data_set.info()"
      ]
    },
    {
      "cell_type": "markdown",
      "metadata": {},
      "source": [
        "Datos vacíos"
      ]
    },
    {
      "cell_type": "code",
      "execution_count": 21,
      "metadata": {},
      "outputs": [
        {
          "name": "stdout",
          "output_type": "stream",
          "text": [
            "                      Vacios\n",
            "ID                         0\n",
            "Label                      0\n",
            "Titulo                     0\n",
            "Descripcion                0\n",
            "Fecha                      0\n",
            "longitud_titulo            0\n",
            "longitud_descripcion       0\n"
          ]
        }
      ],
      "source": [
        "df_null = pd.DataFrame(data_set.apply(lambda x: (x == \"\").sum()), columns=[\"Vacios\"])\n",
        "print(df_null)"
      ]
    },
    {
      "cell_type": "markdown",
      "metadata": {},
      "source": [
        "Filas duplicadas"
      ]
    },
    {
      "cell_type": "code",
      "execution_count": 22,
      "metadata": {},
      "outputs": [
        {
          "data": {
            "text/plain": [
              "(875, 7)"
            ]
          },
          "execution_count": 22,
          "metadata": {},
          "output_type": "execute_result"
        }
      ],
      "source": [
        "duplicated_rows = data_set.loc[data_set.duplicated(keep=False)]\n",
        "duplicated_rows.shape"
      ]
    },
    {
      "cell_type": "markdown",
      "metadata": {},
      "source": [
        "Filas duplicadas parcialmente"
      ]
    },
    {
      "cell_type": "code",
      "execution_count": 23,
      "metadata": {},
      "outputs": [
        {
          "data": {
            "text/plain": [
              "(2, 7)"
            ]
          },
          "execution_count": 23,
          "metadata": {},
          "output_type": "execute_result"
        }
      ],
      "source": [
        "def find_partial_duplicates(df: pd.DataFrame) -> pd.DataFrame:\n",
        "    \"\"\"\n",
        "    Identifica filas con el mismo título y descripción pero diferente label.\n",
        "    \n",
        "    Parámetros:\n",
        "    df (pd.DataFrame): DataFrame de entrada con columnas ['id', 'label', 'Titulo', 'descripcion', 'fecha'].\n",
        "    \n",
        "    Retorna:\n",
        "    pd.DataFrame: DataFrame con duplicados parciales.\n",
        "    \"\"\"\n",
        "    # Identificar duplicados basados en 'Titulo' y 'descripcion'\n",
        "    duplicated_mask = df.duplicated(subset=['Titulo', 'Descripcion'], keep=False)\n",
        "    \n",
        "    # Filtrar las filas que cumplen la condición\n",
        "    duplicates = df[duplicated_mask].sort_values(by=['Titulo', 'Descripcion'])\n",
        "    \n",
        "    # Agrupar por título y descripción, asegurando que hay más de un label diferente\n",
        "    duplicates_grouped = duplicates.groupby(['Titulo', 'Descripcion'])['Label'].nunique().reset_index()\n",
        "    \n",
        "    # Filtrar los casos donde hay más de un label único\n",
        "    filtered_duplicates = duplicates_grouped[duplicates_grouped['Label'] > 1]\n",
        "\n",
        "    # Unir con el DataFrame original para obtener los duplicados completos\n",
        "    result = df.merge(filtered_duplicates[['Titulo', 'Descripcion']], on=['Titulo', 'Descripcion'])\n",
        "\n",
        "    return result\n",
        "\n",
        "df = find_partial_duplicates(data_set)\n",
        "df.shape\n"
      ]
    },
    {
      "cell_type": "markdown",
      "metadata": {},
      "source": [
        "Análisis de balance de clases (que tanto hay de fake news label=0 y que tantas son veridicas label=1)"
      ]
    },
    {
      "cell_type": "code",
      "execution_count": 24,
      "metadata": {},
      "outputs": [
        {
          "data": {
            "image/png": "[encoded data removed]",
            "text/plain": [
              "<Figure size 1000x800 with 1 Axes>"
            ]
          },
          "metadata": {},
          "output_type": "display_data"
        }
      ],
      "source": [
        "# Crear la figura\n",
        "plt.figure(figsize=(10, 8))\n",
        "\n",
        "# Crear el gráfico de conteo\n",
        "ax = sns.countplot(x=data_set[\"Label\"])\n",
        "\n",
        "# Agregar etiquetas con el número de cada categoría en la parte superior de las barras\n",
        "for p in ax.patches:\n",
        "    ax.annotate(f'{int(p.get_height())}', \n",
        "                (p.get_x() + p.get_width() / 2, p.get_height()), \n",
        "                ha='center', va='bottom', fontsize=12, fontweight='bold', color='black')\n",
        "\n",
        "# Configurar título y etiquetas\n",
        "plt.title(\"Distribución de Clases (Noticias Fake vs. Verídicas)\")\n",
        "plt.xlabel(\"Clase (0 = Fake, 1 = Verídica)\")\n",
        "plt.ylabel(\"Cantidad\")\n",
        "\n",
        "# Mostrar el gráfico\n",
        "plt.show()"
      ]
    },
    {
      "cell_type": "markdown",
      "metadata": {},
      "source": [
        "En nuestro caso, la proporción es Fake: 23,905 (~41.9%) vs. Verídicas: 33,158 (~58.1%), lo cual no es un desbalance extremo.\n",
        "Por lo que intentaremos primero entrenar el modelo sin aplicar over/undersampling y revisa las métricas de evaluación, si estas\n",
        "indican un mal F1 score para alguna clase en especifico se revisara de nuevo esta parte para realizar alguna tecnica ya sea SMOTE, entre otras."
      ]
    },
    {
      "cell_type": "markdown",
      "metadata": {},
      "source": [
        "Comparación de longitud entre noticias Fake y Verídicas"
      ]
    },
    {
      "cell_type": "code",
      "execution_count": 25,
      "metadata": {},
      "outputs": [
        {
          "data": {
            "image/png": "[encoded data removed]",
            "text/plain": [
              "<Figure size 1200x500 with 2 Axes>"
            ]
          },
          "metadata": {},
          "output_type": "display_data"
        }
      ],
      "source": [
        "df = data_set\n",
        "\n",
        "# Crear nuevas columnas con la longitud del texto en caracteres\n",
        "df[\"longitud_titulo\"] = df[\"Titulo\"].astype(str).apply(len)\n",
        "df[\"longitud_descripcion\"] = df[\"Descripcion\"].astype(str).apply(len)\n",
        "\n",
        "# Graficar las distribuciones con boxplots\n",
        "fig, axes = plt.subplots(1, 2, figsize=(12, 5))\n",
        "\n",
        "sns.boxplot(x=df[\"Label\"], y=df[\"longitud_titulo\"], ax=axes[0])\n",
        "axes[0].set_title(\"Longitud de Títulos por Tipo de Noticia\")\n",
        "axes[0].set_xlabel(\"Clase (0 = Fake, 1 = Verídica)\")\n",
        "axes[0].set_ylabel(\"Número de Caracteres\")\n",
        "\n",
        "sns.boxplot(x=df[\"Label\"], y=df[\"longitud_descripcion\"], ax=axes[1])\n",
        "axes[1].set_title(\"Longitud de Descripciones por Tipo de Noticia\")\n",
        "axes[1].set_xlabel(\"Clase (0 = Fake, 1 = Verídica)\")\n",
        "axes[1].set_ylabel(\"Número de Caracteres\")\n",
        "\n",
        "plt.tight_layout()\n",
        "plt.show()"
      ]
    },
    {
      "cell_type": "markdown",
      "metadata": {},
      "source": [
        "Podemos ver que la longitud de titulos o descripciones no son un buen indicador ya que arrojan boxplots muy parecidos."
      ]
    },
    {
      "cell_type": "markdown",
      "metadata": {
        "id": "HywvPf5FQi0x"
      },
      "source": [
        "### 2.3 Preparación de datos"
      ]
    },
    {
      "cell_type": "markdown",
      "metadata": {},
      "source": [
        "#### 2.3.1 Limpieza de datos"
      ]
    },
    {
      "cell_type": "markdown",
      "metadata": {},
      "source": [
        "Eliminar filas duplicadas"
      ]
    },
    {
      "cell_type": "code",
      "execution_count": 26,
      "metadata": {},
      "outputs": [
        {
          "data": {
            "text/plain": [
              "(56618, 7)"
            ]
          },
          "execution_count": 26,
          "metadata": {},
          "output_type": "execute_result"
        }
      ],
      "source": [
        "def remove_duplicates(df: pd.DataFrame):\n",
        "    \"\"\"\n",
        "    Elimina las filas duplicadas del dataSet.\n",
        "    \n",
        "    Parámetros:\n",
        "    df (pd.DataFrame): DataFrame de entrada.\n",
        "    \n",
        "    Retorna:\n",
        "    pd.DataFrame: DataFrame sin filas duplicadas.\n",
        "    \"\"\"\n",
        "    return df.drop_duplicates().reset_index(drop=True)\n",
        "\n",
        "df = remove_duplicates(data_set)\n",
        "df.shape"
      ]
    },
    {
      "cell_type": "markdown",
      "metadata": {},
      "source": [
        "Eliminar filas duplicadas parcialmente (noticias con un mismo titular y descripción, pero diferente label)"
      ]
    },
    {
      "cell_type": "code",
      "execution_count": 27,
      "metadata": {},
      "outputs": [
        {
          "data": {
            "text/plain": [
              "(57061, 7)"
            ]
          },
          "execution_count": 27,
          "metadata": {},
          "output_type": "execute_result"
        }
      ],
      "source": [
        "def eliminar_duplicados_parciales(df):\n",
        "    \"\"\"\n",
        "    Elimina filas donde 'Titulo' y 'Descripcion' sean iguales, pero 'Label' sea diferente.\n",
        "    \n",
        "    Parámetros:\n",
        "    df (pd.DataFrame): DataFrame con las columnas 'Titulo', 'Descripcion' y 'Label'.\n",
        "    \n",
        "    Retorna:\n",
        "    pd.DataFrame: DataFrame sin los duplicados parciales.\n",
        "    \"\"\"\n",
        "    # Contar cuántos valores únicos de Label existen por cada combinación de Titulo y Descripcion\n",
        "    conteo_labels = df.groupby(['Titulo', 'Descripcion'])['Label'].nunique()\n",
        "    \n",
        "    # Identificar las combinaciones que tienen más de un Label distinto (es decir, duplicados parciales)\n",
        "    duplicados_parciales = conteo_labels[conteo_labels > 1].index\n",
        "    \n",
        "    # Filtrar el DataFrame eliminando estas combinaciones\n",
        "    df_filtrado = df[~df.set_index(['Titulo', 'Descripcion']).index.isin(duplicados_parciales)]\n",
        "    \n",
        "    return df_filtrado.reset_index(drop=True)\n",
        "\n",
        "df = eliminar_duplicados_parciales(data_set)\n",
        "df.shape\n"
      ]
    },
    {
      "cell_type": "markdown",
      "metadata": {},
      "source": [
        "A continuación, se muestra un método para hacer la limpieza completa de los datos"
      ]
    },
    {
      "cell_type": "code",
      "execution_count": 28,
      "metadata": {},
      "outputs": [
        {
          "data": {
            "text/plain": [
              "(56612, 3)"
            ]
          },
          "execution_count": 28,
          "metadata": {},
          "output_type": "execute_result"
        }
      ],
      "source": [
        "def limpiar_data(data_set):\n",
        "    df_variables = definir_variables(data_set)\n",
        "    df_duplicados = remove_duplicates(df_variables)\n",
        "    df_limpio = eliminar_duplicados_parciales(df_duplicados)\n",
        "    return df_limpio\n",
        "\n",
        "df = limpiar_data(data_set)\n",
        "df.shape"
      ]
    },
    {
      "cell_type": "markdown",
      "metadata": {},
      "source": [
        "#### 2.3.2 Eliminación de ruido"
      ]
    },
    {
      "cell_type": "markdown",
      "metadata": {},
      "source": [
        "Funciones para dejar la información en texto plano (remover caracteres no ASCII, convertir las palabras en minúscula, remover la puntuación, reemplazar los números y remover stopwords)"
      ]
    },
    {
      "cell_type": "code",
      "execution_count": 29,
      "metadata": {},
      "outputs": [],
      "source": [
        "def remove_non_ascii(words):\n",
        "    \"\"\"Remove non-ASCII characters from list of tokenized words\"\"\"\n",
        "    new_words = []\n",
        "    for word in words:\n",
        "        if word is not None:\n",
        "            new_word = unicodedata.normalize('NFKD', word).encode('ascii', 'ignore').decode('utf-8', 'ignore')\n",
        "            new_words.append(new_word)\n",
        "    return new_words\n",
        "\n",
        "def to_lowercase(words):\n",
        "    \"\"\"Convert all characters to lowercase from list of tokenized words\"\"\"\n",
        "    new_words = []\n",
        "    for w in words:\n",
        "        new_w = w.lower()\n",
        "        new_words.append(new_w)\n",
        "    return new_words\n",
        "\n",
        "def remove_punctuation(words):\n",
        "    \"\"\"Remove punctuation from list of tokenized words\"\"\"\n",
        "    new_words = []\n",
        "    for word in words:\n",
        "        if word is not None:\n",
        "            new_word = re.sub(r'[^\\w\\s]', '', word)\n",
        "            if new_word != '':\n",
        "                new_words.append(new_word)\n",
        "    return new_words\n",
        "\n",
        "def replace_numbers(words):\n",
        "    \"\"\"Replace all interger occurrences in list of tokenized words with textual representation\"\"\"\n",
        "    new_words = []\n",
        "    for word in words:\n",
        "        if word.isdigit():\n",
        "            new_word = num2words(word, lang=\"es\")\n",
        "            new_words.append(new_word)\n",
        "        else:\n",
        "            new_words.append(word)\n",
        "    return new_words\n",
        "\n",
        "def remove_stopwords(words):\n",
        "    \"\"\"Remove stop words from list of tokenized words\"\"\"\n",
        "    new_words = []\n",
        "    for word in words:\n",
        "        if word not in stop_words:\n",
        "            new_words.append(word)\n",
        "    return new_words\n",
        "\n",
        "def preprocessing(words):\n",
        "    words = to_lowercase(words)\n",
        "    words = replace_numbers(words)\n",
        "    words = remove_punctuation(words)\n",
        "    words = remove_non_ascii(words)\n",
        "    words = remove_stopwords(words)\n",
        "    return words\n"
      ]
    },
    {
      "cell_type": "markdown",
      "metadata": {},
      "source": [
        "#### 2.3.3 Tokenización, lematización y normalización"
      ]
    },
    {
      "cell_type": "markdown",
      "metadata": {},
      "source": [
        "Para procesar los títulos de las noticias y su descripción se procede a ejecutar los siguietes pasos:\n",
        "1. **Tokenización**: Dividir frases u oraciones en palabras con el fin de desglozar las palabras correctamente para el posterior análisis\n",
        "\n",
        "2. **Lematización**: Cada palabra se reduce a su forma base o lema\n",
        "\n",
        "3. **Normalización**: Se hace uso de la función de reducción de ruido para colocar cada palaba en minuscula, sin tildes, remover los signos de puntuación, caracteres no ASCII, reemplazar los números y las palabras vacías"
      ]
    },
    {
      "cell_type": "code",
      "execution_count": 30,
      "metadata": {},
      "outputs": [],
      "source": [
        "import swifter\n",
        "\n",
        "# Cargar modelo spaCy sin parser ni NER para mayor velocidad\n",
        "nlp = spacy.load(\"es_core_news_sm\", disable=[\"parser\", \"ner\"])\n",
        "stop_words = set(stopwords.words(\"spanish\"))\n",
        "\n",
        "def preprocessing2(words):\n",
        "    words = [word.lower() for word in words]  # Convertir a minúsculas directamente\n",
        "    words = [num2words(word, lang=\"es\") if word.isdigit() else word for word in words]  # Reemplazar números\n",
        "    words = [re.sub(r'[^\\w\\s]', '', word) for word in words if word]  # Eliminar puntuación\n",
        "    words = [unicodedata.normalize('NFKD', word).encode('ascii', 'ignore').decode('utf-8', 'ignore') for word in words]  # Quitar caracteres no ASCII\n",
        "    words = [word for word in words if word not in stop_words]  # Remover stopwords\n",
        "    words = [word for word in words if word.strip() != \"\"] \n",
        "    return words\n",
        "\n",
        "def procesar_texto(df, columnas):\n",
        "    \"\"\"\n",
        "    Optimiza la tokenización, lematización y preprocesamiento de múltiples columnas de un DataFrame.\n",
        "    \"\"\"\n",
        "    df = df.copy()\n",
        "    df[columnas] = df[columnas].astype(str).fillna(\"\")\n",
        "    \n",
        "    datos_procesados = {}\n",
        "    \n",
        "    for col in columnas:\n",
        "        resultados = [\n",
        "            ([token.text for token in doc if not token.is_space],  # Tokens\n",
        "             [token.lemma_ for token in doc if not token.is_space])  # Lemas\n",
        "            for doc in nlp.pipe(df[col], batch_size=100)  # Mayor batch_size para eficiencia\n",
        "        ]\n",
        "        \n",
        "        # Separar tokens y lemas en listas\n",
        "        df[f\"{col}_tokens\"], df[f\"{col}_lemmas\"] = zip(*resultados)\n",
        "        \n",
        "        # Aplicar procesamiento en paralelo\n",
        "        datos_procesados[f\"{col}_tokens_clean\"] = df[f\"{col}_tokens\"].swifter.apply(preprocessing2)\n",
        "    \n",
        "    # Crear nuevo DataFrame solo con las columnas procesadas + label\n",
        "    nuevo_df = pd.DataFrame(datos_procesados)\n",
        "    nuevo_df.insert(0, \"Label\", df[\"Label\"])  # Mantener la etiqueta\n",
        "    \n",
        "    return nuevo_df\n"
      ]
    },
    {
      "cell_type": "code",
      "execution_count": 35,
      "metadata": {},
      "outputs": [
        {
          "name": "stdout",
          "output_type": "stream",
          "text": [
            " Data limpia\n"
          ]
        },
        {
          "name": "stderr",
          "output_type": "stream",
          "text": [
            "Pandas Apply: 100%|██████████| 56612/56612 [00:02<00:00, 24432.09it/s]\n",
            "Pandas Apply: 100%|██████████| 56612/56612 [00:05<00:00, 9824.71it/s] \n"
          ]
        },
        {
          "data": {
            "text/html": [
              "<div>\n",
              "<style scoped>\n",
              "    .dataframe tbody tr th:only-of-type {\n",
              "        vertical-align: middle;\n",
              "    }\n",
              "\n",
              "    .dataframe tbody tr th {\n",
              "        vertical-align: top;\n",
              "    }\n",
              "\n",
              "    .dataframe thead th {\n",
              "        text-align: right;\n",
              "    }\n",
              "</style>\n",
              "<table border=\"1\" class=\"dataframe\">\n",
              "  <thead>\n",
              "    <tr style=\"text-align: right;\">\n",
              "      <th></th>\n",
              "      <th>Label</th>\n",
              "      <th>Titulo_tokens_clean</th>\n",
              "      <th>Descripcion_tokens_clean</th>\n",
              "    </tr>\n",
              "  </thead>\n",
              "  <tbody>\n",
              "    <tr>\n",
              "      <th>0</th>\n",
              "      <td>1</td>\n",
              "      <td>[the, guardian, va, sanchez, europa, necesita,...</td>\n",
              "      <td>[diario, britanico, publico, pasado, jueves, e...</td>\n",
              "    </tr>\n",
              "    <tr>\n",
              "      <th>1</th>\n",
              "      <td>0</td>\n",
              "      <td>[revelan, gobierno, negocio, liberacion, mirel...</td>\n",
              "      <td>[revelan, gobierno, negocio, liberacion, mirel...</td>\n",
              "    </tr>\n",
              "    <tr>\n",
              "      <th>2</th>\n",
              "      <td>1</td>\n",
              "      <td>[ahora, nunca, joan, fuster, estatuto, valenci...</td>\n",
              "      <td>[valencianismo, convoca, castello, fiesta, gra...</td>\n",
              "    </tr>\n",
              "    <tr>\n",
              "      <th>3</th>\n",
              "      <td>1</td>\n",
              "      <td>[iglesias, alienta, yolanda, diaz, erc, eh, bi...</td>\n",
              "      <td>[politica, igual, negociar, empresarios, negoc...</td>\n",
              "    </tr>\n",
              "    <tr>\n",
              "      <th>4</th>\n",
              "      <td>0</td>\n",
              "      <td>[puigdemont, seria, ninguna, tragedia, repetic...</td>\n",
              "      <td>[entrevista, punt, avui, lider, jxcat, desdram...</td>\n",
              "    </tr>\n",
              "    <tr>\n",
              "      <th>5</th>\n",
              "      <td>1</td>\n",
              "      <td>[pnv, consolida, mayoria, pse, salva, papeles,...</td>\n",
              "      <td>[nacionalistas, consiguen, alcaldias, bilbao, ...</td>\n",
              "    </tr>\n",
              "    <tr>\n",
              "      <th>6</th>\n",
              "      <td>0</td>\n",
              "      <td>[exconsejero, nuria, marin, pide, indulto, cas...</td>\n",
              "      <td>[familiares, aluden, honestidad, integridad, p...</td>\n",
              "    </tr>\n",
              "    <tr>\n",
              "      <th>7</th>\n",
              "      <td>1</td>\n",
              "      <td>[fiscalia, pide, prision, incondicional, siete...</td>\n",
              "      <td>[suprime, delito, rebelion, imputo, inicialmen...</td>\n",
              "    </tr>\n",
              "    <tr>\n",
              "      <th>8</th>\n",
              "      <td>1</td>\n",
              "      <td>[jose, manuel, perez, tornero, creador, televi...</td>\n",
              "      <td>[futuro, presidente, rtve, licenciado, ciencia...</td>\n",
              "    </tr>\n",
              "    <tr>\n",
              "      <th>9</th>\n",
              "      <td>0</td>\n",
              "      <td>[ayusizacion, bng, santiago, abascal, instruye...</td>\n",
              "      <td>[pablo, santiago, abascal, planea, vivir, rent...</td>\n",
              "    </tr>\n",
              "  </tbody>\n",
              "</table>\n",
              "</div>"
            ],
            "text/plain": [
              "   Label                                Titulo_tokens_clean  \\\n",
              "0      1  [the, guardian, va, sanchez, europa, necesita,...   \n",
              "1      0  [revelan, gobierno, negocio, liberacion, mirel...   \n",
              "2      1  [ahora, nunca, joan, fuster, estatuto, valenci...   \n",
              "3      1  [iglesias, alienta, yolanda, diaz, erc, eh, bi...   \n",
              "4      0  [puigdemont, seria, ninguna, tragedia, repetic...   \n",
              "5      1  [pnv, consolida, mayoria, pse, salva, papeles,...   \n",
              "6      0  [exconsejero, nuria, marin, pide, indulto, cas...   \n",
              "7      1  [fiscalia, pide, prision, incondicional, siete...   \n",
              "8      1  [jose, manuel, perez, tornero, creador, televi...   \n",
              "9      0  [ayusizacion, bng, santiago, abascal, instruye...   \n",
              "\n",
              "                            Descripcion_tokens_clean  \n",
              "0  [diario, britanico, publico, pasado, jueves, e...  \n",
              "1  [revelan, gobierno, negocio, liberacion, mirel...  \n",
              "2  [valencianismo, convoca, castello, fiesta, gra...  \n",
              "3  [politica, igual, negociar, empresarios, negoc...  \n",
              "4  [entrevista, punt, avui, lider, jxcat, desdram...  \n",
              "5  [nacionalistas, consiguen, alcaldias, bilbao, ...  \n",
              "6  [familiares, aluden, honestidad, integridad, p...  \n",
              "7  [suprime, delito, rebelion, imputo, inicialmen...  \n",
              "8  [futuro, presidente, rtve, licenciado, ciencia...  \n",
              "9  [pablo, santiago, abascal, planea, vivir, rent...  "
            ]
          },
          "execution_count": 35,
          "metadata": {},
          "output_type": "execute_result"
        }
      ],
      "source": [
        "def limpiar_y_procesar(data_set, columnas_texto):\n",
        "    \"\"\"\n",
        "    Función que aplica limpieza de datos y tokenización en columnas de texto específicas.\n",
        "\n",
        "    Parámetros:\n",
        "    - data_set (DataFrame): Dataset original con las columnas a procesar.\n",
        "    - columnas_texto (list): Lista de nombres de columnas que contienen texto a limpiar.\n",
        "\n",
        "    Retorna:\n",
        "    - DataFrame con los textos procesados.\n",
        "    \"\"\"\n",
        "    # Aplicar limpieza de datos\n",
        "    data_set_limpio = limpiar_data(data_set)\n",
        "    print(\" Data limpia\")\n",
        "\n",
        "    # Aplicar tokenización, lematización y normalización\n",
        "    df_procesado = procesar_texto(data_set_limpio, columnas_texto)\n",
        "    \n",
        "    return df_procesado\n",
        "\n",
        "# Uso de la función\n",
        "df_procesado = limpiar_y_procesar(data_set, [\"Titulo\", \"Descripcion\"])\n",
        "df_procesado.head(10)\n"
      ]
    },
    {
      "cell_type": "code",
      "execution_count": null,
      "metadata": {},
      "outputs": [],
      "source": [
        "# Guardar dataset limpio en un CSV\n",
        "df_procesado.to_csv(\"./Data/fake_news_cleaned.csv\", index=False, encoding=\"utf-8\")"
      ]
    },
    {
      "cell_type": "markdown",
      "metadata": {},
      "source": [
        "#### 2.3.4 Vectorización"
      ]
    },
    {
      "cell_type": "code",
      "execution_count": 36,
      "metadata": {},
      "outputs": [
        {
          "name": "stdout",
          "output_type": "stream",
          "text": [
            "                                 Titulo_tokens_clean  \\\n",
            "0  the guardian va sanchez europa necesita apuest...   \n",
            "1  revelan gobierno negocio liberacion mireles ca...   \n",
            "2  ahora nunca joan fuster estatuto valenciano cu...   \n",
            "3  iglesias alienta yolanda diaz erc eh bildu neg...   \n",
            "4  puigdemont seria ninguna tragedia repeticion e...   \n",
            "\n",
            "                            Descripcion_tokens_clean  \n",
            "0  diario britanico publico pasado jueves editori...  \n",
            "1  revelan gobierno negocio liberacion mireles ca...  \n",
            "2  valencianismo convoca castello fiesta grande c...  \n",
            "3  politica igual negociar empresarios negociar g...  \n",
            "4  entrevista punt avui lider jxcat desdramatizad...  \n"
          ]
        }
      ],
      "source": [
        "# Convertir listas de tokens a strings correctamente\n",
        "df_procesado[\"Titulo_tokens_clean\"] = df_procesado[\"Titulo_tokens_clean\"].apply(lambda x: \" \".join(x) if isinstance(x, list) else x)\n",
        "df_procesado[\"Descripcion_tokens_clean\"] = df_procesado[\"Descripcion_tokens_clean\"].apply(lambda x: \" \".join(x) if isinstance(x, list) else x)\n",
        "\n",
        "# Revisar si ya están en formato string\n",
        "print(df_procesado[[\"Titulo_tokens_clean\", \"Descripcion_tokens_clean\"]].head())"
      ]
    },
    {
      "cell_type": "code",
      "execution_count": 37,
      "metadata": {},
      "outputs": [
        {
          "data": {
            "text/html": [
              "<div>\n",
              "<style scoped>\n",
              "    .dataframe tbody tr th:only-of-type {\n",
              "        vertical-align: middle;\n",
              "    }\n",
              "\n",
              "    .dataframe tbody tr th {\n",
              "        vertical-align: top;\n",
              "    }\n",
              "\n",
              "    .dataframe thead th {\n",
              "        text-align: right;\n",
              "    }\n",
              "</style>\n",
              "<table border=\"1\" class=\"dataframe\">\n",
              "  <thead>\n",
              "    <tr style=\"text-align: right;\">\n",
              "      <th></th>\n",
              "      <th>Label</th>\n",
              "      <th>Titulo_tokens_clean</th>\n",
              "      <th>Descripcion_tokens_clean</th>\n",
              "    </tr>\n",
              "  </thead>\n",
              "  <tbody>\n",
              "    <tr>\n",
              "      <th>0</th>\n",
              "      <td>1</td>\n",
              "      <td>the guardian va sanchez europa necesita apuest...</td>\n",
              "      <td>diario britanico publico pasado jueves editori...</td>\n",
              "    </tr>\n",
              "    <tr>\n",
              "      <th>1</th>\n",
              "      <td>0</td>\n",
              "      <td>revelan gobierno negocio liberacion mireles ca...</td>\n",
              "      <td>revelan gobierno negocio liberacion mireles ca...</td>\n",
              "    </tr>\n",
              "    <tr>\n",
              "      <th>2</th>\n",
              "      <td>1</td>\n",
              "      <td>ahora nunca joan fuster estatuto valenciano cu...</td>\n",
              "      <td>valencianismo convoca castello fiesta grande c...</td>\n",
              "    </tr>\n",
              "    <tr>\n",
              "      <th>3</th>\n",
              "      <td>1</td>\n",
              "      <td>iglesias alienta yolanda diaz erc eh bildu neg...</td>\n",
              "      <td>politica igual negociar empresarios negociar g...</td>\n",
              "    </tr>\n",
              "    <tr>\n",
              "      <th>4</th>\n",
              "      <td>0</td>\n",
              "      <td>puigdemont seria ninguna tragedia repeticion e...</td>\n",
              "      <td>entrevista punt avui lider jxcat desdramatizad...</td>\n",
              "    </tr>\n",
              "  </tbody>\n",
              "</table>\n",
              "</div>"
            ],
            "text/plain": [
              "   Label                                Titulo_tokens_clean  \\\n",
              "0      1  the guardian va sanchez europa necesita apuest...   \n",
              "1      0  revelan gobierno negocio liberacion mireles ca...   \n",
              "2      1  ahora nunca joan fuster estatuto valenciano cu...   \n",
              "3      1  iglesias alienta yolanda diaz erc eh bildu neg...   \n",
              "4      0  puigdemont seria ninguna tragedia repeticion e...   \n",
              "\n",
              "                            Descripcion_tokens_clean  \n",
              "0  diario britanico publico pasado jueves editori...  \n",
              "1  revelan gobierno negocio liberacion mireles ca...  \n",
              "2  valencianismo convoca castello fiesta grande c...  \n",
              "3  politica igual negociar empresarios negociar g...  \n",
              "4  entrevista punt avui lider jxcat desdramatizad...  "
            ]
          },
          "execution_count": 37,
          "metadata": {},
          "output_type": "execute_result"
        }
      ],
      "source": [
        "df_procesado.head()"
      ]
    },
    {
      "cell_type": "code",
      "execution_count": 53,
      "metadata": {},
      "outputs": [
        {
          "name": "stdout",
          "output_type": "stream",
          "text": [
            "Número de registros en X: 56612\n",
            "Número de etiquetas en y: 56612\n",
            " X y y tienen el mismo número de registros. OK.\n"
          ]
        }
      ],
      "source": [
        "from scipy.sparse import hstack\n",
        "from sklearn.feature_extraction.text import TfidfVectorizer\n",
        "\n",
        "# Vectorización con TF-IDF\n",
        "vectorizer = TfidfVectorizer(ngram_range=(1,2), max_features=3000)\n",
        "X_titulo = vectorizer.fit_transform(df_procesado[\"Titulo_tokens_clean\"])\n",
        "X_descripcion = vectorizer.fit_transform(df_procesado[\"Descripcion_tokens_clean\"])\n",
        "\n",
        "#  Concatenar ambas representaciones en una sola matriz\n",
        "X = hstack([X_titulo, X_descripcion])\n",
        "\n",
        "# Etiquetas\n",
        "y = df_procesado[\"Label\"]\n",
        "\n",
        "# Verificar dimensiones de la matriz X y etiquetas y\n",
        "print(f\"Número de registros en X: {X.shape[0]}\")\n",
        "print(f\"Número de etiquetas en y: {y.shape[0]}\")\n",
        "\n",
        "# Comprobar si hay inconsistencia\n",
        "if X.shape[0] == y.shape[0]:\n",
        "    print(\" X y y tienen el mismo número de registros. OK.\")\n",
        "else:\n",
        "    print(\" Error: X y y tienen un número diferente de registros.\")"
      ]
    },
    {
      "cell_type": "markdown",
      "metadata": {
        "id": "usw9mrH3Qp8Y"
      },
      "source": [
        "---\n",
        "\n",
        "## **3. Modelado y evaluación**"
      ]
    },
    {
      "cell_type": "markdown",
      "metadata": {
        "id": "Y7FRRWnmQzCQ"
      },
      "source": [
        "### 3.1. Estudiante 1 (Juan Pablo Barón): Modelo 1"
      ]
    },
    {
      "cell_type": "code",
      "execution_count": 54,
      "metadata": {
        "id": "LFljfw-WQsV-"
      },
      "outputs": [
        {
          "name": "stdout",
          "output_type": "stream",
          "text": [
            " Ejecutando Cross-Validation con SVM usando TÍTULO y DESCRIPCIÓN separados...\n"
          ]
        },
        {
          "name": "stderr",
          "output_type": "stream",
          "text": [
            "[Parallel(n_jobs=-1)]: Using backend LokyBackend with 8 concurrent workers.\n",
            "[Parallel(n_jobs=-1)]: Done   2 out of   5 | elapsed:   14.6s remaining:   22.0s\n"
          ]
        },
        {
          "name": "stdout",
          "output_type": "stream",
          "text": [
            "\n",
            " Resultados de Cross-Validation con SVM (Título y Descripción separados):\n",
            " Accuracy: 0.9022\n",
            " Precision: 0.8950\n",
            " Recall: 0.9414\n",
            " F1-Score: 0.9176\n",
            "\n",
            " Matriz de Confusión:\n",
            "[[20260  3615]\n",
            " [ 1919 30818]]\n",
            "\n",
            " Reporte de Clasificación:\n",
            "              precision    recall  f1-score   support\n",
            "\n",
            "           0       0.91      0.85      0.88     23875\n",
            "           1       0.90      0.94      0.92     32737\n",
            "\n",
            "    accuracy                           0.90     56612\n",
            "   macro avg       0.90      0.89      0.90     56612\n",
            "weighted avg       0.90      0.90      0.90     56612\n",
            "\n",
            "\n",
            " Tiempo total de ejecución: 0.27 minutos\n"
          ]
        },
        {
          "name": "stderr",
          "output_type": "stream",
          "text": [
            "[Parallel(n_jobs=-1)]: Done   5 out of   5 | elapsed:   16.0s finished\n"
          ]
        }
      ],
      "source": [
        "from sklearn.pipeline import Pipeline\n",
        "from sklearn.compose import ColumnTransformer\n",
        "from sklearn.svm import SVC, LinearSVC\n",
        "from sklearn.model_selection import StratifiedKFold, cross_val_predict\n",
        "from sklearn.feature_extraction.text import TfidfVectorizer\n",
        "from sklearn.metrics import accuracy_score, precision_score, recall_score, f1_score, confusion_matrix, classification_report\n",
        "import time\n",
        "\n",
        "# Medir tiempo de ejecución\n",
        "start_time = time.time()\n",
        "\n",
        "# Transformador para vectorizar Título y Descripción SEPARADOS\n",
        "tfidf_transformer = ColumnTransformer(\n",
        "    transformers=[\n",
        "        ('tfidf_titulo', TfidfVectorizer(ngram_range=(1,2), max_features=3000), \"Titulo_tokens_clean\"),\n",
        "        ('tfidf_descripcion', TfidfVectorizer(ngram_range=(1,2), max_features=3000), \"Descripcion_tokens_clean\")\n",
        "    ]\n",
        ")\n",
        "\n",
        "# Crear pipeline con TF-IDF separado y SVM\n",
        "modelo_svm = Pipeline([\n",
        "    ('vectorizacion', tfidf_transformer),\n",
        "    #('clasificador', SVC(kernel='rbf', C=1, gamma='scale', class_weight='balanced'))\n",
        "    ('clasificador', LinearSVC(C=1, random_state=42, dual=False))  \n",
        "])\n",
        "\n",
        "# Definir K-Folds estratificado (5 folds)\n",
        "kf = StratifiedKFold(n_splits=5, shuffle=True, random_state=42)\n",
        "\n",
        "#  Evaluación con Cross-Validation usando múltiples núcleos\n",
        "print(\" Ejecutando Cross-Validation con SVM usando TÍTULO y DESCRIPCIÓN separados...\")\n",
        "\n",
        "# **Aquí pasamos el DataFrame original con texto** y el pipeline vectoriza internamente\n",
        "y_pred_cv = cross_val_predict(modelo_svm, df_procesado, df_procesado[\"Label\"], cv=kf, n_jobs=-1, verbose=1)\n",
        "\n",
        "# Calcular métricas\n",
        "accuracy = accuracy_score(df_procesado[\"Label\"], y_pred_cv)\n",
        "precision = precision_score(df_procesado[\"Label\"], y_pred_cv, average='binary')\n",
        "recall = recall_score(df_procesado[\"Label\"], y_pred_cv, average='binary')\n",
        "f1 = f1_score(df_procesado[\"Label\"], y_pred_cv, average='binary')\n",
        "conf_matrix = confusion_matrix(df_procesado[\"Label\"], y_pred_cv)\n",
        "\n",
        "# Mostrar resultados\n",
        "print(\"\\n Resultados de Cross-Validation con SVM (Título y Descripción separados):\")\n",
        "print(f\" Accuracy: {accuracy:.4f}\")\n",
        "print(f\" Precision: {precision:.4f}\")\n",
        "print(f\" Recall: {recall:.4f}\")\n",
        "print(f\" F1-Score: {f1:.4f}\")\n",
        "print(\"\\n Matriz de Confusión:\")\n",
        "print(conf_matrix)\n",
        "\n",
        "# Reporte de clasificación\n",
        "print(\"\\n Reporte de Clasificación:\")\n",
        "print(classification_report(df_procesado[\"Label\"], y_pred_cv))\n",
        "\n",
        "# Medir tiempo total\n",
        "end_time = time.time()\n",
        "print(f\"\\n Tiempo total de ejecución: {(end_time - start_time) / 60:.2f} minutos\")\n"
      ]
    },
    {
      "cell_type": "markdown",
      "metadata": {
        "id": "OcdT6wSUQ7Rp"
      },
      "source": [
        "### 3.2. Estudiante 2 (María José Amorocho): Modelo 2"
      ]
    },
    {
      "cell_type": "code",
      "execution_count": null,
      "metadata": {
        "id": "hjzrMKngQ_ke"
      },
      "outputs": [],
      "source": []
    },
    {
      "cell_type": "markdown",
      "metadata": {
        "id": "Jal7SSSFRCvo"
      },
      "source": [
        "### 3.3. Estudiante 3 (Julian Mondragón): Modelo 3"
      ]
    },
    {
      "cell_type": "code",
      "execution_count": null,
      "metadata": {
        "id": "B1PZZ_hxRIrn"
      },
      "outputs": [],
      "source": []
    },
    {
      "cell_type": "markdown",
      "metadata": {
        "id": "L78_bpbWR5Uv"
      },
      "source": [
        "## **4. Resultados**"
      ]
    },
    {
      "cell_type": "markdown",
      "metadata": {
        "id": "8pwOPX_OR82t"
      },
      "source": [
        "### 4.1. Descripción de resultados obtenidos y cómo aportan a lograr el objetivo del modelo planteado"
      ]
    },
    {
      "cell_type": "code",
      "execution_count": null,
      "metadata": {
        "id": "NckxQoLiR7vv"
      },
      "outputs": [],
      "source": []
    },
    {
      "cell_type": "markdown",
      "metadata": {
        "id": "usVY1cNiSI87"
      },
      "source": [
        "### 4.2. Estrategia"
      ]
    },
    {
      "cell_type": "code",
      "execution_count": null,
      "metadata": {
        "id": "of9N_XUMSLI-"
      },
      "outputs": [],
      "source": []
    },
    {
      "cell_type": "markdown",
      "metadata": {
        "id": "FoG224E0SWsS"
      },
      "source": [
        "### 4.3 Archivo de predicciones sobre los datos de prueba en formato CSV"
      ]
    },
    {
      "cell_type": "code",
      "execution_count": null,
      "metadata": {
        "id": "HrTNtDtfSfrN"
      },
      "outputs": [],
      "source": []
    }
  ],
  "metadata": {
    "colab": {
      "provenance": []
    },
    "kernelspec": {
      "display_name": "uniandes",
      "language": "python",
      "name": "python3"
    },
    "language_info": {
      "codemirror_mode": {
        "name": "ipython",
        "version": 3
      },
      "file_extension": ".py",
      "mimetype": "text/x-python",
      "name": "python",
      "nbconvert_exporter": "python",
      "pygments_lexer": "ipython3",
      "version": "3.11.7"
    }
  },
  "nbformat": 4,
  "nbformat_minor": 0
}
