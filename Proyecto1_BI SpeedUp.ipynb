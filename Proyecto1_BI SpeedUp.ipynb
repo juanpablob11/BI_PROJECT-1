{
  "cells": [
    {
      "cell_type": "markdown",
      "metadata": {
        "id": "ncwsXz1pOXLB"
      },
      "source": [
        "# **PROYECTO 1 BI - DETECCIÓN DE FAKE NEWS**\n",
        "---\n",
        "\n",
        "Integrantes equipo #11:\n",
        "*   Estudiante #1: Juan Pablo Barón - 202210502\n",
        "*   Estudiante #2: María José Amorocho - 202220179\n",
        "*   Estudiante #3: Julian Mondragón - 202221122\n",
        "\n",
        "---"
      ]
    },
    {
      "cell_type": "markdown",
      "metadata": {},
      "source": [
        "# 0. Carga de datos"
      ]
    },
    {
      "cell_type": "code",
      "execution_count": 1,
      "metadata": {},
      "outputs": [
        {
          "name": "stdout",
          "output_type": "stream",
          "text": [
            "Requirement already satisfied: num2words in c:\\users\\majoa\\anaconda3\\envs\\uniandes\\lib\\site-packages (0.5.14)\n",
            "Requirement already satisfied: docopt>=0.6.2 in c:\\users\\majoa\\anaconda3\\envs\\uniandes\\lib\\site-packages (from num2words) (0.6.2)\n",
            "Requirement already satisfied: spacy in c:\\users\\majoa\\anaconda3\\envs\\uniandes\\lib\\site-packages (3.8.4)\n",
            "Requirement already satisfied: spacy-legacy<3.1.0,>=3.0.11 in c:\\users\\majoa\\anaconda3\\envs\\uniandes\\lib\\site-packages (from spacy) (3.0.12)\n",
            "Requirement already satisfied: spacy-loggers<2.0.0,>=1.0.0 in c:\\users\\majoa\\anaconda3\\envs\\uniandes\\lib\\site-packages (from spacy) (1.0.5)\n",
            "Requirement already satisfied: murmurhash<1.1.0,>=0.28.0 in c:\\users\\majoa\\anaconda3\\envs\\uniandes\\lib\\site-packages (from spacy) (1.0.12)\n",
            "Requirement already satisfied: cymem<2.1.0,>=2.0.2 in c:\\users\\majoa\\anaconda3\\envs\\uniandes\\lib\\site-packages (from spacy) (2.0.11)\n",
            "Requirement already satisfied: preshed<3.1.0,>=3.0.2 in c:\\users\\majoa\\anaconda3\\envs\\uniandes\\lib\\site-packages (from spacy) (3.0.9)\n",
            "Requirement already satisfied: thinc<8.4.0,>=8.3.4 in c:\\users\\majoa\\anaconda3\\envs\\uniandes\\lib\\site-packages (from spacy) (8.3.4)\n",
            "Requirement already satisfied: wasabi<1.2.0,>=0.9.1 in c:\\users\\majoa\\anaconda3\\envs\\uniandes\\lib\\site-packages (from spacy) (1.1.3)\n",
            "Requirement already satisfied: srsly<3.0.0,>=2.4.3 in c:\\users\\majoa\\anaconda3\\envs\\uniandes\\lib\\site-packages (from spacy) (2.5.1)\n",
            "Requirement already satisfied: catalogue<2.1.0,>=2.0.6 in c:\\users\\majoa\\anaconda3\\envs\\uniandes\\lib\\site-packages (from spacy) (2.0.10)\n",
            "Requirement already satisfied: weasel<0.5.0,>=0.1.0 in c:\\users\\majoa\\anaconda3\\envs\\uniandes\\lib\\site-packages (from spacy) (0.4.1)\n",
            "Requirement already satisfied: typer<1.0.0,>=0.3.0 in c:\\users\\majoa\\anaconda3\\envs\\uniandes\\lib\\site-packages (from spacy) (0.15.1)\n",
            "Requirement already satisfied: tqdm<5.0.0,>=4.38.0 in c:\\users\\majoa\\anaconda3\\envs\\uniandes\\lib\\site-packages (from spacy) (4.66.5)\n",
            "Requirement already satisfied: numpy>=1.19.0 in c:\\users\\majoa\\anaconda3\\envs\\uniandes\\lib\\site-packages (from spacy) (1.26.4)\n",
            "Requirement already satisfied: requests<3.0.0,>=2.13.0 in c:\\users\\majoa\\anaconda3\\envs\\uniandes\\lib\\site-packages (from spacy) (2.32.3)\n",
            "Requirement already satisfied: pydantic!=1.8,!=1.8.1,<3.0.0,>=1.7.4 in c:\\users\\majoa\\anaconda3\\envs\\uniandes\\lib\\site-packages (from spacy) (2.10.3)\n",
            "Requirement already satisfied: jinja2 in c:\\users\\majoa\\anaconda3\\envs\\uniandes\\lib\\site-packages (from spacy) (3.1.5)\n",
            "Requirement already satisfied: setuptools in c:\\users\\majoa\\anaconda3\\envs\\uniandes\\lib\\site-packages (from spacy) (75.8.0)\n",
            "Requirement already satisfied: packaging>=20.0 in c:\\users\\majoa\\anaconda3\\envs\\uniandes\\lib\\site-packages (from spacy) (24.2)\n",
            "Requirement already satisfied: langcodes<4.0.0,>=3.2.0 in c:\\users\\majoa\\anaconda3\\envs\\uniandes\\lib\\site-packages (from spacy) (3.5.0)\n",
            "Requirement already satisfied: language-data>=1.2 in c:\\users\\majoa\\anaconda3\\envs\\uniandes\\lib\\site-packages (from langcodes<4.0.0,>=3.2.0->spacy) (1.3.0)\n",
            "Requirement already satisfied: annotated-types>=0.6.0 in c:\\users\\majoa\\anaconda3\\envs\\uniandes\\lib\\site-packages (from pydantic!=1.8,!=1.8.1,<3.0.0,>=1.7.4->spacy) (0.6.0)\n",
            "Requirement already satisfied: pydantic-core==2.27.1 in c:\\users\\majoa\\anaconda3\\envs\\uniandes\\lib\\site-packages (from pydantic!=1.8,!=1.8.1,<3.0.0,>=1.7.4->spacy) (2.27.1)\n",
            "Requirement already satisfied: typing-extensions>=4.12.2 in c:\\users\\majoa\\anaconda3\\envs\\uniandes\\lib\\site-packages (from pydantic!=1.8,!=1.8.1,<3.0.0,>=1.7.4->spacy) (4.12.2)\n",
            "Requirement already satisfied: charset-normalizer<4,>=2 in c:\\users\\majoa\\anaconda3\\envs\\uniandes\\lib\\site-packages (from requests<3.0.0,>=2.13.0->spacy) (3.3.2)\n",
            "Requirement already satisfied: idna<4,>=2.5 in c:\\users\\majoa\\anaconda3\\envs\\uniandes\\lib\\site-packages (from requests<3.0.0,>=2.13.0->spacy) (3.7)\n",
            "Requirement already satisfied: urllib3<3,>=1.21.1 in c:\\users\\majoa\\anaconda3\\envs\\uniandes\\lib\\site-packages (from requests<3.0.0,>=2.13.0->spacy) (2.3.0)\n",
            "Requirement already satisfied: certifi>=2017.4.17 in c:\\users\\majoa\\anaconda3\\envs\\uniandes\\lib\\site-packages (from requests<3.0.0,>=2.13.0->spacy) (2025.1.31)\n",
            "Requirement already satisfied: blis<1.3.0,>=1.2.0 in c:\\users\\majoa\\anaconda3\\envs\\uniandes\\lib\\site-packages (from thinc<8.4.0,>=8.3.4->spacy) (1.2.0)\n",
            "Requirement already satisfied: confection<1.0.0,>=0.0.1 in c:\\users\\majoa\\anaconda3\\envs\\uniandes\\lib\\site-packages (from thinc<8.4.0,>=8.3.4->spacy) (0.1.5)\n",
            "Requirement already satisfied: colorama in c:\\users\\majoa\\anaconda3\\envs\\uniandes\\lib\\site-packages (from tqdm<5.0.0,>=4.38.0->spacy) (0.4.6)\n",
            "Requirement already satisfied: click>=8.0.0 in c:\\users\\majoa\\anaconda3\\envs\\uniandes\\lib\\site-packages (from typer<1.0.0,>=0.3.0->spacy) (8.1.7)\n",
            "Requirement already satisfied: shellingham>=1.3.0 in c:\\users\\majoa\\anaconda3\\envs\\uniandes\\lib\\site-packages (from typer<1.0.0,>=0.3.0->spacy) (1.5.4)\n",
            "Requirement already satisfied: rich>=10.11.0 in c:\\users\\majoa\\anaconda3\\envs\\uniandes\\lib\\site-packages (from typer<1.0.0,>=0.3.0->spacy) (13.9.4)\n",
            "Requirement already satisfied: cloudpathlib<1.0.0,>=0.7.0 in c:\\users\\majoa\\anaconda3\\envs\\uniandes\\lib\\site-packages (from weasel<0.5.0,>=0.1.0->spacy) (0.20.0)\n",
            "Requirement already satisfied: smart-open<8.0.0,>=5.2.1 in c:\\users\\majoa\\anaconda3\\envs\\uniandes\\lib\\site-packages (from weasel<0.5.0,>=0.1.0->spacy) (7.1.0)\n",
            "Requirement already satisfied: MarkupSafe>=2.0 in c:\\users\\majoa\\anaconda3\\envs\\uniandes\\lib\\site-packages (from jinja2->spacy) (2.1.3)\n",
            "Requirement already satisfied: marisa-trie>=1.1.0 in c:\\users\\majoa\\anaconda3\\envs\\uniandes\\lib\\site-packages (from language-data>=1.2->langcodes<4.0.0,>=3.2.0->spacy) (1.2.1)\n",
            "Requirement already satisfied: markdown-it-py>=2.2.0 in c:\\users\\majoa\\anaconda3\\envs\\uniandes\\lib\\site-packages (from rich>=10.11.0->typer<1.0.0,>=0.3.0->spacy) (3.0.0)\n",
            "Requirement already satisfied: pygments<3.0.0,>=2.13.0 in c:\\users\\majoa\\anaconda3\\envs\\uniandes\\lib\\site-packages (from rich>=10.11.0->typer<1.0.0,>=0.3.0->spacy) (2.15.1)\n",
            "Requirement already satisfied: wrapt in c:\\users\\majoa\\anaconda3\\envs\\uniandes\\lib\\site-packages (from smart-open<8.0.0,>=5.2.1->weasel<0.5.0,>=0.1.0->spacy) (1.17.2)\n",
            "Requirement already satisfied: mdurl~=0.1 in c:\\users\\majoa\\anaconda3\\envs\\uniandes\\lib\\site-packages (from markdown-it-py>=2.2.0->rich>=10.11.0->typer<1.0.0,>=0.3.0->spacy) (0.1.2)\n",
            "Collecting es-core-news-sm==3.8.0\n",
            "  Downloading https://github.com/explosion/spacy-models/releases/download/es_core_news_sm-3.8.0/es_core_news_sm-3.8.0-py3-none-any.whl (12.9 MB)\n",
            "     ---------------------------------------- 0.0/12.9 MB ? eta -:--:--\n",
            "     ----------------- ---------------------- 5.8/12.9 MB 32.0 MB/s eta 0:00:01\n",
            "     --------------------------------------  12.8/12.9 MB 38.4 MB/s eta 0:00:01\n",
            "     --------------------------------------- 12.9/12.9 MB 28.9 MB/s eta 0:00:00\n",
            "\u001b[38;5;2m✔ Download and installation successful\u001b[0m\n",
            "You can now load the package via spacy.load('es_core_news_sm')\n",
            "Requirement already satisfied: swifter in c:\\users\\majoa\\anaconda3\\envs\\uniandes\\lib\\site-packages (1.4.0)\n",
            "Requirement already satisfied: pandas>=1.0.0 in c:\\users\\majoa\\anaconda3\\envs\\uniandes\\lib\\site-packages (from swifter) (2.2.3)\n",
            "Requirement already satisfied: psutil>=5.6.6 in c:\\users\\majoa\\anaconda3\\envs\\uniandes\\lib\\site-packages (from swifter) (5.9.0)\n",
            "Requirement already satisfied: dask>=2.10.0 in c:\\users\\majoa\\anaconda3\\envs\\uniandes\\lib\\site-packages (from dask[dataframe]>=2.10.0->swifter) (2025.2.0)\n",
            "Requirement already satisfied: tqdm>=4.33.0 in c:\\users\\majoa\\anaconda3\\envs\\uniandes\\lib\\site-packages (from swifter) (4.66.5)\n",
            "Requirement already satisfied: click>=8.1 in c:\\users\\majoa\\anaconda3\\envs\\uniandes\\lib\\site-packages (from dask>=2.10.0->dask[dataframe]>=2.10.0->swifter) (8.1.7)\n",
            "Requirement already satisfied: cloudpickle>=3.0.0 in c:\\users\\majoa\\anaconda3\\envs\\uniandes\\lib\\site-packages (from dask>=2.10.0->dask[dataframe]>=2.10.0->swifter) (3.1.1)\n",
            "Requirement already satisfied: fsspec>=2021.09.0 in c:\\users\\majoa\\anaconda3\\envs\\uniandes\\lib\\site-packages (from dask>=2.10.0->dask[dataframe]>=2.10.0->swifter) (2025.2.0)\n",
            "Requirement already satisfied: packaging>=20.0 in c:\\users\\majoa\\anaconda3\\envs\\uniandes\\lib\\site-packages (from dask>=2.10.0->dask[dataframe]>=2.10.0->swifter) (24.2)\n",
            "Requirement already satisfied: partd>=1.4.0 in c:\\users\\majoa\\anaconda3\\envs\\uniandes\\lib\\site-packages (from dask>=2.10.0->dask[dataframe]>=2.10.0->swifter) (1.4.2)\n",
            "Requirement already satisfied: pyyaml>=5.3.1 in c:\\users\\majoa\\anaconda3\\envs\\uniandes\\lib\\site-packages (from dask>=2.10.0->dask[dataframe]>=2.10.0->swifter) (6.0.2)\n",
            "Requirement already satisfied: toolz>=0.10.0 in c:\\users\\majoa\\anaconda3\\envs\\uniandes\\lib\\site-packages (from dask>=2.10.0->dask[dataframe]>=2.10.0->swifter) (1.0.0)\n",
            "Requirement already satisfied: pyarrow>=14.0.1 in c:\\users\\majoa\\anaconda3\\envs\\uniandes\\lib\\site-packages (from dask[dataframe]>=2.10.0->swifter) (19.0.0)\n",
            "Requirement already satisfied: numpy>=1.26.0 in c:\\users\\majoa\\anaconda3\\envs\\uniandes\\lib\\site-packages (from pandas>=1.0.0->swifter) (1.26.4)\n",
            "Requirement already satisfied: python-dateutil>=2.8.2 in c:\\users\\majoa\\anaconda3\\envs\\uniandes\\lib\\site-packages (from pandas>=1.0.0->swifter) (2.9.0.post0)\n",
            "Requirement already satisfied: pytz>=2020.1 in c:\\users\\majoa\\anaconda3\\envs\\uniandes\\lib\\site-packages (from pandas>=1.0.0->swifter) (2024.1)\n",
            "Requirement already satisfied: tzdata>=2022.7 in c:\\users\\majoa\\anaconda3\\envs\\uniandes\\lib\\site-packages (from pandas>=1.0.0->swifter) (2023.3)\n",
            "Requirement already satisfied: colorama in c:\\users\\majoa\\anaconda3\\envs\\uniandes\\lib\\site-packages (from tqdm>=4.33.0->swifter) (0.4.6)\n",
            "Requirement already satisfied: locket in c:\\users\\majoa\\anaconda3\\envs\\uniandes\\lib\\site-packages (from partd>=1.4.0->dask>=2.10.0->dask[dataframe]>=2.10.0->swifter) (1.0.0)\n",
            "Requirement already satisfied: six>=1.5 in c:\\users\\majoa\\anaconda3\\envs\\uniandes\\lib\\site-packages (from python-dateutil>=2.8.2->pandas>=1.0.0->swifter) (1.16.0)\n",
            "Requirement already satisfied: seaborn in c:\\users\\majoa\\anaconda3\\envs\\uniandes\\lib\\site-packages (0.13.2)\n",
            "Requirement already satisfied: numpy!=1.24.0,>=1.20 in c:\\users\\majoa\\anaconda3\\envs\\uniandes\\lib\\site-packages (from seaborn) (1.26.4)\n",
            "Requirement already satisfied: pandas>=1.2 in c:\\users\\majoa\\anaconda3\\envs\\uniandes\\lib\\site-packages (from seaborn) (2.2.3)\n",
            "Requirement already satisfied: matplotlib!=3.6.1,>=3.4 in c:\\users\\majoa\\anaconda3\\envs\\uniandes\\lib\\site-packages (from seaborn) (3.8.4)\n",
            "Requirement already satisfied: contourpy>=1.0.1 in c:\\users\\majoa\\anaconda3\\envs\\uniandes\\lib\\site-packages (from matplotlib!=3.6.1,>=3.4->seaborn) (1.3.1)\n",
            "Requirement already satisfied: cycler>=0.10 in c:\\users\\majoa\\anaconda3\\envs\\uniandes\\lib\\site-packages (from matplotlib!=3.6.1,>=3.4->seaborn) (0.11.0)\n",
            "Requirement already satisfied: fonttools>=4.22.0 in c:\\users\\majoa\\anaconda3\\envs\\uniandes\\lib\\site-packages (from matplotlib!=3.6.1,>=3.4->seaborn) (4.55.3)\n",
            "Requirement already satisfied: kiwisolver>=1.3.1 in c:\\users\\majoa\\anaconda3\\envs\\uniandes\\lib\\site-packages (from matplotlib!=3.6.1,>=3.4->seaborn) (1.4.8)\n",
            "Requirement already satisfied: packaging>=20.0 in c:\\users\\majoa\\anaconda3\\envs\\uniandes\\lib\\site-packages (from matplotlib!=3.6.1,>=3.4->seaborn) (24.2)\n",
            "Requirement already satisfied: pillow>=8 in c:\\users\\majoa\\anaconda3\\envs\\uniandes\\lib\\site-packages (from matplotlib!=3.6.1,>=3.4->seaborn) (11.1.0)\n",
            "Requirement already satisfied: pyparsing>=2.3.1 in c:\\users\\majoa\\anaconda3\\envs\\uniandes\\lib\\site-packages (from matplotlib!=3.6.1,>=3.4->seaborn) (3.0.9)\n",
            "Requirement already satisfied: python-dateutil>=2.7 in c:\\users\\majoa\\anaconda3\\envs\\uniandes\\lib\\site-packages (from matplotlib!=3.6.1,>=3.4->seaborn) (2.9.0.post0)\n",
            "Requirement already satisfied: pytz>=2020.1 in c:\\users\\majoa\\anaconda3\\envs\\uniandes\\lib\\site-packages (from pandas>=1.2->seaborn) (2024.1)\n",
            "Requirement already satisfied: tzdata>=2022.7 in c:\\users\\majoa\\anaconda3\\envs\\uniandes\\lib\\site-packages (from pandas>=1.2->seaborn) (2023.3)\n",
            "Requirement already satisfied: six>=1.5 in c:\\users\\majoa\\anaconda3\\envs\\uniandes\\lib\\site-packages (from python-dateutil>=2.7->matplotlib!=3.6.1,>=3.4->seaborn) (1.16.0)\n",
            "Requirement already satisfied: nltk in c:\\users\\majoa\\anaconda3\\envs\\uniandes\\lib\\site-packages (3.9.1)\n",
            "Requirement already satisfied: click in c:\\users\\majoa\\anaconda3\\envs\\uniandes\\lib\\site-packages (from nltk) (8.1.7)\n",
            "Requirement already satisfied: joblib in c:\\users\\majoa\\anaconda3\\envs\\uniandes\\lib\\site-packages (from nltk) (1.1.1)\n",
            "Requirement already satisfied: regex>=2021.8.3 in c:\\users\\majoa\\anaconda3\\envs\\uniandes\\lib\\site-packages (from nltk) (2024.11.6)\n",
            "Requirement already satisfied: tqdm in c:\\users\\majoa\\anaconda3\\envs\\uniandes\\lib\\site-packages (from nltk) (4.66.5)\n",
            "Requirement already satisfied: colorama in c:\\users\\majoa\\anaconda3\\envs\\uniandes\\lib\\site-packages (from click->nltk) (0.4.6)\n"
          ]
        }
      ],
      "source": [
        "!pip install num2words\n",
        "!pip install spacy\n",
        "!python -m spacy download es_core_news_sm\n",
        "!pip install swifter\n",
        "!pip install seaborn\n",
        "!pip install nltk"
      ]
    },
    {
      "cell_type": "code",
      "execution_count": 2,
      "metadata": {},
      "outputs": [
        {
          "name": "stderr",
          "output_type": "stream",
          "text": [
            "[nltk_data] Downloading package punkt to\n",
            "[nltk_data]     C:\\Users\\majoa\\AppData\\Roaming\\nltk_data...\n",
            "[nltk_data]   Package punkt is already up-to-date!\n",
            "[nltk_data] Downloading package stopwords to\n",
            "[nltk_data]     C:\\Users\\majoa\\AppData\\Roaming\\nltk_data...\n",
            "[nltk_data]   Package stopwords is already up-to-date!\n"
          ]
        },
        {
          "data": {
            "text/html": [
              "<div>\n",
              "<style scoped>\n",
              "    .dataframe tbody tr th:only-of-type {\n",
              "        vertical-align: middle;\n",
              "    }\n",
              "\n",
              "    .dataframe tbody tr th {\n",
              "        vertical-align: top;\n",
              "    }\n",
              "\n",
              "    .dataframe thead th {\n",
              "        text-align: right;\n",
              "    }\n",
              "</style>\n",
              "<table border=\"1\" class=\"dataframe\">\n",
              "  <thead>\n",
              "    <tr style=\"text-align: right;\">\n",
              "      <th></th>\n",
              "      <th>ID</th>\n",
              "      <th>Label</th>\n",
              "      <th>Titulo</th>\n",
              "      <th>Descripcion</th>\n",
              "      <th>Fecha</th>\n",
              "    </tr>\n",
              "  </thead>\n",
              "  <tbody>\n",
              "    <tr>\n",
              "      <th>0</th>\n",
              "      <td>ID</td>\n",
              "      <td>1</td>\n",
              "      <td>'The Guardian' va con Sánchez: 'Europa necesit...</td>\n",
              "      <td>El diario británico publicó este pasado jueves...</td>\n",
              "      <td>02/06/2023</td>\n",
              "    </tr>\n",
              "    <tr>\n",
              "      <th>1</th>\n",
              "      <td>ID</td>\n",
              "      <td>0</td>\n",
              "      <td>REVELAN QUE EL GOBIERNO NEGOCIO LA LIBERACIÓN ...</td>\n",
              "      <td>REVELAN QUE EL GOBIERNO NEGOCIO LA LIBERACIÓN ...</td>\n",
              "      <td>01/10/2023</td>\n",
              "    </tr>\n",
              "    <tr>\n",
              "      <th>2</th>\n",
              "      <td>ID</td>\n",
              "      <td>1</td>\n",
              "      <td>El 'Ahora o nunca' de Joan Fuster sobre el est...</td>\n",
              "      <td>El valencianismo convoca en Castelló su fiesta...</td>\n",
              "      <td>25/04/2022</td>\n",
              "    </tr>\n",
              "    <tr>\n",
              "      <th>3</th>\n",
              "      <td>ID</td>\n",
              "      <td>1</td>\n",
              "      <td>Iglesias alienta a Yolanda Díaz, ERC y EH Bild...</td>\n",
              "      <td>En política, igual que hay que negociar con lo...</td>\n",
              "      <td>03/01/2022</td>\n",
              "    </tr>\n",
              "    <tr>\n",
              "      <th>4</th>\n",
              "      <td>ID</td>\n",
              "      <td>0</td>\n",
              "      <td>Puigdemont: 'No sería ninguna tragedia una rep...</td>\n",
              "      <td>En una entrevista en El Punt Avui, el líder de...</td>\n",
              "      <td>09/03/2018</td>\n",
              "    </tr>\n",
              "  </tbody>\n",
              "</table>\n",
              "</div>"
            ],
            "text/plain": [
              "   ID  Label                                             Titulo  \\\n",
              "0  ID      1  'The Guardian' va con Sánchez: 'Europa necesit...   \n",
              "1  ID      0  REVELAN QUE EL GOBIERNO NEGOCIO LA LIBERACIÓN ...   \n",
              "2  ID      1  El 'Ahora o nunca' de Joan Fuster sobre el est...   \n",
              "3  ID      1  Iglesias alienta a Yolanda Díaz, ERC y EH Bild...   \n",
              "4  ID      0  Puigdemont: 'No sería ninguna tragedia una rep...   \n",
              "\n",
              "                                         Descripcion       Fecha  \n",
              "0  El diario británico publicó este pasado jueves...  02/06/2023  \n",
              "1  REVELAN QUE EL GOBIERNO NEGOCIO LA LIBERACIÓN ...  01/10/2023  \n",
              "2  El valencianismo convoca en Castelló su fiesta...  25/04/2022  \n",
              "3  En política, igual que hay que negociar con lo...  03/01/2022  \n",
              "4  En una entrevista en El Punt Avui, el líder de...  09/03/2018  "
            ]
          },
          "execution_count": 2,
          "metadata": {},
          "output_type": "execute_result"
        }
      ],
      "source": [
        "from pandas import pandas as pd\n",
        "import numpy as np\n",
        "import matplotlib.pyplot as plt\n",
        "import seaborn as sns\n",
        "import nltk\n",
        "import re, string, unicodedata\n",
        "from num2words import num2words\n",
        "from nltk.corpus import stopwords\n",
        "import spacy\n",
        "\n",
        "\n",
        "# Punkt permite separar un texto en frases.\n",
        "nltk.download('punkt')\n",
        "#Descargar palabras vacías (stopwords)\n",
        "nltk.download(\"stopwords\")\n",
        "stop_words = set(stopwords.words(\"spanish\"))\n",
        "\n",
        "\n",
        "data_set = pd.read_csv('./Data/fake_news_spanish.csv', delimiter=\";\")\n",
        "data_set_augmented = pd.read_csv('./Data/Noticias_Falsas_Extendidas_50-50.csv', delimiter=\",\")\n",
        "data_set_augmented.head()"
      ]
    },
    {
      "cell_type": "markdown",
      "metadata": {
        "id": "0vnEF0APPGvF"
      },
      "source": [
        "# **1. Entendimiento del negocio y enfoque analítico**"
      ]
    },
    {
      "cell_type": "markdown",
      "metadata": {
        "id": "tR_wD96zPbrD"
      },
      "source": [
        "## 1.1. Generalidades"
      ]
    },
    {
      "cell_type": "markdown",
      "metadata": {},
      "source": [
        "### Oportunidad/Problema de Negocio\n",
        "\n",
        "La creacion de noticias falsas en el ámbito político representa un desafío significativo tanto a nivel nacional como internacional, impactando la gobernabilidad, la opinión pública y la seguridad global. La detección automática de noticias falsas se presenta como una oportunidad para mitigar estos efectos negativos, apoyando a medios de comunicación, instituciones gubernamentales y usuarios individuales a identificar contenido confiable.\n",
        "\n",
        "### Objetivos\n",
        "\n",
        "- Aplicar metodologías de analítica de textos para detectar noticias falsas.\n",
        "\n",
        "- Construir un modelo analítico que clasifique las noticias en verídicas o falsas.\n",
        "\n",
        "- Automatizar el proceso de detección para que funcione con nuevos conjuntos de datos de manera continua.\n",
        "\n",
        "- Proporcionar a los usuarios finales herramientas para evaluar la veracidad de las noticias y reducir la desinformación.\n",
        "\n",
        "### Criterios de Éxito\n",
        "\n",
        "- Alta precisión, recall y F1 score en la detección de noticias falsas.\n",
        "\n",
        "- Baja latencia en las predicciones.\n",
        "\n",
        "- Ausencia de sesgos en el procesamiento de noticias.\n",
        "\n",
        "- Capacidad de actualización periódica con nuevos datos.\n",
        "\n",
        "- Impacto positivo en la reducción de desinformación y polarización.\n",
        "\n",
        "### Organización y Roles Beneficiados\n",
        "\n",
        "- Usuarios finales: Consumidores de contenido informativo, quienes podrán acceder a información verificada y confiable.\n",
        "\n",
        "- Medios de comunicación: Organizaciones periodísticas que buscan mantener su credibilidad y combatir la desinformación.\n",
        "\n",
        "- Instituciones gubernamentales: Apoyo en la toma de decisiones y gestión de la opinión pública.\n",
        "\n",
        "- Empresas: Aquellas que trabajan en conjunto con el gobierno o dependen de información verídica para su operación."
      ]
    },
    {
      "cell_type": "markdown",
      "metadata": {
        "id": "jXLMzYS7PiYA"
      },
      "source": [
        "## 1.2. Impacto y enfoque analítico"
      ]
    },
    {
      "cell_type": "markdown",
      "metadata": {},
      "source": [
        "### Impacto en Colombia\n",
        "\n",
        "La solución propuesta tiene el potencial de generar un impacto significativo en Colombia, contribuyendo a la disminución de la desinformación en el contexto político y social. Al proporcionar herramientas precisas para detectar noticias falsas, se espera fortalecer la confianza en las instituciones democráticas, reducir la polarización y apoyar a los medios de comunicación en la difusión de información verificada. Además, esta solución beneficiará a usuarios individuales, medios de comunicación y entidades gubernamentales, promoviendo un ecosistema informativo más confiable y transparente.\n",
        "\n",
        "### Enfoque Analítico\n",
        "\n",
        "El enfoque analítico adoptado para este proyecto incluye:\n",
        "\n",
        "- Categoría del análisis: Se centra en un análisis predictivo, orientado a anticipar si una noticia es verdadera o falsa con base en los datos de entrenamiento proporcionados.\n",
        "\n",
        "- Tipo de aprendizaje: Aprendizaje supervisado, utilizando un conjunto de datos etiquetado que permite al modelo aprender de ejemplos previos y realizar predicciones sobre nuevos datos.\n",
        "\n",
        "- Tarea de aprendizaje: Clasificación, donde cada noticia se asigna a una de dos categorías: verídica o falsa.\n",
        "\n",
        "- Técnicas y Algoritmos a Considerar: Para alcanzar los objetivos del negocio, se evaluarán diversas técnicas y algoritmos de aprendizaje automático y procesamiento de lenguaje natural (NLP), como Naive Bayes, Support Vector Machines (SVM), Random Forest, y métodos de vectorización como TF-IDF, Bag of Words y embeddings de palabras (Word2Vec, GloVe). Aún no se ha definido la técnica exacta de vectorización a utilizar, pero estas opciones serán analizadas y evaluadas según su rendimiento y adecuación al contexto del proyecto.\n",
        "\n"
      ]
    },
    {
      "cell_type": "markdown",
      "metadata": {
        "id": "hs-0HUA1P8NJ"
      },
      "source": [
        "---"
      ]
    },
    {
      "cell_type": "markdown",
      "metadata": {},
      "source": [
        " # **2. Entendimiento y preparación de los datos**"
      ]
    },
    {
      "cell_type": "markdown",
      "metadata": {},
      "source": [
        "### 2.1 Selección de variables"
      ]
    },
    {
      "cell_type": "markdown",
      "metadata": {},
      "source": [
        "Para saber si una noticia es falsa o no, el modelo unicamente usará los datos de 'Titulo' y 'Descripcion' de la noticia. Esto se debe a que, por una parte, la columna 'ID' dentro del dataset, no aporta ninguna información y por otro lado, la fecha de una noticia no es relevante para el caso dado que la verdacidad de la noticia no depende del día que haya sido escrita. Se dejará la columna de Label ya que a partir de esta es que el modelo puede aprender"
      ]
    },
    {
      "cell_type": "code",
      "execution_count": 3,
      "metadata": {},
      "outputs": [
        {
          "data": {
            "text/html": [
              "<div>\n",
              "<style scoped>\n",
              "    .dataframe tbody tr th:only-of-type {\n",
              "        vertical-align: middle;\n",
              "    }\n",
              "\n",
              "    .dataframe tbody tr th {\n",
              "        vertical-align: top;\n",
              "    }\n",
              "\n",
              "    .dataframe thead th {\n",
              "        text-align: right;\n",
              "    }\n",
              "</style>\n",
              "<table border=\"1\" class=\"dataframe\">\n",
              "  <thead>\n",
              "    <tr style=\"text-align: right;\">\n",
              "      <th></th>\n",
              "      <th>Titulo</th>\n",
              "      <th>Descripcion</th>\n",
              "      <th>Label</th>\n",
              "    </tr>\n",
              "  </thead>\n",
              "  <tbody>\n",
              "    <tr>\n",
              "      <th>0</th>\n",
              "      <td>'The Guardian' va con Sánchez: 'Europa necesit...</td>\n",
              "      <td>El diario británico publicó este pasado jueves...</td>\n",
              "      <td>1</td>\n",
              "    </tr>\n",
              "    <tr>\n",
              "      <th>1</th>\n",
              "      <td>REVELAN QUE EL GOBIERNO NEGOCIO LA LIBERACIÓN ...</td>\n",
              "      <td>REVELAN QUE EL GOBIERNO NEGOCIO LA LIBERACIÓN ...</td>\n",
              "      <td>0</td>\n",
              "    </tr>\n",
              "    <tr>\n",
              "      <th>2</th>\n",
              "      <td>El 'Ahora o nunca' de Joan Fuster sobre el est...</td>\n",
              "      <td>El valencianismo convoca en Castelló su fiesta...</td>\n",
              "      <td>1</td>\n",
              "    </tr>\n",
              "    <tr>\n",
              "      <th>3</th>\n",
              "      <td>Iglesias alienta a Yolanda Díaz, ERC y EH Bild...</td>\n",
              "      <td>En política, igual que hay que negociar con lo...</td>\n",
              "      <td>1</td>\n",
              "    </tr>\n",
              "    <tr>\n",
              "      <th>4</th>\n",
              "      <td>Puigdemont: 'No sería ninguna tragedia una rep...</td>\n",
              "      <td>En una entrevista en El Punt Avui, el líder de...</td>\n",
              "      <td>0</td>\n",
              "    </tr>\n",
              "  </tbody>\n",
              "</table>\n",
              "</div>"
            ],
            "text/plain": [
              "                                              Titulo  \\\n",
              "0  'The Guardian' va con Sánchez: 'Europa necesit...   \n",
              "1  REVELAN QUE EL GOBIERNO NEGOCIO LA LIBERACIÓN ...   \n",
              "2  El 'Ahora o nunca' de Joan Fuster sobre el est...   \n",
              "3  Iglesias alienta a Yolanda Díaz, ERC y EH Bild...   \n",
              "4  Puigdemont: 'No sería ninguna tragedia una rep...   \n",
              "\n",
              "                                         Descripcion  Label  \n",
              "0  El diario británico publicó este pasado jueves...      1  \n",
              "1  REVELAN QUE EL GOBIERNO NEGOCIO LA LIBERACIÓN ...      0  \n",
              "2  El valencianismo convoca en Castelló su fiesta...      1  \n",
              "3  En política, igual que hay que negociar con lo...      1  \n",
              "4  En una entrevista en El Punt Avui, el líder de...      0  "
            ]
          },
          "execution_count": 3,
          "metadata": {},
          "output_type": "execute_result"
        }
      ],
      "source": [
        "def definir_variables(data_set_inicial):\n",
        "    features = ['Titulo', 'Descripcion', 'Label']\n",
        "    return data_set_inicial[features]\n",
        "    \n",
        "df = definir_variables(data_set)\n",
        "df.head()"
      ]
    },
    {
      "cell_type": "markdown",
      "metadata": {
        "id": "4reuwBZdQgBb"
      },
      "source": [
        "### 2.2 Perfilamiento de datos"
      ]
    },
    {
      "cell_type": "markdown",
      "metadata": {},
      "source": [
        "Es importante saber la **cantidad de datos** con la que se está trabajando, no solo para la elaboración de los modelos, sino porque es relevante evaluar la carga que generarán los mismos."
      ]
    },
    {
      "cell_type": "code",
      "execution_count": 4,
      "metadata": {
        "id": "uM7g2qJ3QCsj"
      },
      "outputs": [
        {
          "data": {
            "text/plain": [
              "(57063, 5)"
            ]
          },
          "execution_count": 4,
          "metadata": {},
          "output_type": "execute_result"
        }
      ],
      "source": [
        "data_set.shape"
      ]
    },
    {
      "cell_type": "markdown",
      "metadata": {},
      "source": [
        "En este caso, se cuenta con aproximadamente 57000 datos. Un número considerable teniendo en cuenta las actividades que posteriormente deben desarrollarse (limpieza, preprocesamiento y procesamiento para crear los modelos). "
      ]
    },
    {
      "cell_type": "markdown",
      "metadata": {},
      "source": [
        "Adicionalmente, se detallan los **tipos de dato presentes**, cantidad de datos nulos y columnas que componen el data set. Esto porque es relvente saber qué tipo de dato tiene cada variable antes de empezar a tratarlas directamente "
      ]
    },
    {
      "cell_type": "code",
      "execution_count": 5,
      "metadata": {},
      "outputs": [
        {
          "name": "stdout",
          "output_type": "stream",
          "text": [
            "<class 'pandas.core.frame.DataFrame'>\n",
            "RangeIndex: 57063 entries, 0 to 57062\n",
            "Data columns (total 5 columns):\n",
            " #   Column       Non-Null Count  Dtype \n",
            "---  ------       --------------  ----- \n",
            " 0   ID           57063 non-null  object\n",
            " 1   Label        57063 non-null  int64 \n",
            " 2   Titulo       57047 non-null  object\n",
            " 3   Descripcion  57063 non-null  object\n",
            " 4   Fecha        57063 non-null  object\n",
            "dtypes: int64(1), object(4)\n",
            "memory usage: 2.2+ MB\n"
          ]
        }
      ],
      "source": [
        "data_set.info()"
      ]
    },
    {
      "cell_type": "markdown",
      "metadata": {},
      "source": [
        "Ya que las columnas de 'Titulo' y 'Descripción' son objetos, no hay que hacerles un tramaniento adicional antes de iniciar con el preprocesamiento. "
      ]
    },
    {
      "cell_type": "markdown",
      "metadata": {},
      "source": [
        "Por otro lado, se evalúa directamente la **cantidad de datos vacíos**, ya que podrían afectar la calidad del modelo y complejizar funciones posteriores relacionadas al procesamiento de textos."
      ]
    },
    {
      "cell_type": "code",
      "execution_count": 6,
      "metadata": {},
      "outputs": [
        {
          "name": "stdout",
          "output_type": "stream",
          "text": [
            "ID              0\n",
            "Label           0\n",
            "Titulo         16\n",
            "Descripcion     0\n",
            "Fecha           0\n",
            "dtype: int64\n"
          ]
        }
      ],
      "source": [
        "print(data_set.isnull().sum())"
      ]
    },
    {
      "cell_type": "code",
      "execution_count": 7,
      "metadata": {},
      "outputs": [
        {
          "data": {
            "text/html": [
              "<div>\n",
              "<style scoped>\n",
              "    .dataframe tbody tr th:only-of-type {\n",
              "        vertical-align: middle;\n",
              "    }\n",
              "\n",
              "    .dataframe tbody tr th {\n",
              "        vertical-align: top;\n",
              "    }\n",
              "\n",
              "    .dataframe thead th {\n",
              "        text-align: right;\n",
              "    }\n",
              "</style>\n",
              "<table border=\"1\" class=\"dataframe\">\n",
              "  <thead>\n",
              "    <tr style=\"text-align: right;\">\n",
              "      <th></th>\n",
              "      <th>ID</th>\n",
              "      <th>Label</th>\n",
              "      <th>Titulo</th>\n",
              "      <th>Descripcion</th>\n",
              "      <th>Fecha</th>\n",
              "    </tr>\n",
              "  </thead>\n",
              "  <tbody>\n",
              "    <tr>\n",
              "      <th>3243</th>\n",
              "      <td>ID</td>\n",
              "      <td>0</td>\n",
              "      <td>NaN</td>\n",
              "      <td>Hace unos 75 años, Hermann Göring testificó en...</td>\n",
              "      <td>16/06/2019</td>\n",
              "    </tr>\n",
              "    <tr>\n",
              "      <th>4189</th>\n",
              "      <td>ID</td>\n",
              "      <td>0</td>\n",
              "      <td>NaN</td>\n",
              "      <td>Evidentemente, Barak Obama ha sido arrestado e...</td>\n",
              "      <td>10/03/2022</td>\n",
              "    </tr>\n",
              "    <tr>\n",
              "      <th>5041</th>\n",
              "      <td>ID</td>\n",
              "      <td>0</td>\n",
              "      <td>NaN</td>\n",
              "      <td>\"Después de convertirme en presidente, le pedí...</td>\n",
              "      <td>16/03/2022</td>\n",
              "    </tr>\n",
              "    <tr>\n",
              "      <th>5644</th>\n",
              "      <td>ID</td>\n",
              "      <td>0</td>\n",
              "      <td>NaN</td>\n",
              "      <td>Me pasaron de buena fuente hoy (un vecino del ...</td>\n",
              "      <td>08/04/2023</td>\n",
              "    </tr>\n",
              "    <tr>\n",
              "      <th>7345</th>\n",
              "      <td>ID</td>\n",
              "      <td>0</td>\n",
              "      <td>NaN</td>\n",
              "      <td>Defienden dichos con capitulos de Don Gato.\\r\\...</td>\n",
              "      <td>02/07/2023</td>\n",
              "    </tr>\n",
              "    <tr>\n",
              "      <th>7652</th>\n",
              "      <td>ID</td>\n",
              "      <td>0</td>\n",
              "      <td>NaN</td>\n",
              "      <td>Lean (y vean la imagen) con mucha atención:\\r\\...</td>\n",
              "      <td>04/08/2018</td>\n",
              "    </tr>\n",
              "    <tr>\n",
              "      <th>9700</th>\n",
              "      <td>ID</td>\n",
              "      <td>0</td>\n",
              "      <td>NaN</td>\n",
              "      <td>¿Sabías que Francisco Sagasti salió a marchar ...</td>\n",
              "      <td>26/12/2018</td>\n",
              "    </tr>\n",
              "    <tr>\n",
              "      <th>15159</th>\n",
              "      <td>ID</td>\n",
              "      <td>0</td>\n",
              "      <td>NaN</td>\n",
              "      <td>Declarar a Bill Gates enemigo público y proces...</td>\n",
              "      <td>02/08/2024</td>\n",
              "    </tr>\n",
              "    <tr>\n",
              "      <th>19415</th>\n",
              "      <td>ID</td>\n",
              "      <td>0</td>\n",
              "      <td>NaN</td>\n",
              "      <td>Con el fin de captar votos están dispuestos a ...</td>\n",
              "      <td>28/10/2017</td>\n",
              "    </tr>\n",
              "    <tr>\n",
              "      <th>24806</th>\n",
              "      <td>ID</td>\n",
              "      <td>0</td>\n",
              "      <td>NaN</td>\n",
              "      <td>CUANDO LAS IMÁGENES HABLAN MÁS QUE PALABRAS.\\r...</td>\n",
              "      <td>28/06/2018</td>\n",
              "    </tr>\n",
              "    <tr>\n",
              "      <th>35816</th>\n",
              "      <td>ID</td>\n",
              "      <td>0</td>\n",
              "      <td>NaN</td>\n",
              "      <td>#ÚLTIMA_HORA Le ordenaré a los empresarios de ...</td>\n",
              "      <td>07/05/2021</td>\n",
              "    </tr>\n",
              "    <tr>\n",
              "      <th>36724</th>\n",
              "      <td>ID</td>\n",
              "      <td>0</td>\n",
              "      <td>NaN</td>\n",
              "      <td>Como muchos de ustedes recordarán, ayer por la...</td>\n",
              "      <td>04/02/2023</td>\n",
              "    </tr>\n",
              "    <tr>\n",
              "      <th>40295</th>\n",
              "      <td>ID</td>\n",
              "      <td>0</td>\n",
              "      <td>NaN</td>\n",
              "      <td>Juanma Moreno Bonilla, presidente de la Junta ...</td>\n",
              "      <td>21/08/2020</td>\n",
              "    </tr>\n",
              "    <tr>\n",
              "      <th>41810</th>\n",
              "      <td>ID</td>\n",
              "      <td>0</td>\n",
              "      <td>NaN</td>\n",
              "      <td>¡¡ESTA LA PURA VERDAD!!\\r\\n\\r\\n¡¡NO ES NECESAR...</td>\n",
              "      <td>19/10/2017</td>\n",
              "    </tr>\n",
              "    <tr>\n",
              "      <th>47967</th>\n",
              "      <td>ID</td>\n",
              "      <td>0</td>\n",
              "      <td>NaN</td>\n",
              "      <td>Se han dado a conocer los datos electorales pr...</td>\n",
              "      <td>19/04/2019</td>\n",
              "    </tr>\n",
              "    <tr>\n",
              "      <th>55146</th>\n",
              "      <td>ID</td>\n",
              "      <td>0</td>\n",
              "      <td>NaN</td>\n",
              "      <td>Denuncia Pública\\r\\nSe veía venir... En Gualac...</td>\n",
              "      <td>15/02/2023</td>\n",
              "    </tr>\n",
              "  </tbody>\n",
              "</table>\n",
              "</div>"
            ],
            "text/plain": [
              "       ID  Label Titulo                                        Descripcion  \\\n",
              "3243   ID      0    NaN  Hace unos 75 años, Hermann Göring testificó en...   \n",
              "4189   ID      0    NaN  Evidentemente, Barak Obama ha sido arrestado e...   \n",
              "5041   ID      0    NaN  \"Después de convertirme en presidente, le pedí...   \n",
              "5644   ID      0    NaN  Me pasaron de buena fuente hoy (un vecino del ...   \n",
              "7345   ID      0    NaN  Defienden dichos con capitulos de Don Gato.\\r\\...   \n",
              "7652   ID      0    NaN  Lean (y vean la imagen) con mucha atención:\\r\\...   \n",
              "9700   ID      0    NaN  ¿Sabías que Francisco Sagasti salió a marchar ...   \n",
              "15159  ID      0    NaN  Declarar a Bill Gates enemigo público y proces...   \n",
              "19415  ID      0    NaN  Con el fin de captar votos están dispuestos a ...   \n",
              "24806  ID      0    NaN  CUANDO LAS IMÁGENES HABLAN MÁS QUE PALABRAS.\\r...   \n",
              "35816  ID      0    NaN  #ÚLTIMA_HORA Le ordenaré a los empresarios de ...   \n",
              "36724  ID      0    NaN  Como muchos de ustedes recordarán, ayer por la...   \n",
              "40295  ID      0    NaN  Juanma Moreno Bonilla, presidente de la Junta ...   \n",
              "41810  ID      0    NaN  ¡¡ESTA LA PURA VERDAD!!\\r\\n\\r\\n¡¡NO ES NECESAR...   \n",
              "47967  ID      0    NaN  Se han dado a conocer los datos electorales pr...   \n",
              "55146  ID      0    NaN  Denuncia Pública\\r\\nSe veía venir... En Gualac...   \n",
              "\n",
              "            Fecha  \n",
              "3243   16/06/2019  \n",
              "4189   10/03/2022  \n",
              "5041   16/03/2022  \n",
              "5644   08/04/2023  \n",
              "7345   02/07/2023  \n",
              "7652   04/08/2018  \n",
              "9700   26/12/2018  \n",
              "15159  02/08/2024  \n",
              "19415  28/10/2017  \n",
              "24806  28/06/2018  \n",
              "35816  07/05/2021  \n",
              "36724  04/02/2023  \n",
              "40295  21/08/2020  \n",
              "41810  19/10/2017  \n",
              "47967  19/04/2019  \n",
              "55146  15/02/2023  "
            ]
          },
          "execution_count": 7,
          "metadata": {},
          "output_type": "execute_result"
        }
      ],
      "source": [
        "df_nulos = data_set[data_set.isnull().any(axis=1)]\n",
        "df_nulos.head(16)"
      ]
    },
    {
      "cell_type": "markdown",
      "metadata": {},
      "source": [
        "Como se ve, hay 16 noticias que no contienen un título. Se toma la decisión de no borrar estos datos porque el hecho de que una noticia no tenga un título, significa que la información sobre esta sea errónea. Además, todas las noticias sin título están etiquetadas como falsas, por lo que podría haber una relaicón entre estos dos. "
      ]
    },
    {
      "cell_type": "markdown",
      "metadata": {},
      "source": [
        "Por otro lado, se reivsan las **filas duplicadas** para verificar que no haya información repetida que pueda afectar los modelos. "
      ]
    },
    {
      "cell_type": "code",
      "execution_count": 8,
      "metadata": {},
      "outputs": [
        {
          "data": {
            "text/plain": [
              "(875, 5)"
            ]
          },
          "execution_count": 8,
          "metadata": {},
          "output_type": "execute_result"
        }
      ],
      "source": [
        "duplicated_rows = data_set.loc[data_set.duplicated(keep=False)]\n",
        "duplicated_rows.shape"
      ]
    },
    {
      "cell_type": "markdown",
      "metadata": {},
      "source": [
        "Se encontraron 875 filas repetidas. Esto significa que en la limpieza de datos debe eliminarse aquella información que sea redundante."
      ]
    },
    {
      "cell_type": "markdown",
      "metadata": {},
      "source": [
        "Adicionalmente, es importante revisar su hay **filas duplicadas parcialmente**; es decir, filas que compartan título y descripción, pero diferente label, pues es algo que sin duda afectará la calidad de los modelos. "
      ]
    },
    {
      "cell_type": "code",
      "execution_count": 9,
      "metadata": {},
      "outputs": [
        {
          "data": {
            "text/plain": [
              "(2, 5)"
            ]
          },
          "execution_count": 9,
          "metadata": {},
          "output_type": "execute_result"
        }
      ],
      "source": [
        "def find_partial_duplicates(df: pd.DataFrame) -> pd.DataFrame:\n",
        "    \"\"\"\n",
        "    Identifica filas con el mismo título y descripción pero diferente label.\n",
        "    \n",
        "    Parámetros:\n",
        "    df (pd.DataFrame): DataFrame de entrada con columnas ['id', 'label', 'Titulo', 'descripcion', 'fecha'].\n",
        "    \n",
        "    Retorna:\n",
        "    pd.DataFrame: DataFrame con duplicados parciales.\n",
        "    \"\"\"\n",
        "    # Identificar duplicados basados en 'Titulo' y 'descripcion'\n",
        "    duplicated_mask = df.duplicated(subset=['Titulo', 'Descripcion'], keep=False)\n",
        "    \n",
        "    # Filtrar las filas que cumplen la condición\n",
        "    duplicates = df[duplicated_mask].sort_values(by=['Titulo', 'Descripcion'])\n",
        "    \n",
        "    # Agrupar por título y descripción, asegurando que hay más de un label diferente\n",
        "    duplicates_grouped = duplicates.groupby(['Titulo', 'Descripcion'])['Label'].nunique().reset_index()\n",
        "    \n",
        "    # Filtrar los casos donde hay más de un label único\n",
        "    filtered_duplicates = duplicates_grouped[duplicates_grouped['Label'] > 1]\n",
        "\n",
        "    # Unir con el DataFrame original para obtener los duplicados completos\n",
        "    result = df.merge(filtered_duplicates[['Titulo', 'Descripcion']], on=['Titulo', 'Descripcion'])\n",
        "\n",
        "    return result\n",
        "\n",
        "df = find_partial_duplicates(data_set)\n",
        "df.shape\n"
      ]
    },
    {
      "cell_type": "markdown",
      "metadata": {},
      "source": [
        "Se hallaron 2 filas duplicadas parcialmente. En este caso, se propone avisar la inconsistencia y eliminar ambos datos para que no afecte el aprendizaje del modelo. "
      ]
    },
    {
      "cell_type": "markdown",
      "metadata": {},
      "source": [
        "A parte de lo anteiror, se hace un **análisis de balance de clases** (que tanto hay de fake news label=0 y que tantas son veridicas label=1). Esto ayudará a representar gráficamente con cuantas noticias veridicas y falsas hay para que el modelo pueda realizar su predicción. "
      ]
    },
    {
      "cell_type": "code",
      "execution_count": 10,
      "metadata": {},
      "outputs": [
        {
          "data": {
            "image/png": "[encoded data removed]",
            "text/plain": [
              "<Figure size 1000x800 with 1 Axes>"
            ]
          },
          "metadata": {},
          "output_type": "display_data"
        }
      ],
      "source": [
        "# Crear la figura\n",
        "plt.figure(figsize=(10, 8))\n",
        "\n",
        "# Crear el gráfico de conteo\n",
        "ax = sns.countplot(x=data_set[\"Label\"])\n",
        "\n",
        "# Agregar etiquetas con el número de cada categoría en la parte superior de las barras\n",
        "for p in ax.patches:\n",
        "    ax.annotate(f'{int(p.get_height())}', \n",
        "                (p.get_x() + p.get_width() / 2, p.get_height()), \n",
        "                ha='center', va='bottom', fontsize=12, fontweight='bold', color='black')\n",
        "\n",
        "# Configurar título y etiquetas\n",
        "plt.title(\"Distribución de Clases (Noticias Fake vs. Verídicas)\")\n",
        "plt.xlabel(\"Clase (0 = Fake, 1 = Verídica)\")\n",
        "plt.ylabel(\"Cantidad\")\n",
        "\n",
        "# Mostrar el gráfico\n",
        "plt.show()"
      ]
    },
    {
      "cell_type": "markdown",
      "metadata": {},
      "source": [
        "En nuestro caso, la proporción es Fake: 23,905 (~41.9%) vs. Verídicas: 33,158 (~58.1%), lo cual no es un desbalance extremo.\n",
        "Por lo que intentaremos primero entrenar el modelo sin aplicar over/undersampling y revisa las métricas de evaluación, si estas\n",
        "indican un mal F1 score para alguna clase en especifico se revisara de nuevo esta parte para realizar alguna tecnica ya sea SMOTE, entre otras."
      ]
    },
    {
      "cell_type": "markdown",
      "metadata": {},
      "source": [
        "De manera similar, se hace una **comparación de longitud entre noticias Fake y Verídicas**. Esto es relevante porque más adelante (en los pasos de procesamiento de texto) es crucial tener en cuenta cuantas palabras aproximadamente se están procesando y estimar un tiempo de ejecución. "
      ]
    },
    {
      "cell_type": "code",
      "execution_count": 11,
      "metadata": {},
      "outputs": [
        {
          "data": {
            "image/png": "[encoded data removed]",
            "text/plain": [
              "<Figure size 1200x500 with 2 Axes>"
            ]
          },
          "metadata": {},
          "output_type": "display_data"
        }
      ],
      "source": [
        "df = data_set\n",
        "\n",
        "# Crear nuevas columnas con la longitud del texto en caracteres\n",
        "df[\"longitud_titulo\"] = df[\"Titulo\"].astype(str).apply(len)\n",
        "df[\"longitud_descripcion\"] = df[\"Descripcion\"].astype(str).apply(len)\n",
        "\n",
        "# Graficar las distribuciones con boxplots\n",
        "fig, axes = plt.subplots(1, 2, figsize=(12, 5))\n",
        "\n",
        "sns.boxplot(x=df[\"Label\"], y=df[\"longitud_titulo\"], ax=axes[0])\n",
        "axes[0].set_title(\"Longitud de Títulos por Tipo de Noticia\")\n",
        "axes[0].set_xlabel(\"Clase (0 = Fake, 1 = Verídica)\")\n",
        "axes[0].set_ylabel(\"Número de Caracteres\")\n",
        "\n",
        "sns.boxplot(x=df[\"Label\"], y=df[\"longitud_descripcion\"], ax=axes[1])\n",
        "axes[1].set_title(\"Longitud de Descripciones por Tipo de Noticia\")\n",
        "axes[1].set_xlabel(\"Clase (0 = Fake, 1 = Verídica)\")\n",
        "axes[1].set_ylabel(\"Número de Caracteres\")\n",
        "\n",
        "plt.tight_layout()\n",
        "plt.show()"
      ]
    },
    {
      "cell_type": "markdown",
      "metadata": {},
      "source": [
        "Podemos ver que la longitud de titulos o descripciones no son un buen indicador ya que arrojan boxplots muy parecidos."
      ]
    },
    {
      "cell_type": "markdown",
      "metadata": {
        "id": "HywvPf5FQi0x"
      },
      "source": [
        "### 2.3 Preparación de datos"
      ]
    },
    {
      "cell_type": "markdown",
      "metadata": {},
      "source": [
        "#### 2.3.1 Limpieza de datos"
      ]
    },
    {
      "cell_type": "markdown",
      "metadata": {},
      "source": [
        "Eliminar filas duplicadas"
      ]
    },
    {
      "cell_type": "code",
      "execution_count": 12,
      "metadata": {},
      "outputs": [
        {
          "data": {
            "text/plain": [
              "(56618, 7)"
            ]
          },
          "execution_count": 12,
          "metadata": {},
          "output_type": "execute_result"
        }
      ],
      "source": [
        "def remove_duplicates(df: pd.DataFrame):\n",
        "    \"\"\"\n",
        "    Elimina las filas duplicadas del dataSet.\n",
        "    \n",
        "    Parámetros:\n",
        "    df (pd.DataFrame): DataFrame de entrada.\n",
        "    \n",
        "    Retorna:\n",
        "    pd.DataFrame: DataFrame sin filas duplicadas.\n",
        "    \"\"\"\n",
        "    return df.drop_duplicates().reset_index(drop=True)\n",
        "\n",
        "df = remove_duplicates(data_set)\n",
        "df.shape"
      ]
    },
    {
      "cell_type": "markdown",
      "metadata": {},
      "source": [
        "Eliminar filas duplicadas parcialmente (noticias con un mismo titular y descripción, pero diferente label)"
      ]
    },
    {
      "cell_type": "code",
      "execution_count": 13,
      "metadata": {},
      "outputs": [
        {
          "data": {
            "text/plain": [
              "(57061, 7)"
            ]
          },
          "execution_count": 13,
          "metadata": {},
          "output_type": "execute_result"
        }
      ],
      "source": [
        "def eliminar_duplicados_parciales(df):\n",
        "    \"\"\"\n",
        "    Elimina filas donde 'Titulo' y 'Descripcion' sean iguales, pero 'Label' sea diferente.\n",
        "    \n",
        "    Parámetros:\n",
        "    df (pd.DataFrame): DataFrame con las columnas 'Titulo', 'Descripcion' y 'Label'.\n",
        "    \n",
        "    Retorna:\n",
        "    pd.DataFrame: DataFrame sin los duplicados parciales.\n",
        "    \"\"\"\n",
        "    # Contar cuántos valores únicos de Label existen por cada combinación de Titulo y Descripcion\n",
        "    conteo_labels = df.groupby(['Titulo', 'Descripcion'])['Label'].nunique()\n",
        "    \n",
        "    # Identificar las combinaciones que tienen más de un Label distinto (es decir, duplicados parciales)\n",
        "    duplicados_parciales = conteo_labels[conteo_labels > 1].index\n",
        "    \n",
        "    # Filtrar el DataFrame eliminando estas combinaciones\n",
        "    df_filtrado = df[~df.set_index(['Titulo', 'Descripcion']).index.isin(duplicados_parciales)]\n",
        "    \n",
        "    return df_filtrado.reset_index(drop=True)\n",
        "\n",
        "df = eliminar_duplicados_parciales(data_set)\n",
        "df.shape\n"
      ]
    },
    {
      "cell_type": "markdown",
      "metadata": {},
      "source": [
        "A continuación, se muestra un método para hacer la limpieza completa de los datos"
      ]
    },
    {
      "cell_type": "code",
      "execution_count": 14,
      "metadata": {},
      "outputs": [
        {
          "data": {
            "text/plain": [
              "(56612, 3)"
            ]
          },
          "execution_count": 14,
          "metadata": {},
          "output_type": "execute_result"
        }
      ],
      "source": [
        "def limpiar_data(data_set):\n",
        "    df_variables = definir_variables(data_set)\n",
        "    df_duplicados = remove_duplicates(df_variables)\n",
        "    df_limpio = eliminar_duplicados_parciales(df_duplicados)\n",
        "    return df_limpio\n",
        "\n",
        "df = limpiar_data(data_set)\n",
        "df.shape"
      ]
    },
    {
      "cell_type": "markdown",
      "metadata": {},
      "source": [
        "#### 2.3.2 Eliminación de ruido"
      ]
    },
    {
      "cell_type": "markdown",
      "metadata": {},
      "source": [
        "Funciones para dejar la información en texto plano (remover caracteres no ASCII, convertir las palabras en minúscula, remover la puntuación, reemplazar los números y remover stopwords). Para lograr dicho objetivo se usaron librerías como `num2words` y `nltk`, que permiten convertir números en su formato matemático a su representación en letras y remover las palabras vacías, respectivamente."
      ]
    },
    {
      "cell_type": "code",
      "execution_count": 15,
      "metadata": {},
      "outputs": [],
      "source": [
        "def remove_non_ascii(words):\n",
        "    \"\"\"Remove non-ASCII characters from list of tokenized words\"\"\"\n",
        "    new_words = []\n",
        "    for word in words:\n",
        "        if word is not None:\n",
        "            new_word = unicodedata.normalize('NFKD', word).encode('ascii', 'ignore').decode('utf-8', 'ignore')\n",
        "            new_words.append(new_word)\n",
        "    return new_words\n",
        "\n",
        "def to_lowercase(words):\n",
        "    \"\"\"Convert all characters to lowercase from list of tokenized words\"\"\"\n",
        "    new_words = []\n",
        "    for w in words:\n",
        "        new_w = w.lower()\n",
        "        new_words.append(new_w)\n",
        "    return new_words\n",
        "\n",
        "def remove_punctuation(words):\n",
        "    \"\"\"Remove punctuation from list of tokenized words\"\"\"\n",
        "    new_words = []\n",
        "    for word in words:\n",
        "        if word is not None:\n",
        "            new_word = re.sub(r'[^\\w\\s]', '', word)\n",
        "            if new_word != '':\n",
        "                new_words.append(new_word)\n",
        "    return new_words\n",
        "\n",
        "def replace_numbers(words):\n",
        "    \"\"\"Replace all interger occurrences in list of tokenized words with textual representation\"\"\"\n",
        "    new_words = []\n",
        "    for word in words:\n",
        "        if word.isdigit():\n",
        "            new_word = num2words(word, lang=\"es\")\n",
        "            new_words.append(new_word)\n",
        "        else:\n",
        "            new_words.append(word)\n",
        "    return new_words\n",
        "\n",
        "def remove_stopwords(words):\n",
        "    \"\"\"Remove stop words from list of tokenized words\"\"\"\n",
        "    new_words = []\n",
        "    for word in words:\n",
        "        if word not in stop_words:\n",
        "            new_words.append(word)\n",
        "    return new_words\n",
        "\n",
        "def preprocessing(words):\n",
        "    words = to_lowercase(words)\n",
        "    words = replace_numbers(words)\n",
        "    words = remove_punctuation(words)\n",
        "    words = remove_non_ascii(words)\n",
        "    words = remove_stopwords(words)\n",
        "    return words\n"
      ]
    },
    {
      "cell_type": "markdown",
      "metadata": {},
      "source": [
        "#### 2.3.3 Tokenización, lematización y normalización"
      ]
    },
    {
      "cell_type": "markdown",
      "metadata": {},
      "source": [
        "Para procesar los títulos de las noticias y su descripción se procede a ejecutar los siguietes pasos:\n",
        "1. **Tokenización**: Dividir frases u oraciones en palabras con el fin de desglozar las palabras correctamente para el posterior análisis\n",
        "\n",
        "2. **Lematización**: Cada palabra se reduce a su forma base o lema\n",
        "\n",
        "3. **Normalización**: Se hace uso de la función de reducción de ruido para colocar cada palaba en minuscula, sin tildes, remover los signos de puntuación, caracteres no ASCII, reemplazar los números y las palabras vacías"
      ]
    },
    {
      "cell_type": "markdown",
      "metadata": {},
      "source": [
        "Cabe aclarar que, al final, no se hizo uso de la función de eliminación de ruido del apartado anterior porque elevaba el tiempo de procesamiento considerablemente. Sin embargo, se ejecutan las mimas acciones en el método `preprocessing2`, que se muestra en seguida"
      ]
    },
    {
      "cell_type": "code",
      "execution_count": 16,
      "metadata": {},
      "outputs": [
        {
          "name": "stderr",
          "output_type": "stream",
          "text": [
            "c:\\Users\\majoa\\anaconda3\\envs\\uniandes\\Lib\\site-packages\\tqdm\\auto.py:21: TqdmWarning: IProgress not found. Please update jupyter and ipywidgets. See https://ipywidgets.readthedocs.io/en/stable/user_install.html\n",
            "  from .autonotebook import tqdm as notebook_tqdm\n"
          ]
        }
      ],
      "source": [
        "import swifter\n",
        "\n",
        "# Cargar modelo spaCy sin parser ni NER para mayor velocidad\n",
        "nlp = spacy.load(\"es_core_news_sm\", disable=[\"parser\", \"ner\"])\n",
        "stop_words = set(stopwords.words(\"spanish\"))\n",
        "\n",
        "def preprocessing2(words):\n",
        "    words = [word.lower() for word in words]  # Convertir a minúsculas directamente\n",
        "    words = [num2words(word, lang=\"es\") if word.isdigit() else word for word in words]  # Reemplazar números\n",
        "    words = [re.sub(r'[^\\w\\s]', '', word) for word in words if word]  # Eliminar puntuación\n",
        "    words = [unicodedata.normalize('NFKD', word).encode('ascii', 'ignore').decode('utf-8', 'ignore') for word in words]  # Quitar caracteres no ASCII\n",
        "    words = [word for word in words if word not in stop_words]  # Remover stopwords\n",
        "    words = [word for word in words if word.strip() != \"\"] \n",
        "    return words\n",
        "\n",
        "def procesar_texto(df, columnas):\n",
        "    \"\"\"\n",
        "    Optimiza la tokenización, lematización y preprocesamiento de múltiples columnas de un DataFrame.\n",
        "    \"\"\"\n",
        "    df = df.copy()\n",
        "    df[columnas] = df[columnas].astype(str).fillna(\"\")\n",
        "    \n",
        "    datos_procesados = {}\n",
        "    \n",
        "    for col in columnas:\n",
        "        resultados = [\n",
        "            ([token.text for token in doc if not token.is_space],  # Tokens\n",
        "             [token.lemma_ for token in doc if not token.is_space])  # Lemas\n",
        "            for doc in nlp.pipe(df[col], batch_size=100)  # Mayor batch_size para eficiencia\n",
        "        ]\n",
        "        \n",
        "        # Separar tokens y lemas en listas\n",
        "        df[f\"{col}_tokens\"], df[f\"{col}_lemmas\"] = zip(*resultados)\n",
        "        \n",
        "        # Aplicar procesamiento en paralelo\n",
        "        datos_procesados[f\"{col}_tokens_clean\"] = df[f\"{col}_tokens\"].swifter.apply(preprocessing2)\n",
        "    \n",
        "    # Crear nuevo DataFrame solo con las columnas procesadas + label\n",
        "    nuevo_df = pd.DataFrame(datos_procesados)\n",
        "    nuevo_df.insert(0, \"Label\", df[\"Label\"])  # Mantener la etiqueta\n",
        "    \n",
        "    return nuevo_df\n"
      ]
    },
    {
      "cell_type": "markdown",
      "metadata": {},
      "source": [
        "A continuación, se muestra una función para hacer la limpieza de los datos (eliminar duplicados, remover duplicados parciales, entre otros) y preprocesar el texto (tokenización, lematización y normalización). Esto se hace con el fin de mantener la organización y tener la información preparada para ser vectorizada. "
      ]
    },
    {
      "cell_type": "code",
      "execution_count": 17,
      "metadata": {},
      "outputs": [
        {
          "name": "stdout",
          "output_type": "stream",
          "text": [
            " Data limpia\n"
          ]
        },
        {
          "name": "stderr",
          "output_type": "stream",
          "text": [
            "Pandas Apply: 100%|██████████| 64062/64062 [00:04<00:00, 13936.98it/s]\n",
            "Pandas Apply: 100%|██████████| 64062/64062 [00:09<00:00, 6461.43it/s]\n"
          ]
        },
        {
          "data": {
            "text/html": [
              "<div>\n",
              "<style scoped>\n",
              "    .dataframe tbody tr th:only-of-type {\n",
              "        vertical-align: middle;\n",
              "    }\n",
              "\n",
              "    .dataframe tbody tr th {\n",
              "        vertical-align: top;\n",
              "    }\n",
              "\n",
              "    .dataframe thead th {\n",
              "        text-align: right;\n",
              "    }\n",
              "</style>\n",
              "<table border=\"1\" class=\"dataframe\">\n",
              "  <thead>\n",
              "    <tr style=\"text-align: right;\">\n",
              "      <th></th>\n",
              "      <th>Label</th>\n",
              "      <th>Titulo_tokens_clean</th>\n",
              "      <th>Descripcion_tokens_clean</th>\n",
              "    </tr>\n",
              "  </thead>\n",
              "  <tbody>\n",
              "    <tr>\n",
              "      <th>0</th>\n",
              "      <td>1</td>\n",
              "      <td>[the, guardian, va, sanchez, europa, necesita,...</td>\n",
              "      <td>[diario, britanico, publico, pasado, jueves, e...</td>\n",
              "    </tr>\n",
              "    <tr>\n",
              "      <th>1</th>\n",
              "      <td>0</td>\n",
              "      <td>[revelan, gobierno, negocio, liberacion, mirel...</td>\n",
              "      <td>[revelan, gobierno, negocio, liberacion, mirel...</td>\n",
              "    </tr>\n",
              "    <tr>\n",
              "      <th>2</th>\n",
              "      <td>1</td>\n",
              "      <td>[ahora, nunca, joan, fuster, estatuto, valenci...</td>\n",
              "      <td>[valencianismo, convoca, castello, fiesta, gra...</td>\n",
              "    </tr>\n",
              "    <tr>\n",
              "      <th>3</th>\n",
              "      <td>1</td>\n",
              "      <td>[iglesias, alienta, yolanda, diaz, erc, eh, bi...</td>\n",
              "      <td>[politica, igual, negociar, empresarios, negoc...</td>\n",
              "    </tr>\n",
              "    <tr>\n",
              "      <th>4</th>\n",
              "      <td>0</td>\n",
              "      <td>[puigdemont, seria, ninguna, tragedia, repetic...</td>\n",
              "      <td>[entrevista, punt, avui, lider, jxcat, desdram...</td>\n",
              "    </tr>\n",
              "    <tr>\n",
              "      <th>5</th>\n",
              "      <td>1</td>\n",
              "      <td>[pnv, consolida, mayoria, pse, salva, papeles,...</td>\n",
              "      <td>[nacionalistas, consiguen, alcaldias, bilbao, ...</td>\n",
              "    </tr>\n",
              "    <tr>\n",
              "      <th>6</th>\n",
              "      <td>0</td>\n",
              "      <td>[exconsejero, nuria, marin, pide, indulto, cas...</td>\n",
              "      <td>[familiares, aluden, honestidad, integridad, p...</td>\n",
              "    </tr>\n",
              "    <tr>\n",
              "      <th>7</th>\n",
              "      <td>1</td>\n",
              "      <td>[fiscalia, pide, prision, incondicional, siete...</td>\n",
              "      <td>[suprime, delito, rebelion, imputo, inicialmen...</td>\n",
              "    </tr>\n",
              "    <tr>\n",
              "      <th>8</th>\n",
              "      <td>1</td>\n",
              "      <td>[jose, manuel, perez, tornero, creador, televi...</td>\n",
              "      <td>[futuro, presidente, rtve, licenciado, ciencia...</td>\n",
              "    </tr>\n",
              "    <tr>\n",
              "      <th>9</th>\n",
              "      <td>0</td>\n",
              "      <td>[ayusizacion, bng, santiago, abascal, instruye...</td>\n",
              "      <td>[pablo, santiago, abascal, planea, vivir, rent...</td>\n",
              "    </tr>\n",
              "  </tbody>\n",
              "</table>\n",
              "</div>"
            ],
            "text/plain": [
              "   Label                                Titulo_tokens_clean  \\\n",
              "0      1  [the, guardian, va, sanchez, europa, necesita,...   \n",
              "1      0  [revelan, gobierno, negocio, liberacion, mirel...   \n",
              "2      1  [ahora, nunca, joan, fuster, estatuto, valenci...   \n",
              "3      1  [iglesias, alienta, yolanda, diaz, erc, eh, bi...   \n",
              "4      0  [puigdemont, seria, ninguna, tragedia, repetic...   \n",
              "5      1  [pnv, consolida, mayoria, pse, salva, papeles,...   \n",
              "6      0  [exconsejero, nuria, marin, pide, indulto, cas...   \n",
              "7      1  [fiscalia, pide, prision, incondicional, siete...   \n",
              "8      1  [jose, manuel, perez, tornero, creador, televi...   \n",
              "9      0  [ayusizacion, bng, santiago, abascal, instruye...   \n",
              "\n",
              "                            Descripcion_tokens_clean  \n",
              "0  [diario, britanico, publico, pasado, jueves, e...  \n",
              "1  [revelan, gobierno, negocio, liberacion, mirel...  \n",
              "2  [valencianismo, convoca, castello, fiesta, gra...  \n",
              "3  [politica, igual, negociar, empresarios, negoc...  \n",
              "4  [entrevista, punt, avui, lider, jxcat, desdram...  \n",
              "5  [nacionalistas, consiguen, alcaldias, bilbao, ...  \n",
              "6  [familiares, aluden, honestidad, integridad, p...  \n",
              "7  [suprime, delito, rebelion, imputo, inicialmen...  \n",
              "8  [futuro, presidente, rtve, licenciado, ciencia...  \n",
              "9  [pablo, santiago, abascal, planea, vivir, rent...  "
            ]
          },
          "execution_count": 17,
          "metadata": {},
          "output_type": "execute_result"
        }
      ],
      "source": [
        "def limpiar_y_procesar(data_set, columnas_texto):\n",
        "    \"\"\"\n",
        "    Función que aplica limpieza de datos y tokenización en columnas de texto específicas.\n",
        "\n",
        "    Parámetros:\n",
        "    - data_set (DataFrame): Dataset original con las columnas a procesar.\n",
        "    - columnas_texto (list): Lista de nombres de columnas que contienen texto a limpiar.\n",
        "\n",
        "    Retorna:\n",
        "    - DataFrame con los textos procesados.\n",
        "    \"\"\"\n",
        "    # Aplicar limpieza de datos\n",
        "    data_set_limpio = limpiar_data(data_set)\n",
        "    print(\" Data limpia\")\n",
        "\n",
        "    # Aplicar tokenización, lematización y normalización\n",
        "    df_procesado = procesar_texto(data_set_limpio, columnas_texto)\n",
        "    \n",
        "    return df_procesado\n",
        "\n",
        "# Uso de la función\n",
        "# df_procesado = limpiar_y_procesar(data_set, [\"Titulo\", \"Descripcion\"])\n",
        "df_procesado = limpiar_y_procesar(data_set_augmented, [\"Titulo\", \"Descripcion\"])\n",
        "df_procesado.head(10)\n",
        "\n",
        "# df = limpiar_y_procesar(data_set, [\"Titulo\", \"Descripcion\"])"
      ]
    },
    {
      "cell_type": "markdown",
      "metadata": {},
      "source": [
        "#### 2.3.4 Vectorización"
      ]
    },
    {
      "cell_type": "markdown",
      "metadata": {},
      "source": [
        "El úlitmo paso del preprocesamiento de textos es la vectorización. Este es uno de los pasos cruciales porque permite representar las palabras de una forma numérica, de manera que puedan ser procesados con los distintos modelos. "
      ]
    },
    {
      "cell_type": "code",
      "execution_count": 21,
      "metadata": {},
      "outputs": [
        {
          "name": "stdout",
          "output_type": "stream",
          "text": [
            "                                 Titulo_tokens_clean  \\\n",
            "0  the guardian va sanchez europa necesita apuest...   \n",
            "1  revelan gobierno negocio liberacion mireles ca...   \n",
            "2  ahora nunca joan fuster estatuto valenciano cu...   \n",
            "3  iglesias alienta yolanda diaz erc eh bildu neg...   \n",
            "4  puigdemont seria ninguna tragedia repeticion e...   \n",
            "\n",
            "                            Descripcion_tokens_clean  \n",
            "0  diario britanico publico pasado jueves editori...  \n",
            "1  revelan gobierno negocio liberacion mireles ca...  \n",
            "2  valencianismo convoca castello fiesta grande c...  \n",
            "3  politica igual negociar empresarios negociar g...  \n",
            "4  entrevista punt avui lider jxcat desdramatizad...  \n"
          ]
        }
      ],
      "source": [
        "# Convertir listas de tokens a strings correctamente\n",
        "df_procesado[\"Titulo_tokens_clean\"] = df_procesado[\"Titulo_tokens_clean\"].apply(lambda x: \" \".join(x) if isinstance(x, list) else x)\n",
        "df_procesado[\"Descripcion_tokens_clean\"] = df_procesado[\"Descripcion_tokens_clean\"].apply(lambda x: \" \".join(x) if isinstance(x, list) else x)\n",
        "\n",
        "# Convertir listas de tokens a strings correctamente\n",
        "# df[\"Titulo_tokens_clean\"] = df[\"Titulo_tokens_clean\"].apply(lambda x: \" \".join(x) if isinstance(x, list) else x)\n",
        "# df[\"Descripcion_tokens_clean\"] = df[\"Descripcion_tokens_clean\"].apply(lambda x: \" \".join(x) if isinstance(x, list) else x)\n",
        "\n",
        "# Revisar si ya están en formato string\n",
        "print(df_procesado[[\"Titulo_tokens_clean\", \"Descripcion_tokens_clean\"]].head())\n",
        "\n",
        "# df_train = df_procesado\n",
        "# df_test_uniform = df"
      ]
    },
    {
      "cell_type": "code",
      "execution_count": 22,
      "metadata": {},
      "outputs": [
        {
          "name": "stdout",
          "output_type": "stream",
          "text": [
            "✅ Dataset de entrenamiento: 47062 registros\n",
            "✅ Dataset de prueba uniforme (17k registros): 17000 registros (8500 fake news y 8500 verídicas)\n"
          ]
        },
        {
          "name": "stderr",
          "output_type": "stream",
          "text": [
            "C:\\Users\\majoa\\AppData\\Local\\Temp\\ipykernel_12996\\2434703335.py:6: DeprecationWarning: DataFrameGroupBy.apply operated on the grouping columns. This behavior is deprecated, and in a future version of pandas the grouping columns will be excluded from the operation. Either pass `include_groups=False` to exclude the groupings or explicitly select the grouping columns after groupby to silence this warning.\n",
            "  .apply(lambda x: x.sample(n=n_samples, random_state=42)))\n"
          ]
        }
      ],
      "source": [
        "# Definir la cantidad de muestras por clase\n",
        "n_samples = 8500\n",
        "\n",
        "# Extraer 8500 noticias falsas y 8500 noticias verídicas para pruebas finales\n",
        "df_test_uniform = (df_procesado.groupby(\"Label\", group_keys=False)\n",
        "                    .apply(lambda x: x.sample(n=n_samples, random_state=42)))\n",
        "\n",
        "# Crear el nuevo dataset de entrenamiento sin los registros seleccionados para pruebas\n",
        "df_train = df_procesado.drop(df_test_uniform.index)\n",
        "\n",
        "# Verificar tamaños de los datasets\n",
        "print(f\"✅ Dataset de entrenamiento: {len(df_train)} registros\")\n",
        "print(f\"✅ Dataset de prueba uniforme (17k registros): {len(df_test_uniform)} registros (8500 fake news y 8500 verídicas)\")\n"
      ]
    },
    {
      "cell_type": "markdown",
      "metadata": {},
      "source": [
        "Para la vectorización de textos se hace uso de la librería TF-IDF (Term Frequency-Inverse Document Frequency). "
      ]
    },
    {
      "cell_type": "code",
      "execution_count": 23,
      "metadata": {},
      "outputs": [
        {
          "name": "stdout",
          "output_type": "stream",
          "text": [
            "Número de registros en X: 64062\n",
            "Número de etiquetas en y: 64062\n",
            " X y y tienen el mismo número de registros. OK.\n"
          ]
        }
      ],
      "source": [
        "from scipy.sparse import hstack\n",
        "from sklearn.feature_extraction.text import TfidfVectorizer\n",
        "\n",
        "# Vectorización con TF-IDF\n",
        "vectorizer = TfidfVectorizer(ngram_range=(1,2), max_features=3000)\n",
        "X_titulo = vectorizer.fit_transform(df_procesado[\"Titulo_tokens_clean\"])\n",
        "X_descripcion = vectorizer.fit_transform(df_procesado[\"Descripcion_tokens_clean\"])\n",
        "\n",
        "#  Concatenar ambas representaciones en una sola matriz\n",
        "X = hstack([X_titulo, X_descripcion])\n",
        "\n",
        "# Etiquetas\n",
        "y = df_procesado[\"Label\"]\n",
        "\n",
        "# Verificar dimensiones de la matriz X y etiquetas y\n",
        "print(f\"Número de registros en X: {X.shape[0]}\")\n",
        "print(f\"Número de etiquetas en y: {y.shape[0]}\")\n",
        "\n",
        "# Comprobar si hay inconsistencia\n",
        "if X.shape[0] == y.shape[0]:\n",
        "    print(\" X y y tienen el mismo número de registros. OK.\")\n",
        "else:\n",
        "    print(\" Error: X y y tienen un número diferente de registros.\")"
      ]
    },
    {
      "cell_type": "markdown",
      "metadata": {
        "id": "usw9mrH3Qp8Y"
      },
      "source": [
        "---"
      ]
    },
    {
      "cell_type": "markdown",
      "metadata": {},
      "source": [
        "# **3. Modelado y evaluación**"
      ]
    },
    {
      "cell_type": "markdown",
      "metadata": {
        "id": "Y7FRRWnmQzCQ"
      },
      "source": [
        "### 3.1. Estudiante 1 (Juan Pablo Barón): Modelo SVM"
      ]
    },
    {
      "cell_type": "code",
      "execution_count": 20,
      "metadata": {},
      "outputs": [
        {
          "name": "stdout",
          "output_type": "stream",
          "text": [
            " Ejecutando Cross-Validation con SVM usando df_train...\n"
          ]
        },
        {
          "name": "stderr",
          "output_type": "stream",
          "text": [
            "[Parallel(n_jobs=-1)]: Using backend LokyBackend with 8 concurrent workers.\n",
            "[Parallel(n_jobs=-1)]: Done   6 out of  10 | elapsed:   39.3s remaining:   26.2s\n",
            "[Parallel(n_jobs=-1)]: Done  10 out of  10 | elapsed:   57.6s finished\n"
          ]
        },
        {
          "name": "stdout",
          "output_type": "stream",
          "text": [
            "\n",
            " Resultados de Cross-Validation con SVM en df_train:\n",
            " Accuracy: 0.9178\n",
            " Precision: 0.8950\n",
            " Recall: 0.9521\n",
            " F1-Score: 0.9227\n",
            "\n",
            " Matriz de Confusión:\n",
            "[[20118  2707]\n",
            " [ 1161 23076]]\n",
            "\n",
            " Reporte de Clasificación en Cross-Validation:\n",
            "              precision    recall  f1-score   support\n",
            "\n",
            "           0       0.95      0.88      0.91     22825\n",
            "           1       0.90      0.95      0.92     24237\n",
            "\n",
            "    accuracy                           0.92     47062\n",
            "   macro avg       0.92      0.92      0.92     47062\n",
            "weighted avg       0.92      0.92      0.92     47062\n",
            "\n",
            "\n",
            " Tiempo total de entrenamiento: 0.96 minutos\n",
            "\n",
            "Resultados en el **Conjunto de Prueba Final (df_test_uniform)**:\n",
            " Accuracy: 0.9195\n",
            " Precision: 0.8926\n",
            " Recall: 0.9538\n",
            " F1-Score: 0.9222\n",
            "\n",
            " Matriz de Confusión:\n",
            "[[7525  975]\n",
            " [ 393 8107]]\n",
            "\n",
            " Reporte de Clasificación en df_test_uniform:\n",
            "              precision    recall  f1-score   support\n",
            "\n",
            "           0       0.95      0.89      0.92      8500\n",
            "           1       0.89      0.95      0.92      8500\n",
            "\n",
            "    accuracy                           0.92     17000\n",
            "   macro avg       0.92      0.92      0.92     17000\n",
            "weighted avg       0.92      0.92      0.92     17000\n",
            "\n"
          ]
        }
      ],
      "source": [
        "from sklearn.pipeline import Pipeline\n",
        "from sklearn.compose import ColumnTransformer\n",
        "from sklearn.svm import LinearSVC\n",
        "from sklearn.model_selection import StratifiedKFold, cross_val_predict\n",
        "from sklearn.feature_extraction.text import TfidfVectorizer\n",
        "from sklearn.metrics import accuracy_score, precision_score, recall_score, f1_score, confusion_matrix, classification_report\n",
        "import time\n",
        "\n",
        "# Medir tiempo de ejecución\n",
        "start_time = time.time()\n",
        "\n",
        "# Transformador para vectorizar Título y Descripción SEPARADOS\n",
        "tfidf_transformer = ColumnTransformer(\n",
        "    transformers=[\n",
        "        ('tfidf_titulo', TfidfVectorizer(ngram_range=(1,3), max_features=6000), \"Titulo_tokens_clean\"),\n",
        "        ('tfidf_descripcion', TfidfVectorizer(ngram_range=(1,3), max_features=6000), \"Descripcion_tokens_clean\")\n",
        "    ]\n",
        ")\n",
        "\n",
        "# Crear pipeline con TF-IDF separado y SVM\n",
        "modelo_svm = Pipeline([\n",
        "    ('vectorizacion', tfidf_transformer),\n",
        "    ('clasificador', LinearSVC(C=0.5, random_state=42, dual=False, class_weight={0:1, 1: 1.2}))  \n",
        "])\n",
        "\n",
        "# Definir K-Folds estratificado (10 folds)\n",
        "kf = StratifiedKFold(n_splits=10, shuffle=True, random_state=42)\n",
        "\n",
        "# **Entrenamiento con Cross-Validation en df_train**\n",
        "print(\" Ejecutando Cross-Validation con SVM usando df_train...\")\n",
        "\n",
        "y_pred_cv = cross_val_predict(modelo_svm, df_train, df_train[\"Label\"], cv=kf, n_jobs=-1, verbose=1)\n",
        "\n",
        "# Calcular métricas en cross-validation\n",
        "accuracy_cv = accuracy_score(df_train[\"Label\"], y_pred_cv)\n",
        "precision_cv = precision_score(df_train[\"Label\"], y_pred_cv, average='binary')\n",
        "recall_cv = recall_score(df_train[\"Label\"], y_pred_cv, average='binary')\n",
        "f1_cv = f1_score(df_train[\"Label\"], y_pred_cv, average='binary')\n",
        "conf_matrix_cv = confusion_matrix(df_train[\"Label\"], y_pred_cv)\n",
        "\n",
        "# Mostrar resultados de validación cruzada\n",
        "print(\"\\n Resultados de Cross-Validation con SVM en df_train:\")\n",
        "print(f\" Accuracy: {accuracy_cv:.4f}\")\n",
        "print(f\" Precision: {precision_cv:.4f}\")\n",
        "print(f\" Recall: {recall_cv:.4f}\")\n",
        "print(f\" F1-Score: {f1_cv:.4f}\")\n",
        "print(\"\\n Matriz de Confusión:\")\n",
        "print(conf_matrix_cv)\n",
        "\n",
        "# Reporte de clasificación\n",
        "print(\"\\n Reporte de Clasificación en Cross-Validation:\")\n",
        "print(classification_report(df_train[\"Label\"], y_pred_cv))\n",
        "\n",
        "# Medir tiempo total de entrenamiento\n",
        "end_time = time.time()\n",
        "print(f\"\\n Tiempo total de entrenamiento: {(end_time - start_time) / 60:.2f} minutos\")\n",
        "\n",
        "# -------------------------------------------\n",
        "# **Entrenamiento final con df_train y evaluación en df_test_uniform**\n",
        "# -------------------------------------------\n",
        "\n",
        "# Ajustar modelo en todo df_train\n",
        "modelo_svm.fit(df_train, df_train[\"Label\"])\n",
        "\n",
        "# Predecir en el conjunto de prueba final (df_test_uniform)\n",
        "y_pred_test = modelo_svm.predict(df_test_uniform)\n",
        "\n",
        "# Calcular métricas en prueba final\n",
        "accuracy_test = accuracy_score(df_test_uniform[\"Label\"], y_pred_test)\n",
        "precision_test = precision_score(df_test_uniform[\"Label\"], y_pred_test, average='binary')\n",
        "recall_test = recall_score(df_test_uniform[\"Label\"], y_pred_test, average='binary')\n",
        "f1_test = f1_score(df_test_uniform[\"Label\"], y_pred_test, average='binary')\n",
        "conf_matrix_test = confusion_matrix(df_test_uniform[\"Label\"], y_pred_test)\n",
        "\n",
        "# Mostrar resultados en el conjunto de prueba final\n",
        "print(\"\\nResultados en el **Conjunto de Prueba Final (df_test_uniform)**:\")\n",
        "print(f\" Accuracy: {accuracy_test:.4f}\")\n",
        "print(f\" Precision: {precision_test:.4f}\")\n",
        "print(f\" Recall: {recall_test:.4f}\")\n",
        "print(f\" F1-Score: {f1_test:.4f}\")\n",
        "print(\"\\n Matriz de Confusión:\")\n",
        "print(conf_matrix_test)\n",
        "\n",
        "# Reporte de clasificación en prueba final\n",
        "print(\"\\n Reporte de Clasificación en df_test_uniform:\")\n",
        "print(classification_report(df_test_uniform[\"Label\"], y_pred_test))"
      ]
    },
    {
      "cell_type": "markdown",
      "metadata": {
        "id": "OcdT6wSUQ7Rp"
      },
      "source": [
        "### 3.2. Estudiante 2 (María José Amorocho): Modelo 2"
      ]
    },
    {
      "cell_type": "markdown",
      "metadata": {},
      "source": [
        "Para el segundo modelo de clasificación se usa el algoritmo de Naïve Bayes, pues teniendo en cuenta la cantidad de datos a procesar y la manera de vectorización, es un método que beneficia la optimización del uso de memoria y el rendimiento. "
      ]
    },
    {
      "cell_type": "markdown",
      "metadata": {},
      "source": [
        "#### Primer modelo de Naïve Bayes"
      ]
    },
    {
      "cell_type": "markdown",
      "metadata": {},
      "source": [
        "El primer modelo hecho con Naive Bayes se hace con $\\alpha = 1 $"
      ]
    },
    {
      "cell_type": "code",
      "execution_count": 24,
      "metadata": {
        "id": "hjzrMKngQ_ke"
      },
      "outputs": [
        {
          "name": "stdout",
          "output_type": "stream",
          "text": [
            " Ejecutando Cross-Validation con Naïve Bayes usando df_train...\n"
          ]
        },
        {
          "name": "stderr",
          "output_type": "stream",
          "text": [
            "[Parallel(n_jobs=-1)]: Using backend LokyBackend with 8 concurrent workers.\n",
            "[Parallel(n_jobs=-1)]: Done   6 out of  10 | elapsed:  1.5min remaining:   59.4s\n",
            "[Parallel(n_jobs=-1)]: Done  10 out of  10 | elapsed:  2.0min finished\n"
          ]
        },
        {
          "name": "stdout",
          "output_type": "stream",
          "text": [
            "\n",
            " Resultados de Cross-Validation con Naïve Bayes en df_train:\n",
            " Accuracy: 0.8904\n",
            " Precision: 0.8364\n",
            " Recall: 0.9785\n",
            " F1-Score: 0.9019\n",
            "\n",
            " Matriz de Confusión:\n",
            "[[18186  4639]\n",
            " [  520 23717]]\n",
            "\n",
            " Reporte de Clasificación en Cross-Validation:\n",
            "              precision    recall  f1-score   support\n",
            "\n",
            "           0       0.97      0.80      0.88     22825\n",
            "           1       0.84      0.98      0.90     24237\n",
            "\n",
            "    accuracy                           0.89     47062\n",
            "   macro avg       0.90      0.89      0.89     47062\n",
            "weighted avg       0.90      0.89      0.89     47062\n",
            "\n",
            "\n",
            " Tiempo total de entrenamiento: 1.98 minutos\n",
            "\n",
            "Resultados en el **Conjunto de Prueba Final (df_test_uniform)**:\n",
            " Accuracy: 0.8898\n",
            " Precision: 0.8305\n",
            " Recall: 0.9795\n",
            " F1-Score: 0.8989\n",
            "\n",
            " Matriz de Confusión:\n",
            "[[6801 1699]\n",
            " [ 174 8326]]\n",
            "\n",
            " Reporte de Clasificación en df_test_uniform:\n",
            "              precision    recall  f1-score   support\n",
            "\n",
            "           0       0.98      0.80      0.88      8500\n",
            "           1       0.83      0.98      0.90      8500\n",
            "\n",
            "    accuracy                           0.89     17000\n",
            "   macro avg       0.90      0.89      0.89     17000\n",
            "weighted avg       0.90      0.89      0.89     17000\n",
            "\n"
          ]
        }
      ],
      "source": [
        "from sklearn.naive_bayes import MultinomialNB\n",
        "from sklearn.pipeline import Pipeline\n",
        "from sklearn.compose import ColumnTransformer\n",
        "from sklearn.feature_extraction.text import TfidfVectorizer\n",
        "from sklearn.model_selection import StratifiedKFold, cross_val_predict\n",
        "from sklearn.metrics import accuracy_score, precision_score, recall_score, f1_score, confusion_matrix, classification_report\n",
        "import time\n",
        "\n",
        "# Medir tiempo de ejecución\n",
        "start_time = time.time()\n",
        "\n",
        "# Transformador para vectorizar Título y Descripción SEPARADOS\n",
        "tfidf_transformer = ColumnTransformer(\n",
        "    transformers=[\n",
        "        ('tfidf_titulo', TfidfVectorizer(ngram_range=(1,3), max_features=6000), \"Titulo_tokens_clean\"),\n",
        "        ('tfidf_descripcion', TfidfVectorizer(ngram_range=(1,3), max_features=6000), \"Descripcion_tokens_clean\")\n",
        "    ]\n",
        ")\n",
        "\n",
        "# Crear pipeline con TF-IDF separado y Naïve Bayes\n",
        "modelo_nb = Pipeline([\n",
        "    ('vectorizacion', tfidf_transformer),\n",
        "    ('clasificador', MultinomialNB(alpha=1.0))  # alpha es el parámetro de suavizado de Laplace\n",
        "])\n",
        "\n",
        "# Definir K-Folds estratificado (10 folds)\n",
        "kf = StratifiedKFold(n_splits=10, shuffle=True, random_state=42)\n",
        "\n",
        "# **Entrenamiento con Cross-Validation en df_train**\n",
        "print(\" Ejecutando Cross-Validation con Naïve Bayes usando df_train...\")\n",
        "\n",
        "y_pred_cv = cross_val_predict(modelo_nb, df_train, df_train[\"Label\"], cv=kf, n_jobs=-1, verbose=1)\n",
        "\n",
        "# Calcular métricas en cross-validation\n",
        "accuracy_cv = accuracy_score(df_train[\"Label\"], y_pred_cv)\n",
        "precision_cv = precision_score(df_train[\"Label\"], y_pred_cv, average='binary')\n",
        "recall_cv = recall_score(df_train[\"Label\"], y_pred_cv, average='binary')\n",
        "f1_cv = f1_score(df_train[\"Label\"], y_pred_cv, average='binary')\n",
        "conf_matrix_cv = confusion_matrix(df_train[\"Label\"], y_pred_cv)\n",
        "\n",
        "# Mostrar resultados de validación cruzada\n",
        "print(\"\\n Resultados de Cross-Validation con Naïve Bayes en df_train:\")\n",
        "print(f\" Accuracy: {accuracy_cv:.4f}\")\n",
        "print(f\" Precision: {precision_cv:.4f}\")\n",
        "print(f\" Recall: {recall_cv:.4f}\")\n",
        "print(f\" F1-Score: {f1_cv:.4f}\")\n",
        "print(\"\\n Matriz de Confusión:\")\n",
        "print(conf_matrix_cv)\n",
        "\n",
        "# Reporte de clasificación\n",
        "print(\"\\n Reporte de Clasificación en Cross-Validation:\")\n",
        "print(classification_report(df_train[\"Label\"], y_pred_cv))\n",
        "\n",
        "# Medir tiempo total de entrenamiento\n",
        "end_time = time.time()\n",
        "print(f\"\\n Tiempo total de entrenamiento: {(end_time - start_time) / 60:.2f} minutos\")\n",
        "\n",
        "# -------------------------------------------\n",
        "# **Entrenamiento final con df_train y evaluación en df_test_uniform**\n",
        "# -------------------------------------------\n",
        "\n",
        "# Ajustar modelo en todo df_train\n",
        "modelo_nb.fit(df_train, df_train[\"Label\"])\n",
        "\n",
        "# Predecir en el conjunto de prueba final (df_test_uniform)\n",
        "y_pred_test = modelo_nb.predict(df_test_uniform)\n",
        "\n",
        "# Calcular métricas en prueba final\n",
        "accuracy_test = accuracy_score(df_test_uniform[\"Label\"], y_pred_test)\n",
        "precision_test = precision_score(df_test_uniform[\"Label\"], y_pred_test, average='binary')\n",
        "recall_test = recall_score(df_test_uniform[\"Label\"], y_pred_test, average='binary')\n",
        "f1_test = f1_score(df_test_uniform[\"Label\"], y_pred_test, average='binary')\n",
        "conf_matrix_test = confusion_matrix(df_test_uniform[\"Label\"], y_pred_test)\n",
        "\n",
        "# Mostrar resultados en el conjunto de prueba final\n",
        "print(\"\\nResultados en el **Conjunto de Prueba Final (df_test_uniform)**:\")\n",
        "print(f\" Accuracy: {accuracy_test:.4f}\")\n",
        "print(f\" Precision: {precision_test:.4f}\")\n",
        "print(f\" Recall: {recall_test:.4f}\")\n",
        "print(f\" F1-Score: {f1_test:.4f}\")\n",
        "print(\"\\n Matriz de Confusión:\")\n",
        "print(conf_matrix_test)\n",
        "\n",
        "# Reporte de clasificación en prueba final\n",
        "print(\"\\n Reporte de Clasificación en df_test_uniform:\")\n",
        "print(classification_report(df_test_uniform[\"Label\"], y_pred_test))\n"
      ]
    },
    {
      "cell_type": "markdown",
      "metadata": {},
      "source": [
        "#### Ajustes del modelo"
      ]
    },
    {
      "cell_type": "markdown",
      "metadata": {},
      "source": [
        "Para encontrar el valor óptimo de $\\alpha$, se elabora una matriz de hiperparámtros con la herramienta GridSearchCV. El valor hallado será usado para hacer un segundo modelo."
      ]
    },
    {
      "cell_type": "code",
      "execution_count": 25,
      "metadata": {},
      "outputs": [
        {
          "name": "stdout",
          "output_type": "stream",
          "text": [
            "Fitting 10 folds for each of 5 candidates, totalling 50 fits\n",
            "Mejor valor de alpha: {'clasificador__alpha': 0.1}\n"
          ]
        }
      ],
      "source": [
        "from sklearn.model_selection import GridSearchCV\n",
        "\n",
        "param_grid = {'clasificador__alpha': [0.1, 0.5, 1.0, 2.0, 5.0]}\n",
        "\n",
        "grid_search = GridSearchCV(modelo_nb, param_grid, cv=10, n_jobs=-1, verbose=2)\n",
        "grid_search.fit(df_train, df_train[\"Label\"])\n",
        "\n",
        "print(\"Mejor valor de alpha:\", grid_search.best_params_)"
      ]
    },
    {
      "cell_type": "markdown",
      "metadata": {},
      "source": [
        "#### Implementación del segundo modelo"
      ]
    },
    {
      "cell_type": "markdown",
      "metadata": {},
      "source": [
        "Se implementa el mismo algortimo de clasificación, pero ahora usando $\\alpha=0.1$, que corresponde al valor óptimo obtenido en la anterior sección."
      ]
    },
    {
      "cell_type": "code",
      "execution_count": 26,
      "metadata": {},
      "outputs": [
        {
          "name": "stdout",
          "output_type": "stream",
          "text": [
            " Ejecutando Cross-Validation con Naïve Bayes usando df_train...\n"
          ]
        },
        {
          "name": "stderr",
          "output_type": "stream",
          "text": [
            "[Parallel(n_jobs=-1)]: Using backend LokyBackend with 8 concurrent workers.\n",
            "[Parallel(n_jobs=-1)]: Done   6 out of  10 | elapsed:   51.1s remaining:   34.0s\n",
            "[Parallel(n_jobs=-1)]: Done  10 out of  10 | elapsed:  1.3min finished\n"
          ]
        },
        {
          "name": "stdout",
          "output_type": "stream",
          "text": [
            "\n",
            " Resultados de Cross-Validation con Naïve Bayes en df_train:\n",
            " Accuracy: 0.8976\n",
            " Precision: 0.8482\n",
            " Recall: 0.9757\n",
            " F1-Score: 0.9075\n",
            "\n",
            " Matriz de Confusión:\n",
            "[[18592  4233]\n",
            " [  588 23649]]\n",
            "\n",
            " Reporte de Clasificación en Cross-Validation:\n",
            "              precision    recall  f1-score   support\n",
            "\n",
            "           0       0.97      0.81      0.89     22825\n",
            "           1       0.85      0.98      0.91     24237\n",
            "\n",
            "    accuracy                           0.90     47062\n",
            "   macro avg       0.91      0.90      0.90     47062\n",
            "weighted avg       0.91      0.90      0.90     47062\n",
            "\n",
            "\n",
            " Tiempo total de entrenamiento: 1.32 minutos\n",
            "\n",
            "Resultados en el **Conjunto de Prueba Final (df_test_uniform)**:\n",
            " Accuracy: 0.8973\n",
            " Precision: 0.8426\n",
            " Recall: 0.9772\n",
            " F1-Score: 0.9049\n",
            "\n",
            " Matriz de Confusión:\n",
            "[[6948 1552]\n",
            " [ 194 8306]]\n",
            "\n",
            " Reporte de Clasificación en df_test_uniform:\n",
            "              precision    recall  f1-score   support\n",
            "\n",
            "           0       0.97      0.82      0.89      8500\n",
            "           1       0.84      0.98      0.90      8500\n",
            "\n",
            "    accuracy                           0.90     17000\n",
            "   macro avg       0.91      0.90      0.90     17000\n",
            "weighted avg       0.91      0.90      0.90     17000\n",
            "\n"
          ]
        }
      ],
      "source": [
        "# Medir tiempo de ejecución\n",
        "start_time = time.time()\n",
        "\n",
        "# Transformador para vectorizar Título y Descripción SEPARADOS\n",
        "tfidf_transformer = ColumnTransformer(\n",
        "    transformers=[\n",
        "        ('tfidf_titulo', TfidfVectorizer(ngram_range=(1,3), max_features=6000), \"Titulo_tokens_clean\"),\n",
        "        ('tfidf_descripcion', TfidfVectorizer(ngram_range=(1,3), max_features=6000), \"Descripcion_tokens_clean\")\n",
        "    ]\n",
        ")\n",
        "\n",
        "# Crear pipeline con TF-IDF separado y Naïve Bayes\n",
        "modelo_nb = Pipeline([\n",
        "    ('vectorizacion', tfidf_transformer),\n",
        "    ('clasificador', MultinomialNB(alpha=0.1))  # alpha es el parámetro de suavizado de Laplace\n",
        "])\n",
        "\n",
        "# Definir K-Folds estratificado (10 folds)\n",
        "kf = StratifiedKFold(n_splits=10, shuffle=True, random_state=42)\n",
        "\n",
        "# **Entrenamiento con Cross-Validation en df_train**\n",
        "print(\" Ejecutando Cross-Validation con Naïve Bayes usando df_train...\")\n",
        "\n",
        "y_pred_cv = cross_val_predict(modelo_nb, df_train, df_train[\"Label\"], cv=kf, n_jobs=-1, verbose=1)\n",
        "\n",
        "# Calcular métricas en cross-validation\n",
        "accuracy_cv = accuracy_score(df_train[\"Label\"], y_pred_cv)\n",
        "precision_cv = precision_score(df_train[\"Label\"], y_pred_cv, average='binary')\n",
        "recall_cv = recall_score(df_train[\"Label\"], y_pred_cv, average='binary')\n",
        "f1_cv = f1_score(df_train[\"Label\"], y_pred_cv, average='binary')\n",
        "conf_matrix_cv = confusion_matrix(df_train[\"Label\"], y_pred_cv)\n",
        "\n",
        "# Mostrar resultados de validación cruzada\n",
        "print(\"\\n Resultados de Cross-Validation con Naïve Bayes en df_train:\")\n",
        "print(f\" Accuracy: {accuracy_cv:.4f}\")\n",
        "print(f\" Precision: {precision_cv:.4f}\")\n",
        "print(f\" Recall: {recall_cv:.4f}\")\n",
        "print(f\" F1-Score: {f1_cv:.4f}\")\n",
        "print(\"\\n Matriz de Confusión:\")\n",
        "print(conf_matrix_cv)\n",
        "\n",
        "# Reporte de clasificación\n",
        "print(\"\\n Reporte de Clasificación en Cross-Validation:\")\n",
        "print(classification_report(df_train[\"Label\"], y_pred_cv))\n",
        "\n",
        "# Medir tiempo total de entrenamiento\n",
        "end_time = time.time()\n",
        "print(f\"\\n Tiempo total de entrenamiento: {(end_time - start_time) / 60:.2f} minutos\")\n",
        "\n",
        "# -------------------------------------------\n",
        "# **Entrenamiento final con df_train y evaluación en df_test_uniform**\n",
        "# -------------------------------------------\n",
        "\n",
        "# Ajustar modelo en todo df_train\n",
        "modelo_nb.fit(df_train, df_train[\"Label\"])\n",
        "\n",
        "# Predecir en el conjunto de prueba final (df_test_uniform)\n",
        "y_pred_test = modelo_nb.predict(df_test_uniform)\n",
        "\n",
        "# Calcular métricas en prueba final\n",
        "accuracy_test = accuracy_score(df_test_uniform[\"Label\"], y_pred_test)\n",
        "precision_test = precision_score(df_test_uniform[\"Label\"], y_pred_test, average='binary')\n",
        "recall_test = recall_score(df_test_uniform[\"Label\"], y_pred_test, average='binary')\n",
        "f1_test = f1_score(df_test_uniform[\"Label\"], y_pred_test, average='binary')\n",
        "conf_matrix_test = confusion_matrix(df_test_uniform[\"Label\"], y_pred_test)\n",
        "\n",
        "# Mostrar resultados en el conjunto de prueba final\n",
        "print(\"\\nResultados en el **Conjunto de Prueba Final (df_test_uniform)**:\")\n",
        "print(f\" Accuracy: {accuracy_test:.4f}\")\n",
        "print(f\" Precision: {precision_test:.4f}\")\n",
        "print(f\" Recall: {recall_test:.4f}\")\n",
        "print(f\" F1-Score: {f1_test:.4f}\")\n",
        "print(\"\\n Matriz de Confusión:\")\n",
        "print(conf_matrix_test)\n",
        "\n",
        "# Reporte de clasificación en prueba final\n",
        "print(\"\\n Reporte de Clasificación en df_test_uniform:\")\n",
        "print(classification_report(df_test_uniform[\"Label\"], y_pred_test))\n"
      ]
    },
    {
      "cell_type": "markdown",
      "metadata": {
        "id": "Jal7SSSFRCvo"
      },
      "source": [
        "### 3.3. Estudiante 3 (Julian Mondragón): Modelo 3"
      ]
    },
    {
      "cell_type": "code",
      "execution_count": 25,
      "metadata": {
        "id": "B1PZZ_hxRIrn"
      },
      "outputs": [
        {
          "name": "stdout",
          "output_type": "stream",
          "text": [
            " Ejecutando Cross-Validation con Random Forest usando df_train...\n"
          ]
        },
        {
          "name": "stderr",
          "output_type": "stream",
          "text": [
            "[Parallel(n_jobs=-1)]: Using backend LokyBackend with 8 concurrent workers.\n",
            "[Parallel(n_jobs=-1)]: Done   6 out of  10 | elapsed:  6.6min remaining:  4.4min\n",
            "[Parallel(n_jobs=-1)]: Done  10 out of  10 | elapsed:  9.4min finished\n"
          ]
        },
        {
          "name": "stdout",
          "output_type": "stream",
          "text": [
            "\n",
            " Resultados de Cross-Validation con Random Forest en df_train:\n",
            " Accuracy: 0.9322\n",
            " Precision: 0.9135\n",
            " Recall: 0.9591\n",
            " F1-Score: 0.9358\n",
            "\n",
            " Matriz de Confusión:\n",
            "[[20625  2200]\n",
            " [  991 23246]]\n",
            "\n",
            " Reporte de Clasificación en Cross-Validation:\n",
            "              precision    recall  f1-score   support\n",
            "\n",
            "           0       0.95      0.90      0.93     22825\n",
            "           1       0.91      0.96      0.94     24237\n",
            "\n",
            "    accuracy                           0.93     47062\n",
            "   macro avg       0.93      0.93      0.93     47062\n",
            "weighted avg       0.93      0.93      0.93     47062\n",
            "\n",
            "\n",
            " Tiempo total de entrenamiento: 9.36 minutos\n",
            "\n",
            "Resultados en el **Conjunto de Prueba Final (df_test_uniform)**:\n",
            " Accuracy: 0.9348\n",
            " Precision: 0.9122\n",
            " Recall: 0.9622\n",
            " F1-Score: 0.9366\n",
            "\n",
            " Matriz de Confusión:\n",
            "[[7713  787]\n",
            " [ 321 8179]]\n",
            "\n",
            " Reporte de Clasificación en df_test_uniform:\n",
            "              precision    recall  f1-score   support\n",
            "\n",
            "           0       0.96      0.91      0.93      8500\n",
            "           1       0.91      0.96      0.94      8500\n",
            "\n",
            "    accuracy                           0.93     17000\n",
            "   macro avg       0.94      0.93      0.93     17000\n",
            "weighted avg       0.94      0.93      0.93     17000\n",
            "\n"
          ]
        }
      ],
      "source": [
        "from sklearn.pipeline import Pipeline\n",
        "from sklearn.compose import ColumnTransformer\n",
        "from sklearn.ensemble import RandomForestClassifier\n",
        "from sklearn.model_selection import StratifiedKFold, cross_val_predict\n",
        "from sklearn.feature_extraction.text import TfidfVectorizer\n",
        "from sklearn.metrics import accuracy_score, precision_score, recall_score, f1_score, confusion_matrix, classification_report\n",
        "import time\n",
        "\n",
        "# Medir tiempo de ejecución\n",
        "start_time = time.time()\n",
        "\n",
        "# SEPARAR el preprocesamiento de la vectorización \n",
        "tfidf_transformer = ColumnTransformer(\n",
        "    transformers=[\n",
        "        ('tfidf_titulo', TfidfVectorizer(ngram_range=(1,3), max_features=6000), \"Titulo_tokens_clean\"),\n",
        "        ('tfidf_descripcion', TfidfVectorizer(ngram_range=(1,3), max_features=6000), \"Descripcion_tokens_clean\")\n",
        "    ]\n",
        ")\n",
        "\n",
        "# Crear pipeline donde el vectorizador **solo se ajusta dentro de cada fold**\n",
        "modelo_rf = Pipeline([\n",
        "    ('vectorizacion', tfidf_transformer),\n",
        "    ('clasificador', RandomForestClassifier(n_estimators=100, random_state=42))  \n",
        "])\n",
        "\n",
        "# Definir K-Folds estratificado (10 folds)\n",
        "kf = StratifiedKFold(n_splits=10, shuffle=True, random_state=42)\n",
        "\n",
        "# Cross-validation donde `TfidfVectorizer` se ajusta dentro de cada fold\n",
        "print(\" Ejecutando Cross-Validation con Random Forest usando df_train...\")\n",
        "\n",
        "y_pred_cv = cross_val_predict(modelo_rf, df_train, df_train[\"Label\"], cv=kf, n_jobs=-1, verbose=1)\n",
        "\n",
        "# Calcular métricas en cross-validation\n",
        "accuracy_cv = accuracy_score(df_train[\"Label\"], y_pred_cv)\n",
        "precision_cv = precision_score(df_train[\"Label\"], y_pred_cv, average='binary')\n",
        "recall_cv = recall_score(df_train[\"Label\"], y_pred_cv, average='binary')\n",
        "f1_cv = f1_score(df_train[\"Label\"], y_pred_cv, average='binary')\n",
        "conf_matrix_cv = confusion_matrix(df_train[\"Label\"], y_pred_cv)\n",
        "\n",
        "# Mostrar resultados de validación cruzada\n",
        "print(\"\\n Resultados de Cross-Validation con Random Forest en df_train:\")\n",
        "print(f\" Accuracy: {accuracy_cv:.4f}\")\n",
        "print(f\" Precision: {precision_cv:.4f}\")\n",
        "print(f\" Recall: {recall_cv:.4f}\")\n",
        "print(f\" F1-Score: {f1_cv:.4f}\")\n",
        "print(\"\\n Matriz de Confusión:\")\n",
        "print(conf_matrix_cv)\n",
        "\n",
        "# Reporte de clasificación\n",
        "print(\"\\n Reporte de Clasificación en Cross-Validation:\")\n",
        "print(classification_report(df_train[\"Label\"], y_pred_cv))\n",
        "\n",
        "# Medir tiempo total de entrenamiento\n",
        "end_time = time.time()\n",
        "print(f\"\\n Tiempo total de entrenamiento: {(end_time - start_time) / 60:.2f} minutos\")\n",
        "\n",
        "# -------------------------------------------\n",
        "# **ENTRENAMIENTO FINAL con df_train y evaluación en df_test_uniform**\n",
        "# -------------------------------------------\n",
        "\n",
        "# Ahora entrenamos el modelo en todo df_train (sin test leakage)\n",
        "modelo_rf.fit(df_train, df_train[\"Label\"])\n",
        "\n",
        "# Transformamos df_test_uniform usando los valores aprendidos en df_train\n",
        "y_pred_test = modelo_rf.predict(df_test_uniform)\n",
        "\n",
        "# Calcular métricas en prueba final\n",
        "accuracy_test = accuracy_score(df_test_uniform[\"Label\"], y_pred_test)\n",
        "precision_test = precision_score(df_test_uniform[\"Label\"], y_pred_test, average='binary')\n",
        "recall_test = recall_score(df_test_uniform[\"Label\"], y_pred_test, average='binary')\n",
        "f1_test = f1_score(df_test_uniform[\"Label\"], y_pred_test, average='binary')\n",
        "conf_matrix_test = confusion_matrix(df_test_uniform[\"Label\"], y_pred_test)\n",
        "\n",
        "# Mostrar resultados en el conjunto de prueba final\n",
        "print(\"\\nResultados en el **Conjunto de Prueba Final (df_test_uniform)**:\")\n",
        "print(f\" Accuracy: {accuracy_test:.4f}\")\n",
        "print(f\" Precision: {precision_test:.4f}\")\n",
        "print(f\" Recall: {recall_test:.4f}\")\n",
        "print(f\" F1-Score: {f1_test:.4f}\")\n",
        "print(\"\\n Matriz de Confusión:\")\n",
        "print(conf_matrix_test)\n",
        "\n",
        "# Reporte de clasificación en prueba final\n",
        "print(\"\\n Reporte de Clasificación en df_test_uniform:\")\n",
        "print(classification_report(df_test_uniform[\"Label\"], y_pred_test))\n"
      ]
    },
    {
      "cell_type": "markdown",
      "metadata": {
        "id": "L78_bpbWR5Uv"
      },
      "source": [
        "## **4. Resultados**"
      ]
    },
    {
      "cell_type": "markdown",
      "metadata": {
        "id": "8pwOPX_OR82t"
      },
      "source": [
        "### 4.1. Descripción de resultados obtenidos y cómo aportan a lograr el objetivo del modelo planteado"
      ]
    },
    {
      "cell_type": "code",
      "execution_count": null,
      "metadata": {
        "id": "NckxQoLiR7vv"
      },
      "outputs": [],
      "source": []
    },
    {
      "cell_type": "markdown",
      "metadata": {
        "id": "usVY1cNiSI87"
      },
      "source": [
        "### 4.2. Análisis de las palabras seleccionadas"
      ]
    },
    {
      "cell_type": "markdown",
      "metadata": {},
      "source": [
        "A continuación se muestra una busqueda sobre las palabras más repetidas tanto en las noticias verdaderas como en las noticias falsas. Esta busqueda ayudará a determinar qué palabras son útiles para determinar si una noticia es verídica o no"
      ]
    },
    {
      "cell_type": "code",
      "execution_count": 27,
      "metadata": {
        "id": "of9N_XUMSLI-"
      },
      "outputs": [],
      "source": [
        "from collections import Counter\n",
        "\n",
        "# Concatenar Titulo y Descripción en una sola columna\n",
        "df_procesado[\"Texto\"] = df_procesado[\"Titulo_tokens_clean\"] + \" \" + df_procesado[\"Descripcion_tokens_clean\"]\n",
        "\n",
        "# Filtrar noticias falsas y verdaderas\n",
        "noticias_falsas = df_procesado[df_procesado[\"Label\"] == 0][\"Texto\"].str.cat(sep=' ')\n",
        "noticias_verdaderas = df_procesado[df_procesado[\"Label\"] == 1][\"Texto\"].str.cat(sep=' ')\n",
        "\n",
        "# Tokenizar (dividir en palabras) y contar frecuencia\n",
        "contador_falsas = Counter(noticias_falsas.split())\n",
        "contador_verdaderas = Counter(noticias_verdaderas.split())\n",
        "\n",
        "# Obtener las 10 palabras más repetidas en cada categoría\n",
        "top_10_falsas = contador_falsas.most_common(10)\n",
        "top_10_verdaderas = contador_verdaderas.most_common(10)"
      ]
    },
    {
      "cell_type": "code",
      "execution_count": 28,
      "metadata": {},
      "outputs": [
        {
          "data": {
            "image/png": "[encoded data removed]",
            "text/plain": [
              "<Figure size 1400x600 with 2 Axes>"
            ]
          },
          "metadata": {},
          "output_type": "display_data"
        }
      ],
      "source": [
        "import matplotlib.pyplot as plt\n",
        "\n",
        "# Extraer palabras y frecuencias de las noticias falsas y verdaderas\n",
        "palabras_falsas, frecuencias_falsas = zip(*top_10_falsas)\n",
        "palabras_verdaderas, frecuencias_verdaderas = zip(*top_10_verdaderas)\n",
        "\n",
        "# Crear la figura y los subgráficos\n",
        "plt.figure(figsize=(14, 6))\n",
        "\n",
        "# Gráfico de barras para noticias falsas\n",
        "plt.subplot(1, 2, 1)  # 1 fila, 2 columnas, primer gráfico\n",
        "bars_falsas = plt.barh(palabras_falsas[::-1], frecuencias_falsas[::-1], color='red')\n",
        "plt.xlabel(\"Frecuencia\")\n",
        "plt.ylabel(\"Palabras\")\n",
        "plt.title(\"Top 10 palabras en noticias FALSAS\")\n",
        "\n",
        "# Etiquetas sobre cada barra\n",
        "for bar in bars_falsas:\n",
        "    plt.text(bar.get_width() + 5, bar.get_y() + bar.get_height()/2, \n",
        "             str(int(bar.get_width())), ha='left', va='center', fontsize=10, color='black')\n",
        "\n",
        "# Gráfico de barras para noticias verdaderas\n",
        "plt.subplot(1, 2, 2)  # 1 fila, 2 columnas, segundo gráfico\n",
        "bars_verdaderas = plt.barh(palabras_verdaderas[::-1], frecuencias_verdaderas[::-1], color='green')\n",
        "plt.xlabel(\"Frecuencia\")\n",
        "plt.ylabel(\"Palabras\")\n",
        "plt.title(\"Top 10 palabras en noticias VERDADERAS\")\n",
        "\n",
        "# Etiquetas sobre cada barra\n",
        "for bar in bars_verdaderas:\n",
        "    plt.text(bar.get_width() + 5, bar.get_y() + bar.get_height()/2, \n",
        "             str(int(bar.get_width())), ha='left', va='center', fontsize=10, color='black')\n",
        "\n",
        "# Ajustar diseño\n",
        "plt.tight_layout()\n",
        "\n",
        "# Mostrar gráfico\n",
        "plt.show()"
      ]
    },
    {
      "cell_type": "markdown",
      "metadata": {},
      "source": [
        "Se ve que la palabra más repetida tanto en noticias verdaderas como en noticias falsas es 'gobierno' y en proporciones relaivamente similares. No obstante, palabras como 'iniciativa', 'segun' y 'podria' hacen parte del top 10 de las palabras más frecuentes en noticias  falsas, por lo que podrían seleccionarse para seleccionar noticias no verídicas.  "
      ]
    },
    {
      "cell_type": "markdown",
      "metadata": {
        "id": "FoG224E0SWsS"
      },
      "source": [
        "### 4.3 Archivo de predicciones sobre los datos de prueba en formato CSV"
      ]
    },
    {
      "cell_type": "code",
      "execution_count": 173,
      "metadata": {},
      "outputs": [
        {
          "data": {
            "text/html": [
              "<div>\n",
              "<style scoped>\n",
              "    .dataframe tbody tr th:only-of-type {\n",
              "        vertical-align: middle;\n",
              "    }\n",
              "\n",
              "    .dataframe tbody tr th {\n",
              "        vertical-align: top;\n",
              "    }\n",
              "\n",
              "    .dataframe thead th {\n",
              "        text-align: right;\n",
              "    }\n",
              "</style>\n",
              "<table border=\"1\" class=\"dataframe\">\n",
              "  <thead>\n",
              "    <tr style=\"text-align: right;\">\n",
              "      <th></th>\n",
              "      <th>ID</th>\n",
              "      <th>Titulo</th>\n",
              "      <th>Descripcion</th>\n",
              "      <th>Fecha</th>\n",
              "    </tr>\n",
              "  </thead>\n",
              "  <tbody>\n",
              "    <tr>\n",
              "      <th>0</th>\n",
              "      <td>ID</td>\n",
              "      <td>La mesa del congreso censura un encuentro inte...</td>\n",
              "      <td>Portavoces de Ciudadanos, PNV, UPN, PSOE, Unid...</td>\n",
              "      <td>30/10/2018</td>\n",
              "    </tr>\n",
              "    <tr>\n",
              "      <th>1</th>\n",
              "      <td>ID</td>\n",
              "      <td>La brecha digital que dificulta el acceso de a...</td>\n",
              "      <td>No es la primera vez que los ciudadanos vulner...</td>\n",
              "      <td>15/03/2023</td>\n",
              "    </tr>\n",
              "    <tr>\n",
              "      <th>2</th>\n",
              "      <td>ID</td>\n",
              "      <td>PP apremia al EQUO a presentar una propuesta d...</td>\n",
              "      <td>El partido morado reprocha que los socialistas...</td>\n",
              "      <td>01/07/2019</td>\n",
              "    </tr>\n",
              "    <tr>\n",
              "      <th>3</th>\n",
              "      <td>ID</td>\n",
              "      <td>De soberano garante de la democracia a rey cor...</td>\n",
              "      <td>La renuncia de Felipe VI a su herencia, proced...</td>\n",
              "      <td>16/03/2020</td>\n",
              "    </tr>\n",
              "    <tr>\n",
              "      <th>4</th>\n",
              "      <td>ID</td>\n",
              "      <td>El Gobierno aprobará este martes detraer los b...</td>\n",
              "      <td>El Ejecutivo también prorrogará la suspensión ...</td>\n",
              "      <td>13/09/2021</td>\n",
              "    </tr>\n",
              "  </tbody>\n",
              "</table>\n",
              "</div>"
            ],
            "text/plain": [
              "   ID                                             Titulo  \\\n",
              "0  ID  La mesa del congreso censura un encuentro inte...   \n",
              "1  ID  La brecha digital que dificulta el acceso de a...   \n",
              "2  ID  PP apremia al EQUO a presentar una propuesta d...   \n",
              "3  ID  De soberano garante de la democracia a rey cor...   \n",
              "4  ID  El Gobierno aprobará este martes detraer los b...   \n",
              "\n",
              "                                         Descripcion       Fecha  \n",
              "0  Portavoces de Ciudadanos, PNV, UPN, PSOE, Unid...  30/10/2018  \n",
              "1  No es la primera vez que los ciudadanos vulner...  15/03/2023  \n",
              "2  El partido morado reprocha que los socialistas...  01/07/2019  \n",
              "3  La renuncia de Felipe VI a su herencia, proced...  16/03/2020  \n",
              "4  El Ejecutivo también prorrogará la suspensión ...  13/09/2021  "
            ]
          },
          "execution_count": 173,
          "metadata": {},
          "output_type": "execute_result"
        }
      ],
      "source": [
        "df_nuevo = pd.read_csv('./Data/fake_news_test.csv', delimiter=\";\")\n",
        "df_nuevo.head()"
      ]
    },
    {
      "cell_type": "code",
      "execution_count": 174,
      "metadata": {
        "id": "HrTNtDtfSfrN"
      },
      "outputs": [
        {
          "name": "stdout",
          "output_type": "stream",
          "text": [
            "Data limpia\n"
          ]
        },
        {
          "name": "stderr",
          "output_type": "stream",
          "text": [
            "Pandas Apply: 100%|██████████| 999/999 [00:00<00:00, 12551.93it/s]\n",
            "Pandas Apply: 100%|██████████| 999/999 [00:00<00:00, 4518.12it/s]\n"
          ]
        },
        {
          "name": "stdout",
          "output_type": "stream",
          "text": [
            "Texto procesado\n"
          ]
        }
      ],
      "source": [
        "# FUNCIONES DE PREPROCESAMIENTO\n",
        "def remove_non_ascii(words):\n",
        "    \"\"\"Elimina caracteres no ASCII en una lista de palabras.\"\"\"\n",
        "    return [unicodedata.normalize('NFKD', w).encode('ascii', 'ignore').decode('utf-8', 'ignore') for w in words if w]\n",
        "\n",
        "def to_lowercase(words):\n",
        "    \"\"\"Convierte todas las palabras a minúsculas.\"\"\"\n",
        "    return [w.lower() for w in words]\n",
        "\n",
        "def remove_punctuation(words):\n",
        "    \"\"\"Elimina signos de puntuación de una lista de palabras.\"\"\"\n",
        "    return [re.sub(r'[^\\w\\s]', '', w) for w in words if w]\n",
        "\n",
        "def replace_numbers(words):\n",
        "    \"\"\"Reemplaza números por su versión en texto en español.\"\"\"\n",
        "    return [num2words(w, lang=\"es\") if w.isdigit() else w for w in words]\n",
        "\n",
        "def remove_stopwords(words):\n",
        "    \"\"\"Elimina stopwords en español.\"\"\"\n",
        "    return [w for w in words if w not in stop_words]\n",
        "\n",
        "def preprocessing(words):\n",
        "    \"\"\"Aplica todas las funciones de preprocesamiento en secuencia.\"\"\"\n",
        "    words = to_lowercase(words)\n",
        "    words = replace_numbers(words)\n",
        "    words = remove_punctuation(words)\n",
        "    words = remove_non_ascii(words)\n",
        "    words = remove_stopwords(words)\n",
        "    return words\n",
        "\n",
        "def procesar_texto(df, columnas):\n",
        "    \"\"\"\n",
        "    Tokeniza, lematiza y normaliza texto en múltiples columnas de un DataFrame.\n",
        "    \n",
        "    Parámetros:\n",
        "    - df (DataFrame): DataFrame con las columnas de texto a procesar.\n",
        "    - columnas (list): Lista de columnas a procesar.\n",
        "    \n",
        "    Retorna:\n",
        "    - DataFrame con columnas nuevas *_tokens y *_lemmas.\n",
        "    \"\"\"\n",
        "    df = df.copy()\n",
        "    df[columnas] = df[columnas].astype(str).fillna(\"\")\n",
        "\n",
        "    datos_procesados = {}\n",
        "    \n",
        "    for col in columnas:\n",
        "        resultados = [\n",
        "            ([token.text for token in doc if not token.is_space],  # Tokens\n",
        "             [token.lemma_ for token in doc if not token.is_space])  # Lemas\n",
        "            for doc in nlp.pipe(df[col], batch_size=100)  # Mayor batch_size para eficiencia\n",
        "        ]\n",
        "        \n",
        "        df[f\"{col}_tokens\"], df[f\"{col}_lemmas\"] = zip(*resultados)\n",
        "        \n",
        "        # Aplicar procesamiento en paralelo con swifter\n",
        "        datos_procesados[f\"{col}_tokens_clean\"] = df[f\"{col}_tokens\"].swifter.apply(preprocessing)\n",
        "\n",
        "    return pd.DataFrame(datos_procesados)\n",
        "\n",
        "# FUNCIONES DE LIMPIEZA DE DATOS\n",
        "def remove_duplicates(df: pd.DataFrame):\n",
        "    \"\"\"Elimina filas duplicadas completamente idénticas.\"\"\"\n",
        "    return df.drop_duplicates().reset_index(drop=True)\n",
        "\n",
        "def limpiar_data(data_set):\n",
        "    \"\"\"Aplica eliminación de duplicados.\"\"\"\n",
        "    df_limpio = remove_duplicates(data_set)\n",
        "    return df_limpio\n",
        "\n",
        "def limpiar_y_procesar(data_set, columnas_texto):\n",
        "    \"\"\"\n",
        "    Aplica limpieza y procesamiento de datos para textos no etiquetados.\n",
        "\n",
        "    Parámetros:\n",
        "    - data_set (DataFrame): Dataset con datos sin etiquetas.\n",
        "    - columnas_texto (list): Lista de columnas a limpiar y tokenizar.\n",
        "\n",
        "    Retorna:\n",
        "    - DataFrame procesado con nuevas columnas *_tokens_clean.\n",
        "    \"\"\"\n",
        "    # Limpiar datos (eliminar duplicados)\n",
        "    data_set_limpio = limpiar_data(data_set)\n",
        "    print(\"Data limpia\")\n",
        "\n",
        "    # Procesar texto (tokenización, lematización, normalización)\n",
        "    df_procesado = procesar_texto(data_set_limpio, columnas_texto)\n",
        "    print(\"Texto procesado\")\n",
        "\n",
        "    return df_procesado\n",
        "\n",
        "def eliminar_columnas(df, columnas=[\"Fecha\", \"ID\"]):\n",
        "    \"\"\"\n",
        "    Elimina las columnas especificadas de un DataFrame.\n",
        "\n",
        "    Parámetros:\n",
        "    - df (pd.DataFrame): DataFrame original.\n",
        "    - columnas (list): Lista de columnas a eliminar.\n",
        "\n",
        "    Retorna:\n",
        "    - pd.DataFrame: DataFrame sin las columnas especificadas.\n",
        "    \"\"\"\n",
        "    return df.drop(columns=[col for col in columnas if col in df.columns], errors=\"ignore\")\n",
        "\n",
        "df_nuevo = remove_duplicates(df_nuevo)\n",
        "\n",
        "# Uso\n",
        "df_nuevo2 = eliminar_columnas(df_nuevo)\n",
        "\n",
        "# Verificar que las columnas necesarias existan\n",
        "columnas_texto = [\"Titulo\", \"Descripcion\"]\n",
        "\n",
        "# Aplicar procesamiento\n",
        "df_nuevo2 = limpiar_y_procesar(df_nuevo, columnas_texto)\n",
        "df_nuevo2[\"Titulo_tokens_clean\"] = df_nuevo2[\"Titulo_tokens_clean\"].apply(lambda x: \" \".join(x) if isinstance(x, list) else x)\n",
        "df_nuevo2[\"Descripcion_tokens_clean\"] = df_nuevo2[\"Descripcion_tokens_clean\"].apply(lambda x: \" \".join(x) if isinstance(x, list) else x)\n",
        "\n",
        "# Aplicar la transformación con el vectorizador entrenado\n",
        "X_nuevo = modelo_rf.named_steps[\"vectorizacion\"].transform(df_nuevo2[[\"Titulo_tokens_clean\", \"Descripcion_tokens_clean\"]])\n",
        "\n",
        "# Hacer la predicción\n",
        "y_pred_nuevo = modelo_rf.named_steps[\"clasificador\"].predict(X_nuevo)\n",
        "\n",
        "# Agregar la columna de predicciones al dataset\n",
        "df_nuevo[\"Label\"] = y_pred_nuevo\n",
        "\n",
        "df_nuevo.head()\n",
        "\n",
        "df_nuevo.to_csv('./Data/fake_news_test_pred.csv', index=False)\n"
      ]
    }
  ],
  "metadata": {
    "colab": {
      "provenance": []
    },
    "kernelspec": {
      "display_name": "uniandes",
      "language": "python",
      "name": "python3"
    },
    "language_info": {
      "codemirror_mode": {
        "name": "ipython",
        "version": 3
      },
      "file_extension": ".py",
      "mimetype": "text/x-python",
      "name": "python",
      "nbconvert_exporter": "python",
      "pygments_lexer": "ipython3",
      "version": "3.12.8"
    }
  },
  "nbformat": 4,
  "nbformat_minor": 0
}
