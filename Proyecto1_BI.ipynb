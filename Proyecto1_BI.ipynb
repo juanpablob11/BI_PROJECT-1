{
  "nbformat": 4,
  "nbformat_minor": 0,
  "metadata": {
    "colab": {
      "provenance": []
    },
    "kernelspec": {
      "name": "python3",
      "display_name": "Python 3"
    },
    "language_info": {
      "name": "python"
    }
  },
  "cells": [
    {
      "cell_type": "markdown",
      "source": [
        "# **PROYECTO 1 BI - DETECCIÓN DE FAKE NEWS**\n",
        "---\n",
        "\n",
        "Integrantes equipo #11:\n",
        "*   Estudiante #1: Juan Pablo Barón - 202210502\n",
        "*   Estudiante #2: María José Amorocho - 202220179\n",
        "*   Estudiante #3: Julian Mondragón - 202221122\n",
        "\n",
        "---"
      ],
      "metadata": {
        "id": "ncwsXz1pOXLB"
      }
    },
    {
      "cell_type": "markdown",
      "source": [
        "## **1. Entendimiento del negocio y enfoque analítico**"
      ],
      "metadata": {
        "id": "0vnEF0APPGvF"
      }
    },
    {
      "cell_type": "markdown",
      "source": [
        "### 1.1. Generalidades"
      ],
      "metadata": {
        "id": "tR_wD96zPbrD"
      }
    },
    {
      "cell_type": "code",
      "source": [],
      "metadata": {
        "id": "ERM0K1K1O6Na"
      },
      "execution_count": null,
      "outputs": []
    },
    {
      "cell_type": "markdown",
      "source": [
        "### 1.2. Impacto y enfoque analítico"
      ],
      "metadata": {
        "id": "jXLMzYS7PiYA"
      }
    },
    {
      "cell_type": "code",
      "source": [],
      "metadata": {
        "id": "kuRabCGzPk_L"
      },
      "execution_count": null,
      "outputs": []
    },
    {
      "cell_type": "markdown",
      "source": [
        "---\n",
        "\n",
        "## **2. Entendimiento y preparación de los datos**"
      ],
      "metadata": {
        "id": "hs-0HUA1P8NJ"
      }
    },
    {
      "cell_type": "markdown",
      "source": [
        "### 2.1. Entendimiento de datos"
      ],
      "metadata": {
        "id": "4reuwBZdQgBb"
      }
    },
    {
      "cell_type": "code",
      "source": [],
      "metadata": {
        "id": "uM7g2qJ3QCsj"
      },
      "execution_count": null,
      "outputs": []
    },
    {
      "cell_type": "markdown",
      "source": [
        "### 2.2. Preparación de datos"
      ],
      "metadata": {
        "id": "HywvPf5FQi0x"
      }
    },
    {
      "cell_type": "code",
      "source": [],
      "metadata": {
        "id": "UyMzRFpvQmLd"
      },
      "execution_count": null,
      "outputs": []
    },
    {
      "cell_type": "markdown",
      "source": [
        "---\n",
        "\n",
        "## **3. Modelado y evaluación**"
      ],
      "metadata": {
        "id": "usw9mrH3Qp8Y"
      }
    },
    {
      "cell_type": "markdown",
      "source": [
        "### 3.1. Estudiante 1 (Juan Pablo Barón): Modelo 1"
      ],
      "metadata": {
        "id": "Y7FRRWnmQzCQ"
      }
    },
    {
      "cell_type": "code",
      "source": [],
      "metadata": {
        "id": "LFljfw-WQsV-"
      },
      "execution_count": null,
      "outputs": []
    },
    {
      "cell_type": "markdown",
      "source": [
        "### 3.2. Estudiante 2 (María José Amorocho): Modelo 2"
      ],
      "metadata": {
        "id": "OcdT6wSUQ7Rp"
      }
    },
    {
      "cell_type": "code",
      "source": [],
      "metadata": {
        "id": "hjzrMKngQ_ke"
      },
      "execution_count": null,
      "outputs": []
    },
    {
      "cell_type": "markdown",
      "source": [
        "### 3.3. Estudiante 3 (Julian Mondragón): Modelo 3"
      ],
      "metadata": {
        "id": "Jal7SSSFRCvo"
      }
    },
    {
      "cell_type": "code",
      "source": [],
      "metadata": {
        "id": "B1PZZ_hxRIrn"
      },
      "execution_count": null,
      "outputs": []
    },
    {
      "cell_type": "markdown",
      "source": [
        "## **4. Resultados**"
      ],
      "metadata": {
        "id": "L78_bpbWR5Uv"
      }
    },
    {
      "cell_type": "markdown",
      "source": [
        "### 4.1. Descripción de resultados obtenidos y cómo aportan a lograr el objetivo del modelo planteado"
      ],
      "metadata": {
        "id": "8pwOPX_OR82t"
      }
    },
    {
      "cell_type": "code",
      "source": [],
      "metadata": {
        "id": "NckxQoLiR7vv"
      },
      "execution_count": null,
      "outputs": []
    },
    {
      "cell_type": "markdown",
      "source": [
        "### 4.2. Estrategia"
      ],
      "metadata": {
        "id": "usVY1cNiSI87"
      }
    },
    {
      "cell_type": "code",
      "source": [],
      "metadata": {
        "id": "of9N_XUMSLI-"
      },
      "execution_count": null,
      "outputs": []
    },
    {
      "cell_type": "markdown",
      "source": [
        "### 4.3 Archivo de predicciones sobre los datos de prueba en formato CSV"
      ],
      "metadata": {
        "id": "FoG224E0SWsS"
      }
    },
    {
      "cell_type": "code",
      "source": [],
      "metadata": {
        "id": "HrTNtDtfSfrN"
      },
      "execution_count": null,
      "outputs": []
    }
  ]
}